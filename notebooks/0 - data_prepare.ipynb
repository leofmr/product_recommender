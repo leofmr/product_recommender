{
 "cells": [
  {
   "cell_type": "markdown",
   "metadata": {},
   "source": [
    "# Introdução\n",
    "\n",
    "Nesse notebook é realizada a análise preliminar dos dados completos e sua\n",
    "separação em dados de treinamento e teste. Nessa análise preliminar iremos\n",
    "fazer diagnósticos da qualidade dos dados e quando necessário ajustá-lo. Isso,\n",
    "compreende correção do tipo dos dados, avaliação da consistência, análise de\n",
    "dados faltantes (sem considerar técnicas estatísticas de imputação) e remoção\n",
    "de dados duplicados.\n",
    "\n",
    "O segundo objetivo é a separação dos dados em dados de treinamento e teste para\n",
    "que os modelos de classificação e recomendação possam vir a ter sua capacidade\n",
    "de generalização validada em etapa futura. \n",
    "\n",
    "A nossa base de dados é respectiva a registros de resultados de queries. Estes\n",
    "são dados úteis para a modelagem do ranqueamento de resultados a partir de uma\n",
    "query. Porém, para a modelagem da predição de categorias de produtos precisamos\n",
    "de dados relativos apenas a produtos. Dessa forma, iremos separar os dados em\n",
    "dois dataset, e em seguida separar cada um destes em treinamento e testes,\n",
    "totalizando ao todo 4 datasets. Para o caso dos dados de produtos, precisamos\n",
    "garantir ainda que ambos os dados de treinamento quanto teste possuam as\n",
    "categorias representadas corretamente."
   ]
  },
  {
   "cell_type": "markdown",
   "metadata": {},
   "source": [
    "# Imports"
   ]
  },
  {
   "cell_type": "code",
   "execution_count": 1,
   "metadata": {},
   "outputs": [],
   "source": [
    "import pandas as pd\n",
    "import matplotlib.pyplot as plt\n",
    "from scipy import stats\n",
    "from sklearn.model_selection import train_test_split"
   ]
  },
  {
   "cell_type": "markdown",
   "metadata": {},
   "source": [
    "# Carregamento dos dados"
   ]
  },
  {
   "cell_type": "code",
   "execution_count": 2,
   "metadata": {},
   "outputs": [
    {
     "data": {
      "text/html": [
       "<div>\n",
       "<style scoped>\n",
       "    .dataframe tbody tr th:only-of-type {\n",
       "        vertical-align: middle;\n",
       "    }\n",
       "\n",
       "    .dataframe tbody tr th {\n",
       "        vertical-align: top;\n",
       "    }\n",
       "\n",
       "    .dataframe thead th {\n",
       "        text-align: right;\n",
       "    }\n",
       "</style>\n",
       "<table border=\"1\" class=\"dataframe\">\n",
       "  <thead>\n",
       "    <tr style=\"text-align: right;\">\n",
       "      <th></th>\n",
       "      <th>product_id</th>\n",
       "      <th>seller_id</th>\n",
       "      <th>query</th>\n",
       "      <th>search_page</th>\n",
       "      <th>position</th>\n",
       "      <th>title</th>\n",
       "      <th>concatenated_tags</th>\n",
       "      <th>creation_date</th>\n",
       "      <th>price</th>\n",
       "      <th>weight</th>\n",
       "      <th>express_delivery</th>\n",
       "      <th>minimum_quantity</th>\n",
       "      <th>view_counts</th>\n",
       "      <th>order_counts</th>\n",
       "      <th>category</th>\n",
       "    </tr>\n",
       "  </thead>\n",
       "  <tbody>\n",
       "    <tr>\n",
       "      <th>0</th>\n",
       "      <td>11394449</td>\n",
       "      <td>8324141</td>\n",
       "      <td>espirito santo</td>\n",
       "      <td>2</td>\n",
       "      <td>6</td>\n",
       "      <td>Mandala Espírito Santo</td>\n",
       "      <td>mandala mdf</td>\n",
       "      <td>2015-11-14 19:42:12</td>\n",
       "      <td>171.890000</td>\n",
       "      <td>1200.0</td>\n",
       "      <td>1</td>\n",
       "      <td>4</td>\n",
       "      <td>244</td>\n",
       "      <td>NaN</td>\n",
       "      <td>Decoração</td>\n",
       "    </tr>\n",
       "    <tr>\n",
       "      <th>1</th>\n",
       "      <td>15534262</td>\n",
       "      <td>6939286</td>\n",
       "      <td>cartao de visita</td>\n",
       "      <td>2</td>\n",
       "      <td>0</td>\n",
       "      <td>Cartão de Visita</td>\n",
       "      <td>cartao visita panfletos tag adesivos copos lon...</td>\n",
       "      <td>2018-04-04 20:55:07</td>\n",
       "      <td>77.670000</td>\n",
       "      <td>8.0</td>\n",
       "      <td>1</td>\n",
       "      <td>5</td>\n",
       "      <td>124</td>\n",
       "      <td>NaN</td>\n",
       "      <td>Papel e Cia</td>\n",
       "    </tr>\n",
       "    <tr>\n",
       "      <th>2</th>\n",
       "      <td>16153119</td>\n",
       "      <td>9835835</td>\n",
       "      <td>expositor de esmaltes</td>\n",
       "      <td>1</td>\n",
       "      <td>38</td>\n",
       "      <td>Organizador expositor p/ 70 esmaltes</td>\n",
       "      <td>expositor</td>\n",
       "      <td>2018-10-13 20:57:07</td>\n",
       "      <td>73.920006</td>\n",
       "      <td>2709.0</td>\n",
       "      <td>1</td>\n",
       "      <td>1</td>\n",
       "      <td>59</td>\n",
       "      <td>NaN</td>\n",
       "      <td>Outros</td>\n",
       "    </tr>\n",
       "    <tr>\n",
       "      <th>3</th>\n",
       "      <td>15877252</td>\n",
       "      <td>8071206</td>\n",
       "      <td>medidas lencol para berco americano</td>\n",
       "      <td>1</td>\n",
       "      <td>6</td>\n",
       "      <td>Jogo de Lençol Berço Estampado</td>\n",
       "      <td>t jogo lencol menino lencol berco</td>\n",
       "      <td>2017-02-27 13:26:03</td>\n",
       "      <td>118.770004</td>\n",
       "      <td>0.0</td>\n",
       "      <td>1</td>\n",
       "      <td>1</td>\n",
       "      <td>180</td>\n",
       "      <td>1.0</td>\n",
       "      <td>Bebê</td>\n",
       "    </tr>\n",
       "    <tr>\n",
       "      <th>4</th>\n",
       "      <td>15917108</td>\n",
       "      <td>7200773</td>\n",
       "      <td>adesivo box banheiro</td>\n",
       "      <td>3</td>\n",
       "      <td>38</td>\n",
       "      <td>ADESIVO BOX DE BANHEIRO</td>\n",
       "      <td>adesivo box banheiro</td>\n",
       "      <td>2017-05-09 13:18:38</td>\n",
       "      <td>191.810000</td>\n",
       "      <td>507.0</td>\n",
       "      <td>1</td>\n",
       "      <td>6</td>\n",
       "      <td>34</td>\n",
       "      <td>NaN</td>\n",
       "      <td>Decoração</td>\n",
       "    </tr>\n",
       "  </tbody>\n",
       "</table>\n",
       "</div>"
      ],
      "text/plain": [
       "   product_id  seller_id                                query  search_page  \\\n",
       "0    11394449    8324141                       espirito santo            2   \n",
       "1    15534262    6939286                     cartao de visita            2   \n",
       "2    16153119    9835835                expositor de esmaltes            1   \n",
       "3    15877252    8071206  medidas lencol para berco americano            1   \n",
       "4    15917108    7200773                 adesivo box banheiro            3   \n",
       "\n",
       "   position                                 title  \\\n",
       "0         6                Mandala Espírito Santo   \n",
       "1         0                      Cartão de Visita   \n",
       "2        38  Organizador expositor p/ 70 esmaltes   \n",
       "3         6        Jogo de Lençol Berço Estampado   \n",
       "4        38               ADESIVO BOX DE BANHEIRO   \n",
       "\n",
       "                                   concatenated_tags        creation_date  \\\n",
       "0                                        mandala mdf  2015-11-14 19:42:12   \n",
       "1  cartao visita panfletos tag adesivos copos lon...  2018-04-04 20:55:07   \n",
       "2                                          expositor  2018-10-13 20:57:07   \n",
       "3                  t jogo lencol menino lencol berco  2017-02-27 13:26:03   \n",
       "4                               adesivo box banheiro  2017-05-09 13:18:38   \n",
       "\n",
       "        price  weight  express_delivery  minimum_quantity  view_counts  \\\n",
       "0  171.890000  1200.0                 1                 4          244   \n",
       "1   77.670000     8.0                 1                 5          124   \n",
       "2   73.920006  2709.0                 1                 1           59   \n",
       "3  118.770004     0.0                 1                 1          180   \n",
       "4  191.810000   507.0                 1                 6           34   \n",
       "\n",
       "   order_counts     category  \n",
       "0           NaN    Decoração  \n",
       "1           NaN  Papel e Cia  \n",
       "2           NaN       Outros  \n",
       "3           1.0         Bebê  \n",
       "4           NaN    Decoração  "
      ]
     },
     "execution_count": 2,
     "metadata": {},
     "output_type": "execute_result"
    }
   ],
   "source": [
    "df = pd.read_csv(r\"..\\data\\complete_dataset.csv\")\n",
    "df.head()"
   ]
  },
  {
   "cell_type": "code",
   "execution_count": 3,
   "metadata": {},
   "outputs": [
    {
     "data": {
      "text/plain": [
       "(38507, 15)"
      ]
     },
     "execution_count": 3,
     "metadata": {},
     "output_type": "execute_result"
    }
   ],
   "source": [
    "df.shape"
   ]
  },
  {
   "cell_type": "markdown",
   "metadata": {},
   "source": [
    "Os dados foram carregados corretamente e ao todo temos 38.507 registro com\n",
    "15 atributos."
   ]
  },
  {
   "cell_type": "markdown",
   "metadata": {},
   "source": [
    "# Análise preliminar dos dados\n",
    "\n",
    "## Dados faltantes"
   ]
  },
  {
   "cell_type": "code",
   "execution_count": 4,
   "metadata": {},
   "outputs": [
    {
     "data": {
      "text/plain": [
       "product_id            0.00\n",
       "seller_id             0.00\n",
       "query                 0.00\n",
       "search_page           0.00\n",
       "position              0.00\n",
       "title                 0.00\n",
       "concatenated_tags     0.01\n",
       "creation_date         0.00\n",
       "price                 0.00\n",
       "weight                0.15\n",
       "express_delivery      0.00\n",
       "minimum_quantity      0.00\n",
       "view_counts           0.00\n",
       "order_counts         52.95\n",
       "category              0.00\n",
       "dtype: float64"
      ]
     },
     "execution_count": 4,
     "metadata": {},
     "output_type": "execute_result"
    }
   ],
   "source": [
    "df.isna().mean().mul(100).round(2)"
   ]
  },
  {
   "cell_type": "markdown",
   "metadata": {},
   "source": [
    "Apenas a coluna `order_countts` possui uma quantidade de dados faltantes\n",
    "significativa (52,95%). Outras colunas que também possuem dados faltantes são\n",
    "`weight` (0,01%) e `concatenated_tags` (0,15%), porém estes, em um nível\n",
    "desprezível."
   ]
  },
  {
   "cell_type": "code",
   "execution_count": 5,
   "metadata": {},
   "outputs": [
    {
     "data": {
      "text/plain": [
       "False"
      ]
     },
     "execution_count": 5,
     "metadata": {},
     "output_type": "execute_result"
    }
   ],
   "source": [
    "(df[\"order_counts\"] == 0).any()"
   ]
  },
  {
   "cell_type": "markdown",
   "metadata": {},
   "source": [
    "O fato de não termos nenhum registro de `order_counts` como sendo igual a 0.\n",
    "Pode ser um indicativo de que caso um item não receba ordens na query, a\n",
    "observação ficará como `missing`. Supondo que esse realmente seja o caso (o que parece ser bastante razoável), para sanarmos essa grande quantidade de dados faltantes em `order_counts` basta preencher dados faltantes dessa coluna com\n",
    "`0`."
   ]
  },
  {
   "cell_type": "code",
   "execution_count": 6,
   "metadata": {},
   "outputs": [
    {
     "data": {
      "text/plain": [
       "False"
      ]
     },
     "execution_count": 6,
     "metadata": {},
     "output_type": "execute_result"
    }
   ],
   "source": [
    "df[\"order_counts\"].fillna(0, inplace=True)\n",
    "df[\"order_counts\"].isna().any()"
   ]
  },
  {
   "cell_type": "markdown",
   "metadata": {},
   "source": [
    "## Verificando o tipo das variáveis\n",
    "\n",
    "Para simplificar a conformação dos dados vamos tratar variáveis categóricas\n",
    "como textuais `object`."
   ]
  },
  {
   "cell_type": "code",
   "execution_count": 7,
   "metadata": {},
   "outputs": [
    {
     "data": {
      "text/plain": [
       "product_id             int64\n",
       "seller_id              int64\n",
       "query                 object\n",
       "search_page            int64\n",
       "position               int64\n",
       "title                 object\n",
       "concatenated_tags     object\n",
       "creation_date         object\n",
       "price                float64\n",
       "weight               float64\n",
       "express_delivery       int64\n",
       "minimum_quantity       int64\n",
       "view_counts            int64\n",
       "order_counts         float64\n",
       "category              object\n",
       "dtype: object"
      ]
     },
     "execution_count": 7,
     "metadata": {},
     "output_type": "execute_result"
    }
   ],
   "source": [
    "df.dtypes"
   ]
  },
  {
   "cell_type": "markdown",
   "metadata": {},
   "source": [
    "A primeira variável que será modificada é a `creation_date`. Como não\n",
    "especificamos no momento do carregamento dos dados qual coluna do dataset\n",
    "deveria ser parseado para data, esse campo foi carregado como um `object` ao\n",
    "invés de um `datetime`.\n",
    "\n",
    "Avaliando as primeiras linhas dessa coluna, vemos que ela aparentemente está\n",
    "formatada corretamente. Para nos certificarmos que a conversão ocorrerá como\n",
    "esperado ao invés de deixar que o método de conversão infira o formato da data\n",
    "esse formato será especificado (`Y-m-d H:M:S`). "
   ]
  },
  {
   "cell_type": "code",
   "execution_count": 8,
   "metadata": {},
   "outputs": [
    {
     "data": {
      "text/plain": [
       "0    2015-11-14 19:42:12\n",
       "1    2018-04-04 20:55:07\n",
       "2    2018-10-13 20:57:07\n",
       "3    2017-02-27 13:26:03\n",
       "4    2017-05-09 13:18:38\n",
       "Name: creation_date, dtype: object"
      ]
     },
     "execution_count": 8,
     "metadata": {},
     "output_type": "execute_result"
    }
   ],
   "source": [
    "df[\"creation_date\"].head()"
   ]
  },
  {
   "cell_type": "code",
   "execution_count": 9,
   "metadata": {},
   "outputs": [
    {
     "data": {
      "text/plain": [
       "0   2015-11-14 19:42:12\n",
       "1   2018-04-04 20:55:07\n",
       "2   2018-10-13 20:57:07\n",
       "3   2017-02-27 13:26:03\n",
       "4   2017-05-09 13:18:38\n",
       "Name: creation_date, dtype: datetime64[ns]"
      ]
     },
     "execution_count": 9,
     "metadata": {},
     "output_type": "execute_result"
    }
   ],
   "source": [
    "df[\"creation_date\"] = pd.to_datetime(df[\"creation_date\"],\n",
    "                                     format=\"%Y-%m-%d %H:%M:%S\")\n",
    "df[\"creation_date\"].head()"
   ]
  },
  {
   "cell_type": "markdown",
   "metadata": {},
   "source": [
    "Apesar de menor importância outra variável que pode ter seu tipo modificado é\n",
    "a `order_counts` que antes estava definida como `float`. A variável estava\n",
    "tipada dessa forma pois possuia registros faltantes entre suas observações.\n",
    "Como já acabamos com esse problema, faz sentido para esse tipo de dado\n",
    "convertê-lo para número inteiro."
   ]
  },
  {
   "cell_type": "code",
   "execution_count": 10,
   "metadata": {},
   "outputs": [
    {
     "data": {
      "text/plain": [
       "0    0\n",
       "1    0\n",
       "2    0\n",
       "3    1\n",
       "4    0\n",
       "Name: order_counts, dtype: int32"
      ]
     },
     "execution_count": 10,
     "metadata": {},
     "output_type": "execute_result"
    }
   ],
   "source": [
    "df[\"order_counts\"] = df[\"order_counts\"].astype(\"int\")\n",
    "df[\"order_counts\"].head()"
   ]
  },
  {
   "cell_type": "markdown",
   "metadata": {},
   "source": [
    "Por fim, vamos verificar se as variáveis categórias `express_delivery` e\n",
    "`category`, possuem entre as suas observações apenas valores referentes às suas\n",
    "categorias."
   ]
  },
  {
   "cell_type": "code",
   "execution_count": 11,
   "metadata": {},
   "outputs": [],
   "source": [
    "# verificando se temos apenas registros com observações iguais às esperadas\n",
    "# tanto para a variável express_delivery quanto para category\n",
    "assert set(df[\"express_delivery\"].unique()) == set([1, 0])\n",
    "cat_list = [\"Bebê\", \"Bijuterias e Jóias\", \"Decoração\",\n",
    "            \"Lembrancinhas\", \"Papel e Cia\", \"Outros\"]\n",
    "assert set(df[\"category\"].unique()) == set(cat_list)"
   ]
  },
  {
   "cell_type": "markdown",
   "metadata": {},
   "source": [
    "Após essa última verificação vemos que ambas as variáveis tem o preenchimento\n",
    "correto de suas categoriais."
   ]
  },
  {
   "cell_type": "markdown",
   "metadata": {},
   "source": [
    "## Eliminando registros duplicados\n",
    "\n",
    "Nessa etapa vamos remover os registros duplicados. Porém antes de fazer isso\n",
    "precisamos saber de que tipo de registro nós queremos remover os registros\n",
    "duplicados. A nossa base de dados é de resultados de queries, com isso se\n",
    "quisermos identificar informações unificadas por produto, precisamos remover os\n",
    "registros duplicados de produto e unificar as variações entre os registros\n",
    "duplicados.\n",
    "\n",
    "Já para os dados de resultados de queries, não é claro o que devemos considerar\n",
    "para remover os registros duplicados. Essas informações de queries\n",
    "aparentemente são extraídas ao longo do tempo, de modo que para queries\n",
    "distintas, um mesmo produto pode conter variações referentes às atualizações\n",
    "que o vendedor faz no produto ao longo do tempo.\n",
    "\n",
    "Seria esperado que para uma combinação de querie e produto não\n",
    "hajam variações, o que não é o que observamos. Isso significa que dada uma\n",
    "query um mesmo produto pode vir a ser listado como resultado mais de uma vez.\n",
    "Apesar de ser intrigante não é claro que essas variações devam ser eliminadas,\n",
    "uma vez que variações em quantidade mínima e preço, podem afetar a posição de\n",
    "um item em um resultado de busca. Sendo assim, podem ser úteis para o nosso\n",
    "segundo modelo, o ranqueamento de itens a partir de uma query.\n",
    "\n",
    "### Analisando registros duplicados\n",
    "\n",
    "Antes de fazer a eliminação dos registros duplicados devemos analisar como\n",
    "esses registros duplicados podem afetar os dados. Uma forma de avaliar isso,\n",
    "é primeiro identificando quais colunas possuem as observações unicamente\n",
    "relacionadas com os identificadores únicos dos registros (dos tipos query e\n",
    "produto) e em seguida, como as colunas que não são unicamente relacionados\n",
    "com os identificadores únicos variam por registros duplicados.\n",
    "\n",
    "Para fazer essa identificação das colunas que variam e não variam com os ids\n",
    "de registros a função `check_unity` será utilizada. Essa função compara a\n",
    "quantidade de ids únicos com a quantidade de combinações únicas entre cada\n",
    "variável e o id. Se ambos os números forem iguais, a variável é associada\n",
    "unicamente, caso contrário existem variações nessa coluna para um mesmo\n",
    "id de registro."
   ]
  },
  {
   "cell_type": "code",
   "execution_count": 12,
   "metadata": {},
   "outputs": [],
   "source": [
    "def check_unity(df: pd.DataFrame, id_group: list[str]) -> list[str]:\n",
    "    \"\"\"Verifica, para cada variável do dataset, quais variáveis são unicamente\n",
    "    relacionadas com as variáveis que identificam unicamente os registros\n",
    "    id_group. As variáveis que não se relacionam unicamente são retornadas\n",
    "    como resultado da função.\n",
    "\n",
    "    Args:\n",
    "        df (pd.DataFrame): dataset\n",
    "        id_group (list[str]): variáveis que combinadas identificam unicamente\n",
    "        os registros\n",
    "\n",
    "    Returns:\n",
    "        list[str]: lista de variáveis que não se relacionam unicamente com\n",
    "        id_group\n",
    "    \"\"\"\n",
    "    unique_regs = df[id_group].drop_duplicates().shape[0]\n",
    "    with_variability = list()\n",
    "    without_variability = list()\n",
    "    for col in df.columns:\n",
    "        if col in id_group:\n",
    "            continue\n",
    "        else:\n",
    "            cols_select = id_group + [col]\n",
    "            cols_id_uniques = df[cols_select].drop_duplicates().shape[0]\n",
    "            is_equal = unique_regs == cols_id_uniques\n",
    "            if is_equal:\n",
    "                without_variability.append(col)\n",
    "            else:\n",
    "                with_variability.append(col)\n",
    "    \n",
    "    print(f\"Únicas em relação a {id_group}\")\n",
    "    print(\" | \".join(without_variability))\n",
    "    print()\n",
    "    print(f\"Com variações em relação a {id_group}\")\n",
    "    print(\" | \".join(with_variability))\n",
    "    return with_variability"
   ]
  },
  {
   "cell_type": "markdown",
   "metadata": {},
   "source": [
    "Nos casos das colunas numéricas que forem identificadas variações para um mesmo\n",
    "identificador único de registro, serão analisadas a distribuição dos\n",
    "coeficientes de variação entre os registros duplicados. Ou seja, iremos avaliar\n",
    "como os registros com um mesmo id variam entre si para cada variável em que\n",
    "essa variação exista. A estatística utilizada é o coeficiente de variação pois\n",
    "uniformiza a unidade de análise da variação ao dividir o desvio padrão pela\n",
    "média da distribuição. Essa análise será gráfica e serão realizados gráficos\n",
    "de boxplot e histograma com essas distribuições. Adicionalmente, será utilizado\n",
    "um gráfico de barras com a distribuição da quantidade de registros duplicados\n",
    "para avaliarmos a frequência que o problema de registro duplicado ocorre."
   ]
  },
  {
   "cell_type": "code",
   "execution_count": 13,
   "metadata": {},
   "outputs": [],
   "source": [
    "def plot_duplicates_distribution(df: pd.DataFrame,\n",
    "                                 id_group: list[str],\n",
    "                                 figsize: tuple[int] = (15, 5)) -> None:\n",
    "    \"\"\"Faz o gráfico com a distribuição de contagem de registros por id_group\n",
    "\n",
    "    Args:\n",
    "        df (pd.DataFrame): dataset.\n",
    "        id_group (list[str]): colunas que combinas identificam unicamente os\n",
    "        registros.\n",
    "        figsize (tuple[int], optional): tamanho da figura. Defaults to (15, 5).\n",
    "    \"\"\"    \n",
    "    title = \"Distribuição da quantidade de duplicados\"\n",
    "    (df.groupby(id_group).\n",
    "     size().value_counts(normalize=True).sort_index().\n",
    "     plot(kind=\"bar\", figsize=figsize, title=title))\n",
    "    plt.xticks(rotation=0)\n",
    "    plt.show()\n",
    "\n",
    "def plot_variability_boxplot(duplic_df: pd.DataFrame,\n",
    "                             figsize: tuple[int] = (15, 8)):\n",
    "    \"\"\"Faz o gráfico de boxplot das estatísticas de coeficiente de variação dos\n",
    "    registros duplicados.\n",
    "\n",
    "    Args:\n",
    "        duplic_df (pd.DataFrame): coeficiente de variação de registros\n",
    "        duplicados\n",
    "        figsize (tuple[int], optional): tamanho da figura. Defaults to (15, 8).\n",
    "    \"\"\"    \n",
    "    title = \"Boxplot dos coeficientes de variação entre registros duplicados\"\n",
    "    duplic_df.boxplot(figsize=figsize)\n",
    "    plt.title(title)\n",
    "    plt.show()\n",
    "    \n",
    "\n",
    "def plot_variability_histogram(duplic_df: pd.DataFrame,\n",
    "                               figsize: tuple[int] = (15, 8),\n",
    "                               layout: tuple[int] = (3, 3),\n",
    "                               bins: int = 40):\n",
    "    \"\"\"Faz o gráfico de histograma das estatísticas de coeficiente de variação\n",
    "    dos registros duplicados.\n",
    "\n",
    "    Args:\n",
    "        duplic_df (pd.DataFrame): coeficiente de variação de registros\n",
    "        duplicados\n",
    "        figsize (tuple[int], optional): tamanho da figura. Defaults to (15, 8).\n",
    "        layout (tuple[int], optional): layout dos subplots. Defaults to (3, 3).\n",
    "        bins (int, optional): quantidade de bins dos histogramas.\n",
    "        Defaults to 40.\n",
    "    \"\"\"    \n",
    "    title = \"Histograma dos coeficientes de variação entre registros duplicados\"\n",
    "    duplic_df.plot(subplots=True,\n",
    "                   kind=\"hist\",\n",
    "                   layout=layout,\n",
    "                   figsize=figsize,\n",
    "                   bins=bins,\n",
    "                   density=True,\n",
    "                   title=title)\n",
    "    plt.show()\n",
    "\n",
    "def var_coef(num_series: pd.Series) -> float:\n",
    "    \"\"\"Calcula o coeficiente de variação para uma série\n",
    "\n",
    "    Args:\n",
    "        num_series (pd.Series): série de valores numéricos\n",
    "\n",
    "    Returns:\n",
    "        float: coeficiente de variação\n",
    "    \"\"\"    \n",
    "    return num_series.std() / num_series.mean()\n",
    "\n",
    "\n",
    "def plot_variability(df: pd.DataFrame,\n",
    "                     id_group: list[str],\n",
    "                     col_list: list[str]) -> None:\n",
    "    \"\"\"Executa os gráficos de análise de dados duplicados e variabilidade entre\n",
    "    registros duplicados\n",
    "\n",
    "    Args:\n",
    "        df (pd.DataFrame): dataset.\n",
    "        id_group (list[str]): combinações de variáveis que identificam.\n",
    "        unicamente um registro.\n",
    "        col_list (list[str]): variáveis que terão a variabilidade analisada.\n",
    "    \"\"\"    \n",
    "    \n",
    "    duplicated_df = (df.loc[df[id_group].\n",
    "                        duplicated(keep=False)].\n",
    "                     sort_values(id_group))\n",
    "    \n",
    "    plot_duplicates_distribution(df=df, id_group=id_group)\n",
    "    \n",
    "    duplicated_var_coef = (duplicated_df.\n",
    "                           groupby(id_group)[col_list].\n",
    "                           apply(var_coef).\n",
    "                           fillna(0))\n",
    "    \n",
    "    plot_variability_boxplot(duplic_df=duplicated_var_coef)\n",
    "    plot_variability_histogram(duplic_df=duplicated_var_coef)"
   ]
  },
  {
   "cell_type": "markdown",
   "metadata": {},
   "source": [
    "#### Dados de produtos\n",
    "\n",
    "Como dados de produtos, vamos considerar todos as colunas que não sejam\n",
    "referentes uma query. Ou seja, a `query` em si executada e o seu resultado\n",
    "`search_page` e `position`. Todas as outras colunas serão consideradas como\n",
    "atributos de produto."
   ]
  },
  {
   "cell_type": "code",
   "execution_count": 14,
   "metadata": {},
   "outputs": [
    {
     "data": {
      "text/html": [
       "<div>\n",
       "<style scoped>\n",
       "    .dataframe tbody tr th:only-of-type {\n",
       "        vertical-align: middle;\n",
       "    }\n",
       "\n",
       "    .dataframe tbody tr th {\n",
       "        vertical-align: top;\n",
       "    }\n",
       "\n",
       "    .dataframe thead th {\n",
       "        text-align: right;\n",
       "    }\n",
       "</style>\n",
       "<table border=\"1\" class=\"dataframe\">\n",
       "  <thead>\n",
       "    <tr style=\"text-align: right;\">\n",
       "      <th></th>\n",
       "      <th>product_id</th>\n",
       "      <th>seller_id</th>\n",
       "      <th>title</th>\n",
       "      <th>concatenated_tags</th>\n",
       "      <th>creation_date</th>\n",
       "      <th>price</th>\n",
       "      <th>weight</th>\n",
       "      <th>express_delivery</th>\n",
       "      <th>minimum_quantity</th>\n",
       "      <th>view_counts</th>\n",
       "      <th>order_counts</th>\n",
       "      <th>category</th>\n",
       "    </tr>\n",
       "  </thead>\n",
       "  <tbody>\n",
       "    <tr>\n",
       "      <th>0</th>\n",
       "      <td>11394449</td>\n",
       "      <td>8324141</td>\n",
       "      <td>Mandala Espírito Santo</td>\n",
       "      <td>mandala mdf</td>\n",
       "      <td>2015-11-14 19:42:12</td>\n",
       "      <td>171.890000</td>\n",
       "      <td>1200.0</td>\n",
       "      <td>1</td>\n",
       "      <td>4</td>\n",
       "      <td>244</td>\n",
       "      <td>0</td>\n",
       "      <td>Decoração</td>\n",
       "    </tr>\n",
       "    <tr>\n",
       "      <th>1</th>\n",
       "      <td>15534262</td>\n",
       "      <td>6939286</td>\n",
       "      <td>Cartão de Visita</td>\n",
       "      <td>cartao visita panfletos tag adesivos copos lon...</td>\n",
       "      <td>2018-04-04 20:55:07</td>\n",
       "      <td>77.670000</td>\n",
       "      <td>8.0</td>\n",
       "      <td>1</td>\n",
       "      <td>5</td>\n",
       "      <td>124</td>\n",
       "      <td>0</td>\n",
       "      <td>Papel e Cia</td>\n",
       "    </tr>\n",
       "    <tr>\n",
       "      <th>2</th>\n",
       "      <td>16153119</td>\n",
       "      <td>9835835</td>\n",
       "      <td>Organizador expositor p/ 70 esmaltes</td>\n",
       "      <td>expositor</td>\n",
       "      <td>2018-10-13 20:57:07</td>\n",
       "      <td>73.920006</td>\n",
       "      <td>2709.0</td>\n",
       "      <td>1</td>\n",
       "      <td>1</td>\n",
       "      <td>59</td>\n",
       "      <td>0</td>\n",
       "      <td>Outros</td>\n",
       "    </tr>\n",
       "    <tr>\n",
       "      <th>3</th>\n",
       "      <td>15877252</td>\n",
       "      <td>8071206</td>\n",
       "      <td>Jogo de Lençol Berço Estampado</td>\n",
       "      <td>t jogo lencol menino lencol berco</td>\n",
       "      <td>2017-02-27 13:26:03</td>\n",
       "      <td>118.770004</td>\n",
       "      <td>0.0</td>\n",
       "      <td>1</td>\n",
       "      <td>1</td>\n",
       "      <td>180</td>\n",
       "      <td>1</td>\n",
       "      <td>Bebê</td>\n",
       "    </tr>\n",
       "    <tr>\n",
       "      <th>4</th>\n",
       "      <td>15917108</td>\n",
       "      <td>7200773</td>\n",
       "      <td>ADESIVO BOX DE BANHEIRO</td>\n",
       "      <td>adesivo box banheiro</td>\n",
       "      <td>2017-05-09 13:18:38</td>\n",
       "      <td>191.810000</td>\n",
       "      <td>507.0</td>\n",
       "      <td>1</td>\n",
       "      <td>6</td>\n",
       "      <td>34</td>\n",
       "      <td>0</td>\n",
       "      <td>Decoração</td>\n",
       "    </tr>\n",
       "  </tbody>\n",
       "</table>\n",
       "</div>"
      ],
      "text/plain": [
       "   product_id  seller_id                                 title  \\\n",
       "0    11394449    8324141                Mandala Espírito Santo   \n",
       "1    15534262    6939286                      Cartão de Visita   \n",
       "2    16153119    9835835  Organizador expositor p/ 70 esmaltes   \n",
       "3    15877252    8071206        Jogo de Lençol Berço Estampado   \n",
       "4    15917108    7200773               ADESIVO BOX DE BANHEIRO   \n",
       "\n",
       "                                   concatenated_tags       creation_date  \\\n",
       "0                                        mandala mdf 2015-11-14 19:42:12   \n",
       "1  cartao visita panfletos tag adesivos copos lon... 2018-04-04 20:55:07   \n",
       "2                                          expositor 2018-10-13 20:57:07   \n",
       "3                  t jogo lencol menino lencol berco 2017-02-27 13:26:03   \n",
       "4                               adesivo box banheiro 2017-05-09 13:18:38   \n",
       "\n",
       "        price  weight  express_delivery  minimum_quantity  view_counts  \\\n",
       "0  171.890000  1200.0                 1                 4          244   \n",
       "1   77.670000     8.0                 1                 5          124   \n",
       "2   73.920006  2709.0                 1                 1           59   \n",
       "3  118.770004     0.0                 1                 1          180   \n",
       "4  191.810000   507.0                 1                 6           34   \n",
       "\n",
       "   order_counts     category  \n",
       "0             0    Decoração  \n",
       "1             0  Papel e Cia  \n",
       "2             0       Outros  \n",
       "3             1         Bebê  \n",
       "4             0    Decoração  "
      ]
     },
     "execution_count": 14,
     "metadata": {},
     "output_type": "execute_result"
    }
   ],
   "source": [
    "product_df = df.drop(columns=[\"query\", \"search_page\", \"position\"])\n",
    "product_df.head()"
   ]
  },
  {
   "cell_type": "code",
   "execution_count": 15,
   "metadata": {},
   "outputs": [
    {
     "data": {
      "text/plain": [
       "0.22608876308203704"
      ]
     },
     "execution_count": 15,
     "metadata": {},
     "output_type": "execute_result"
    }
   ],
   "source": [
    "id_group = [\"product_id\"]\n",
    "product_df.duplicated(id_group).mean()"
   ]
  },
  {
   "cell_type": "markdown",
   "metadata": {},
   "source": [
    "Como a base é de queries, que relacionam queries com produtos como resultados\n",
    "da busca, temos uma quantidade considerável de registros duplicados de produto\n",
    "(22,6%)."
   ]
  },
  {
   "cell_type": "code",
   "execution_count": 16,
   "metadata": {},
   "outputs": [
    {
     "name": "stdout",
     "output_type": "stream",
     "text": [
      "Únicas em relação a ['product_id']\n",
      "seller_id | title | concatenated_tags | creation_date | category\n",
      "\n",
      "Com variações em relação a ['product_id']\n",
      "price | weight | express_delivery | minimum_quantity | view_counts | order_counts\n"
     ]
    }
   ],
   "source": [
    "selected_cols = check_unity(df=product_df, id_group=id_group)"
   ]
  },
  {
   "cell_type": "markdown",
   "metadata": {},
   "source": [
    "A grande parte das variáveis que são textuais ou categóricas se identificam\n",
    "unicamente com `product_id`. A excessão é a `express_delivery`. Todas as outras\n",
    "variáveis podem apresentar variações para um mesmo produto. Com isso podemos\n",
    "hipotetizar que as queries aconteçam ao longo do tempo e que no passar desse\n",
    "tempo tenhamos variações nos produtos. É esperado que os preços possam variar\n",
    "de modo a incorporar a inflação. Também é possível que vendedores mudem as suas\n",
    "estratégias e alterem a quantidade de itens enviadas por cada compra, e com isso\n",
    "condições de peso, entrega e quantidade mínima também variem. Por fim, com o\n",
    "tempo a quantidade de pessoas que acessa a página e compra esses produtos\n",
    "também tende a aumentar."
   ]
  },
  {
   "cell_type": "code",
   "execution_count": 17,
   "metadata": {},
   "outputs": [
    {
     "data": {
      "image/png": "[encoded data removed]",
      "text/plain": [
       "<Figure size 1080x360 with 1 Axes>"
      ]
     },
     "metadata": {
      "needs_background": "light"
     },
     "output_type": "display_data"
    },
    {
     "data": {
      "image/png": "[encoded data removed]",
      "text/plain": [
       "<Figure size 1080x576 with 1 Axes>"
      ]
     },
     "metadata": {
      "needs_background": "light"
     },
     "output_type": "display_data"
    },
    {
     "data": {
      "image/png": "[encoded data removed]",
      "text/plain": [
       "<Figure size 1080x576 with 9 Axes>"
      ]
     },
     "metadata": {
      "needs_background": "light"
     },
     "output_type": "display_data"
    }
   ],
   "source": [
    "selected_cols.pop(2)\n",
    "plot_variability(df=product_df, id_group=[\"product_id\"], col_list=selected_cols)"
   ]
  },
  {
   "cell_type": "markdown",
   "metadata": {},
   "source": [
    "Como podemos observar pela distribuição dos registros duplicados, vemos que\n",
    "poucos produtos não aparecem mais de uma vez na base, quase 80% dos produtos.\n",
    "Um pouco mais de 10%, apenas 2 vezes. Dessa forma, vemos muito poucos produtos\n",
    "que são retornados por várias queries (o que deve estar relacionado a uma\n",
    "grande variabilidade nas queries de nossa amostra).\n",
    "\n",
    "Considerando os registros duplicados vemos que, entre as variáveis que não estão\n",
    "relacionadas unicamente com os produtos, possuímos maior variabilidade nos\n",
    "indicadores de peso, e, principalmente, quantidade mínima no pedido. Ainda,\n",
    "assim, a maior parte dos registros repetidos possuem variabilidade muito baixa,\n",
    "bem próxima de zero.\n",
    "\n",
    "A menor quantidade de registros duplicados e a entre os registros duplicados a\n",
    "concentração em baixa variabilidade entre as colunas que a margem para variação,\n",
    "são indícios de que a unificação dos registros em torno de medidas de tendência\n",
    "central podem ocorrer sem que hajam muitos problemas.\n",
    "\n",
    "#### Dados de queries\n",
    "\n",
    "Os dados de queries são os nossos dados originais. Estamos considerando como\n",
    "registros únicos desse tipo de dados as combinações entre produto e queries.\n",
    "Essa escolha pode ser questionada, principalmente se estamos interessados em\n",
    "utilizar esses dados para prever ranqueamento de produtos (`position` e/ou\n",
    "`search_page`) a partir da `query`. Nesses casos, mesmo pequenas variações de\n",
    "produtos quanto aos seus preços e quantidade mínima podem ser importantes para\n",
    "definir quais produtos vão estar nas primerias posições do ranqueamento.\n",
    "\n",
    "Ainda assim, para fins comparativos com o que foi observado no caso dos dados\n",
    "de produtos vamos prosseguir com a análise de dados duplicados para o caso de\n",
    "dados de registros de queries."
   ]
  },
  {
   "cell_type": "code",
   "execution_count": 18,
   "metadata": {},
   "outputs": [
    {
     "name": "stdout",
     "output_type": "stream",
     "text": [
      "Únicas em relação a ['product_id', 'query']\n",
      "seller_id | title | concatenated_tags | creation_date | category\n",
      "\n",
      "Com variações em relação a ['product_id', 'query']\n",
      "search_page | position | price | weight | express_delivery | minimum_quantity | view_counts | order_counts\n"
     ]
    }
   ],
   "source": [
    "id_group = [\"product_id\", \"query\"]\n",
    "selected_cols = check_unity(df=df, id_group=id_group)"
   ]
  },
  {
   "cell_type": "code",
   "execution_count": 19,
   "metadata": {},
   "outputs": [
    {
     "data": {
      "image/png": "[encoded data removed]",
      "text/plain": [
       "<Figure size 1080x360 with 1 Axes>"
      ]
     },
     "metadata": {
      "needs_background": "light"
     },
     "output_type": "display_data"
    },
    {
     "data": {
      "image/png": "[encoded data removed]",
      "text/plain": [
       "<Figure size 1080x576 with 1 Axes>"
      ]
     },
     "metadata": {
      "needs_background": "light"
     },
     "output_type": "display_data"
    },
    {
     "data": {
      "image/png": "[encoded data removed]",
      "text/plain": [
       "<Figure size 1080x576 with 9 Axes>"
      ]
     },
     "metadata": {
      "needs_background": "light"
     },
     "output_type": "display_data"
    }
   ],
   "source": [
    "selected_cols.pop(4)\n",
    "plot_variability(df=df, id_group=id_group, col_list=selected_cols)"
   ]
  },
  {
   "cell_type": "markdown",
   "metadata": {},
   "source": [
    "Como era de se esperar, no caso de registros de reultados de queries, temos\n",
    "uma menor parcela de registros que são duplicados. Quase 100% dos registros\n",
    "únicos (combinações de produto ou query) aparecem apenas uma vez entre os\n",
    "registros. Dessa forma, é muito raro, para uma mesma query, vermos um produto\n",
    "repetido mais de uma vez.\n",
    "\n",
    "É um pouco intrigante o porque isso ocorre. Mais que o produto aparecer mais\n",
    "de uma vez, ele aparece com variações de preço, quanidade mínima, peso...\n",
    "Se isso fosse mais frequente poderíamos começar a questionar o product_id como\n",
    "identificador único de produtos. Porém esses casos são tão excepcionais que é\n",
    "possível que sejam relativos a algum problema.\n",
    "\n",
    "Ainda assim, esses dados podem impactar na ordem dos resultados das queries.\n",
    "Dessa forma, não é tão seguro a sua remoção. Poderíamos perder informações\n",
    "que ajudem a indentificar a ordem dos produtos para uma determinada query.\n",
    "Por conta disso, não iremos remover os dados duplicados de resultados de\n",
    "queries.\n",
    "\n",
    "Outro ponto interessante é que ao analisar a distribuição dos coeficientes\n",
    "de variações entre os registros duplicados, vemos que essa distribuição\n",
    "é ainda mais concentrada em menores valores de coeficienes de variação.\n",
    "Isso ocorre principalmente para os casos de `search_page` e `position`, o que\n",
    "pode ser um indicador de que as variações nas outras variáveis não são\n",
    "correspondidas por variações no ranqueamento dos resultados de queries. Por\n",
    "fim, da mesma forma que ocorreu no caso dos registros duplicados de produtos\n",
    "os maiores valores de coeficientes de variação estão mais distribuídos para\n",
    "as variáveis de peso e quantidade mínima."
   ]
  },
  {
   "cell_type": "markdown",
   "metadata": {},
   "source": [
    "### Removendo os produtos duplicados\n",
    "\n",
    "A remoção dos dados dupicados de produtos envolve três etapas. Na primeira,\n",
    "removemos todos os registros duplicados contidos nos dados originais. Na\n",
    "segunda, pegamos os dados duplicados agrupamos por `product_id` e calculamos\n",
    "a moda para variáveis categóricas (e também a do tipo `datetime64`) e a média\n",
    "para variáveis numéricas. Por fim concatenamos os dois datasets, o primeiro\n",
    "sem os produtos duplicados e o segundo onde os produtos duplicados foram\n",
    "unificados em torno das modas das variáveis categóricas e das médias para\n",
    "as variáveis numéricas."
   ]
  },
  {
   "cell_type": "code",
   "execution_count": 20,
   "metadata": {},
   "outputs": [],
   "source": [
    "def series_mode(serie: pd.Series):\n",
    "    return stats.mode(serie)[0][0]\n",
    "\n",
    "def remove_duplicates(df: pd.DataFrame,\n",
    "                      id_group: list[str],\n",
    "                      mean_cols: list[str],\n",
    "                      mode_cols: list[str]) -> pd.DataFrame:\n",
    "    \"\"\"Remoção de dados duplicados a partir de combinação de group. Utiliza\n",
    "    mean_cols e mode_cols para unificar os registros em média e moda das\n",
    "    observações duplicadas\n",
    "\n",
    "    Args:\n",
    "        data (pd.DataFrame): dataset\n",
    "        group (list[str]): grupo que identifica unificamente o registro\n",
    "        mean_cols (list[str]): variáveis a serem unificadas pela média\n",
    "        mode_cols (list[str]): variáveis a serem unificadas pela moda\n",
    "\n",
    "    Returns:\n",
    "        pd.DataFrame: dataset sem registros duplicados\n",
    "    \"\"\"    \n",
    "    duplicated_mask = df[id_group].duplicated(keep=False)\n",
    "    \n",
    "    dupli_data = df.loc[duplicated_mask]\n",
    "    mode_stats = {col: series_mode for col in mode_cols}\n",
    "    mean_stats = {col: \"mean\" for col in mean_cols}\n",
    "    agg_stats = dict(**mode_stats, **mean_stats)\n",
    "    unified_dupli_data = (dupli_data.\n",
    "                          groupby(id_group, as_index=False).\n",
    "                          agg(agg_stats))\n",
    "    \n",
    "    no_duplit_data = df.loc[~duplicated_mask]\n",
    "    return pd.concat([no_duplit_data, unified_dupli_data])"
   ]
  },
  {
   "cell_type": "code",
   "execution_count": 22,
   "metadata": {},
   "outputs": [
    {
     "data": {
      "text/html": [
       "<div>\n",
       "<style scoped>\n",
       "    .dataframe tbody tr th:only-of-type {\n",
       "        vertical-align: middle;\n",
       "    }\n",
       "\n",
       "    .dataframe tbody tr th {\n",
       "        vertical-align: top;\n",
       "    }\n",
       "\n",
       "    .dataframe thead th {\n",
       "        text-align: right;\n",
       "    }\n",
       "</style>\n",
       "<table border=\"1\" class=\"dataframe\">\n",
       "  <thead>\n",
       "    <tr style=\"text-align: right;\">\n",
       "      <th></th>\n",
       "      <th>product_id</th>\n",
       "      <th>seller_id</th>\n",
       "      <th>title</th>\n",
       "      <th>concatenated_tags</th>\n",
       "      <th>creation_date</th>\n",
       "      <th>price</th>\n",
       "      <th>weight</th>\n",
       "      <th>express_delivery</th>\n",
       "      <th>minimum_quantity</th>\n",
       "      <th>view_counts</th>\n",
       "      <th>order_counts</th>\n",
       "      <th>category</th>\n",
       "    </tr>\n",
       "  </thead>\n",
       "  <tbody>\n",
       "    <tr>\n",
       "      <th>1</th>\n",
       "      <td>15534262</td>\n",
       "      <td>6939286</td>\n",
       "      <td>Cartão de Visita</td>\n",
       "      <td>cartao visita panfletos tag adesivos copos lon...</td>\n",
       "      <td>2018-04-04 20:55:07</td>\n",
       "      <td>77.670000</td>\n",
       "      <td>8.0</td>\n",
       "      <td>1</td>\n",
       "      <td>5.0</td>\n",
       "      <td>124.0</td>\n",
       "      <td>0.0</td>\n",
       "      <td>Papel e Cia</td>\n",
       "    </tr>\n",
       "    <tr>\n",
       "      <th>2</th>\n",
       "      <td>16153119</td>\n",
       "      <td>9835835</td>\n",
       "      <td>Organizador expositor p/ 70 esmaltes</td>\n",
       "      <td>expositor</td>\n",
       "      <td>2018-10-13 20:57:07</td>\n",
       "      <td>73.920006</td>\n",
       "      <td>2709.0</td>\n",
       "      <td>1</td>\n",
       "      <td>1.0</td>\n",
       "      <td>59.0</td>\n",
       "      <td>0.0</td>\n",
       "      <td>Outros</td>\n",
       "    </tr>\n",
       "    <tr>\n",
       "      <th>3</th>\n",
       "      <td>15877252</td>\n",
       "      <td>8071206</td>\n",
       "      <td>Jogo de Lençol Berço Estampado</td>\n",
       "      <td>t jogo lencol menino lencol berco</td>\n",
       "      <td>2017-02-27 13:26:03</td>\n",
       "      <td>118.770004</td>\n",
       "      <td>0.0</td>\n",
       "      <td>1</td>\n",
       "      <td>1.0</td>\n",
       "      <td>180.0</td>\n",
       "      <td>1.0</td>\n",
       "      <td>Bebê</td>\n",
       "    </tr>\n",
       "    <tr>\n",
       "      <th>4</th>\n",
       "      <td>15917108</td>\n",
       "      <td>7200773</td>\n",
       "      <td>ADESIVO BOX DE BANHEIRO</td>\n",
       "      <td>adesivo box banheiro</td>\n",
       "      <td>2017-05-09 13:18:38</td>\n",
       "      <td>191.810000</td>\n",
       "      <td>507.0</td>\n",
       "      <td>1</td>\n",
       "      <td>6.0</td>\n",
       "      <td>34.0</td>\n",
       "      <td>0.0</td>\n",
       "      <td>Decoração</td>\n",
       "    </tr>\n",
       "    <tr>\n",
       "      <th>8</th>\n",
       "      <td>13193769</td>\n",
       "      <td>2933585</td>\n",
       "      <td>chaveiro dia dos pais</td>\n",
       "      <td>dia pais</td>\n",
       "      <td>2018-07-04 12:47:49</td>\n",
       "      <td>11.420000</td>\n",
       "      <td>6.0</td>\n",
       "      <td>1</td>\n",
       "      <td>23.0</td>\n",
       "      <td>72.0</td>\n",
       "      <td>0.0</td>\n",
       "      <td>Lembrancinhas</td>\n",
       "    </tr>\n",
       "  </tbody>\n",
       "</table>\n",
       "</div>"
      ],
      "text/plain": [
       "   product_id  seller_id                                 title  \\\n",
       "1    15534262    6939286                      Cartão de Visita   \n",
       "2    16153119    9835835  Organizador expositor p/ 70 esmaltes   \n",
       "3    15877252    8071206        Jogo de Lençol Berço Estampado   \n",
       "4    15917108    7200773               ADESIVO BOX DE BANHEIRO   \n",
       "8    13193769    2933585                 chaveiro dia dos pais   \n",
       "\n",
       "                                   concatenated_tags       creation_date  \\\n",
       "1  cartao visita panfletos tag adesivos copos lon... 2018-04-04 20:55:07   \n",
       "2                                          expositor 2018-10-13 20:57:07   \n",
       "3                  t jogo lencol menino lencol berco 2017-02-27 13:26:03   \n",
       "4                               adesivo box banheiro 2017-05-09 13:18:38   \n",
       "8                                           dia pais 2018-07-04 12:47:49   \n",
       "\n",
       "        price  weight  express_delivery  minimum_quantity  view_counts  \\\n",
       "1   77.670000     8.0                 1               5.0        124.0   \n",
       "2   73.920006  2709.0                 1               1.0         59.0   \n",
       "3  118.770004     0.0                 1               1.0        180.0   \n",
       "4  191.810000   507.0                 1               6.0         34.0   \n",
       "8   11.420000     6.0                 1              23.0         72.0   \n",
       "\n",
       "   order_counts       category  \n",
       "1           0.0    Papel e Cia  \n",
       "2           0.0         Outros  \n",
       "3           1.0           Bebê  \n",
       "4           0.0      Decoração  \n",
       "8           0.0  Lembrancinhas  "
      ]
     },
     "execution_count": 22,
     "metadata": {},
     "output_type": "execute_result"
    }
   ],
   "source": [
    "numeric_cols = [\"price\", \"weight\", \"minimum_quantity\",\n",
    "                \"view_counts\", \"order_counts\"]\n",
    "categorical_cols = [\"seller_id\", \"title\", \"concatenated_tags\",\n",
    "                    \"creation_date\", \"express_delivery\", \"category\"]\n",
    "product_df = remove_duplicates(df=product_df,\n",
    "                               id_group=[\"product_id\"],\n",
    "                               mean_cols=numeric_cols,\n",
    "                               mode_cols=categorical_cols)\n",
    "product_df.head()"
   ]
  },
  {
   "cell_type": "code",
   "execution_count": 23,
   "metadata": {},
   "outputs": [
    {
     "data": {
      "text/plain": [
       "(29801, 12)"
      ]
     },
     "execution_count": 23,
     "metadata": {},
     "output_type": "execute_result"
    }
   ],
   "source": [
    "product_df.shape"
   ]
  },
  {
   "cell_type": "code",
   "execution_count": 24,
   "metadata": {},
   "outputs": [
    {
     "data": {
      "text/plain": [
       "product_id           0.000000\n",
       "seller_id            0.000000\n",
       "title                0.000000\n",
       "concatenated_tags    0.000067\n",
       "creation_date        0.000000\n",
       "price                0.000000\n",
       "weight               0.001711\n",
       "express_delivery     0.000000\n",
       "minimum_quantity     0.000000\n",
       "view_counts          0.000000\n",
       "order_counts         0.000000\n",
       "category             0.000000\n",
       "dtype: float64"
      ]
     },
     "execution_count": 24,
     "metadata": {},
     "output_type": "execute_result"
    }
   ],
   "source": [
    "product_df.isna().mean()"
   ]
  },
  {
   "cell_type": "code",
   "execution_count": 25,
   "metadata": {},
   "outputs": [
    {
     "name": "stdout",
     "output_type": "stream",
     "text": [
      "<class 'pandas.core.frame.DataFrame'>\n",
      "Int64Index: 29801 entries, 1 to 5993\n",
      "Data columns (total 12 columns):\n",
      " #   Column             Non-Null Count  Dtype         \n",
      "---  ------             --------------  -----         \n",
      " 0   product_id         29801 non-null  int64         \n",
      " 1   seller_id          29801 non-null  int64         \n",
      " 2   title              29801 non-null  object        \n",
      " 3   concatenated_tags  29799 non-null  object        \n",
      " 4   creation_date      29801 non-null  datetime64[ns]\n",
      " 5   price              29801 non-null  float64       \n",
      " 6   weight             29750 non-null  float64       \n",
      " 7   express_delivery   29801 non-null  int64         \n",
      " 8   minimum_quantity   29801 non-null  float64       \n",
      " 9   view_counts        29801 non-null  float64       \n",
      " 10  order_counts       29801 non-null  float64       \n",
      " 11  category           29801 non-null  object        \n",
      "dtypes: datetime64[ns](1), float64(5), int64(3), object(3)\n",
      "memory usage: 3.0+ MB\n"
     ]
    }
   ],
   "source": [
    "product_df.info()"
   ]
  },
  {
   "cell_type": "markdown",
   "metadata": {},
   "source": [
    "# Separação entre treinamento e teste e salvando os dados\n",
    "\n",
    "Agora temos os dois datasets prontos para serem salvos. Mas antes de salvarmos\n",
    "será necessário separar os dados entre treinamento e teste. Isso é necessário\n",
    "para que depois seja possível testar os modelos em condições mais próximas à\n",
    "realidade. Ou seja, não estamos interessados em modelos que se adaptem à todas\n",
    "as condições particulares dos dados em que estejam sendo treinados, mas que\n",
    "apenas sejam capaz de reproduzir seus padrões mais gerais e assim, performem\n",
    "em dados não antes vistos.\n",
    "\n",
    "## Dados de produto\n",
    "\n",
    "No caso dos dados de produto, como iremos utilizá-los para prever as categorias,\n",
    "devemos garantir que todas as categorias sejam representadas adequadamente\n",
    "tanto nos dados de treinamento quanto nos dados de teste. Para tal iremos\n",
    "realizar a separação dos dados com estratificação por `category`."
   ]
  },
  {
   "cell_type": "code",
   "execution_count": 28,
   "metadata": {},
   "outputs": [],
   "source": [
    "train_prod_df, test_prod_df = train_test_split(product_df,\n",
    "                                               test_size=0.3,\n",
    "                                               random_state=23,\n",
    "                                               stratify=product_df[\"category\"])\n",
    "for filename, data in [(\"train_prod.pickle\", train_prod_df),\n",
    "                       (\"test_prod.pickle\", test_prod_df)]:\n",
    "    data.to_pickle(\"../data/\" + filename)"
   ]
  },
  {
   "cell_type": "code",
   "execution_count": 29,
   "metadata": {},
   "outputs": [
    {
     "data": {
      "image/png": "[encoded data removed]",
      "text/plain": [
       "<Figure size 864x360 with 1 Axes>"
      ]
     },
     "metadata": {
      "needs_background": "light"
     },
     "output_type": "display_data"
    }
   ],
   "source": [
    "(train_prod_df[\"category\"].\n",
    " value_counts(ascending=True, normalize=True).\n",
    " to_frame(\"train\").\n",
    " join(test_prod_df[\"category\"].\n",
    "      value_counts(ascending=True, normalize=True).\n",
    "      to_frame(\"test\"))\n",
    " ).plot(kind=\"barh\", figsize=(12, 5), title=\"Distribuição (relativa) das categorias por base de dados\")\n",
    "plt.show()"
   ]
  },
  {
   "cell_type": "markdown",
   "metadata": {},
   "source": [
    "### Query"
   ]
  },
  {
   "cell_type": "code",
   "execution_count": null,
   "metadata": {},
   "outputs": [],
   "source": [
    "train_query_df, test_query_df = train_test_split(df,\n",
    "                                                 test_size=0.3,\n",
    "                                                 random_state=23)\n",
    "for filename, data in [(\"train_query.pickle\", train_query_df),\n",
    "                       (\"test_query.pickle\", test_query_df)]:\n",
    "    data.to_pickle(\"../data/\" + filename)"
   ]
  }
 ],
 "metadata": {
  "interpreter": {
   "hash": "46c0bb3b8e63a95c204f7a1a105596c1673bb87538bedee3505b8c3e2a065390"
  },
  "kernelspec": {
   "display_name": "Python 3.9.6 ('product_recommender-qoUF0oDD')",
   "language": "python",
   "name": "python3"
  },
  "language_info": {
   "codemirror_mode": {
    "name": "ipython",
    "version": 3
   },
   "file_extension": ".py",
   "mimetype": "text/x-python",
   "name": "python",
   "nbconvert_exporter": "python",
   "pygments_lexer": "ipython3",
   "version": "3.9.6"
  },
  "orig_nbformat": 4
 },
 "nbformat": 4,
 "nbformat_minor": 2
}
