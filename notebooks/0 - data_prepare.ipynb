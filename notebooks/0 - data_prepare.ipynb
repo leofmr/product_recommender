{
 "cells": [
  {
   "cell_type": "markdown",
   "metadata": {},
   "source": [
    "# Introdução\n",
    "\n",
    "Nesse notebook é realizada a análise preliminar dos dados completos e sua\n",
    "separação em dados de treinamento e teste. Nessa análise preliminar iremos\n",
    "fazer diagnósticos da qualidade dos dados e quando necessário ajustá-lo. Isso,\n",
    "compreende correção do tipo dos dados, avaliação da consistência, análise de\n",
    "dados faltantes (sem considerar técnicas estatísticas de imputação) e remoção\n",
    "de dados duplicados.\n",
    "\n",
    "O segundo objetivo é a separação dos dados em dados de treinamento e teste para\n",
    "que os modelos de classificação e recomendação possam vir a ter sua capacidade\n",
    "de generalização validada em etapa futura. \n",
    "\n",
    "A nossa base de dados é respectiva a registros de resultados de queries. Estes\n",
    "são dados úteis para a modelagem do ranqueamento de resultados a partir de uma\n",
    "query. Porém, para a modelagem da predição de categorias de produtos precisamos\n",
    "de dados relativos apenas a produtos. Dessa forma, iremos separar os dados em\n",
    "dois datasets, e em seguida separar cada um destes em treinamento e testes,\n",
    "totalizando ao todo 4 datasets. Para o caso dos dados de produtos, precisamos\n",
    "garantir ainda que tanto os dados de treinamento quanto os de teste possuam as\n",
    "categorias representadas corretamente."
   ]
  },
  {
   "cell_type": "markdown",
   "metadata": {},
   "source": [
    "# Imports"
   ]
  },
  {
   "cell_type": "code",
   "execution_count": 2,
   "metadata": {},
   "outputs": [],
   "source": [
    "import pandas as pd\n",
    "import matplotlib.pyplot as plt\n",
    "from scipy import stats\n",
    "from sklearn.model_selection import train_test_split"
   ]
  },
  {
   "cell_type": "markdown",
   "metadata": {},
   "source": [
    "# Carregamento dos dados"
   ]
  },
  {
   "cell_type": "code",
   "execution_count": 3,
   "metadata": {},
   "outputs": [
    {
     "data": {
      "text/html": [
       "<div>\n",
       "<style scoped>\n",
       "    .dataframe tbody tr th:only-of-type {\n",
       "        vertical-align: middle;\n",
       "    }\n",
       "\n",
       "    .dataframe tbody tr th {\n",
       "        vertical-align: top;\n",
       "    }\n",
       "\n",
       "    .dataframe thead th {\n",
       "        text-align: right;\n",
       "    }\n",
       "</style>\n",
       "<table border=\"1\" class=\"dataframe\">\n",
       "  <thead>\n",
       "    <tr style=\"text-align: right;\">\n",
       "      <th></th>\n",
       "      <th>product_id</th>\n",
       "      <th>seller_id</th>\n",
       "      <th>query</th>\n",
       "      <th>search_page</th>\n",
       "      <th>position</th>\n",
       "      <th>title</th>\n",
       "      <th>concatenated_tags</th>\n",
       "      <th>creation_date</th>\n",
       "      <th>price</th>\n",
       "      <th>weight</th>\n",
       "      <th>express_delivery</th>\n",
       "      <th>minimum_quantity</th>\n",
       "      <th>view_counts</th>\n",
       "      <th>order_counts</th>\n",
       "      <th>category</th>\n",
       "    </tr>\n",
       "  </thead>\n",
       "  <tbody>\n",
       "    <tr>\n",
       "      <th>0</th>\n",
       "      <td>11394449</td>\n",
       "      <td>8324141</td>\n",
       "      <td>espirito santo</td>\n",
       "      <td>2</td>\n",
       "      <td>6</td>\n",
       "      <td>Mandala Espírito Santo</td>\n",
       "      <td>mandala mdf</td>\n",
       "      <td>2015-11-14 19:42:12</td>\n",
       "      <td>171.890000</td>\n",
       "      <td>1200.0</td>\n",
       "      <td>1</td>\n",
       "      <td>4</td>\n",
       "      <td>244</td>\n",
       "      <td>NaN</td>\n",
       "      <td>Decoração</td>\n",
       "    </tr>\n",
       "    <tr>\n",
       "      <th>1</th>\n",
       "      <td>15534262</td>\n",
       "      <td>6939286</td>\n",
       "      <td>cartao de visita</td>\n",
       "      <td>2</td>\n",
       "      <td>0</td>\n",
       "      <td>Cartão de Visita</td>\n",
       "      <td>cartao visita panfletos tag adesivos copos lon...</td>\n",
       "      <td>2018-04-04 20:55:07</td>\n",
       "      <td>77.670000</td>\n",
       "      <td>8.0</td>\n",
       "      <td>1</td>\n",
       "      <td>5</td>\n",
       "      <td>124</td>\n",
       "      <td>NaN</td>\n",
       "      <td>Papel e Cia</td>\n",
       "    </tr>\n",
       "    <tr>\n",
       "      <th>2</th>\n",
       "      <td>16153119</td>\n",
       "      <td>9835835</td>\n",
       "      <td>expositor de esmaltes</td>\n",
       "      <td>1</td>\n",
       "      <td>38</td>\n",
       "      <td>Organizador expositor p/ 70 esmaltes</td>\n",
       "      <td>expositor</td>\n",
       "      <td>2018-10-13 20:57:07</td>\n",
       "      <td>73.920006</td>\n",
       "      <td>2709.0</td>\n",
       "      <td>1</td>\n",
       "      <td>1</td>\n",
       "      <td>59</td>\n",
       "      <td>NaN</td>\n",
       "      <td>Outros</td>\n",
       "    </tr>\n",
       "    <tr>\n",
       "      <th>3</th>\n",
       "      <td>15877252</td>\n",
       "      <td>8071206</td>\n",
       "      <td>medidas lencol para berco americano</td>\n",
       "      <td>1</td>\n",
       "      <td>6</td>\n",
       "      <td>Jogo de Lençol Berço Estampado</td>\n",
       "      <td>t jogo lencol menino lencol berco</td>\n",
       "      <td>2017-02-27 13:26:03</td>\n",
       "      <td>118.770004</td>\n",
       "      <td>0.0</td>\n",
       "      <td>1</td>\n",
       "      <td>1</td>\n",
       "      <td>180</td>\n",
       "      <td>1.0</td>\n",
       "      <td>Bebê</td>\n",
       "    </tr>\n",
       "    <tr>\n",
       "      <th>4</th>\n",
       "      <td>15917108</td>\n",
       "      <td>7200773</td>\n",
       "      <td>adesivo box banheiro</td>\n",
       "      <td>3</td>\n",
       "      <td>38</td>\n",
       "      <td>ADESIVO BOX DE BANHEIRO</td>\n",
       "      <td>adesivo box banheiro</td>\n",
       "      <td>2017-05-09 13:18:38</td>\n",
       "      <td>191.810000</td>\n",
       "      <td>507.0</td>\n",
       "      <td>1</td>\n",
       "      <td>6</td>\n",
       "      <td>34</td>\n",
       "      <td>NaN</td>\n",
       "      <td>Decoração</td>\n",
       "    </tr>\n",
       "  </tbody>\n",
       "</table>\n",
       "</div>"
      ],
      "text/plain": [
       "   product_id  seller_id                                query  search_page  \\\n",
       "0    11394449    8324141                       espirito santo            2   \n",
       "1    15534262    6939286                     cartao de visita            2   \n",
       "2    16153119    9835835                expositor de esmaltes            1   \n",
       "3    15877252    8071206  medidas lencol para berco americano            1   \n",
       "4    15917108    7200773                 adesivo box banheiro            3   \n",
       "\n",
       "   position                                 title  \\\n",
       "0         6                Mandala Espírito Santo   \n",
       "1         0                      Cartão de Visita   \n",
       "2        38  Organizador expositor p/ 70 esmaltes   \n",
       "3         6        Jogo de Lençol Berço Estampado   \n",
       "4        38               ADESIVO BOX DE BANHEIRO   \n",
       "\n",
       "                                   concatenated_tags        creation_date  \\\n",
       "0                                        mandala mdf  2015-11-14 19:42:12   \n",
       "1  cartao visita panfletos tag adesivos copos lon...  2018-04-04 20:55:07   \n",
       "2                                          expositor  2018-10-13 20:57:07   \n",
       "3                  t jogo lencol menino lencol berco  2017-02-27 13:26:03   \n",
       "4                               adesivo box banheiro  2017-05-09 13:18:38   \n",
       "\n",
       "        price  weight  express_delivery  minimum_quantity  view_counts  \\\n",
       "0  171.890000  1200.0                 1                 4          244   \n",
       "1   77.670000     8.0                 1                 5          124   \n",
       "2   73.920006  2709.0                 1                 1           59   \n",
       "3  118.770004     0.0                 1                 1          180   \n",
       "4  191.810000   507.0                 1                 6           34   \n",
       "\n",
       "   order_counts     category  \n",
       "0           NaN    Decoração  \n",
       "1           NaN  Papel e Cia  \n",
       "2           NaN       Outros  \n",
       "3           1.0         Bebê  \n",
       "4           NaN    Decoração  "
      ]
     },
     "execution_count": 3,
     "metadata": {},
     "output_type": "execute_result"
    }
   ],
   "source": [
    "df = pd.read_csv(r\"..\\data\\complete_dataset.csv\")\n",
    "df.head()"
   ]
  },
  {
   "cell_type": "code",
   "execution_count": 4,
   "metadata": {},
   "outputs": [
    {
     "data": {
      "text/plain": [
       "(38507, 15)"
      ]
     },
     "execution_count": 4,
     "metadata": {},
     "output_type": "execute_result"
    }
   ],
   "source": [
    "df.shape"
   ]
  },
  {
   "cell_type": "markdown",
   "metadata": {},
   "source": [
    "Os dados foram carregados corretamente e ao todo temos 38.507 registro com\n",
    "15 atributos."
   ]
  },
  {
   "cell_type": "markdown",
   "metadata": {},
   "source": [
    "# Análise preliminar dos dados\n",
    "\n",
    "## Dados faltantes"
   ]
  },
  {
   "cell_type": "code",
   "execution_count": 5,
   "metadata": {},
   "outputs": [
    {
     "data": {
      "text/plain": [
       "product_id            0.00\n",
       "seller_id             0.00\n",
       "query                 0.00\n",
       "search_page           0.00\n",
       "position              0.00\n",
       "title                 0.00\n",
       "concatenated_tags     0.01\n",
       "creation_date         0.00\n",
       "price                 0.00\n",
       "weight                0.15\n",
       "express_delivery      0.00\n",
       "minimum_quantity      0.00\n",
       "view_counts           0.00\n",
       "order_counts         52.95\n",
       "category              0.00\n",
       "dtype: float64"
      ]
     },
     "execution_count": 5,
     "metadata": {},
     "output_type": "execute_result"
    }
   ],
   "source": [
    "df.isna().mean().mul(100).round(2)"
   ]
  },
  {
   "cell_type": "markdown",
   "metadata": {},
   "source": [
    "Apenas a coluna `order_counts` possui uma quantidade de dados faltantes\n",
    "significativa (52,95%). Outras colunas que também possuem dados faltantes são\n",
    "`weight` (0,01%) e `concatenated_tags` (0,15%), porém estes, em um nível\n",
    "desprezível."
   ]
  },
  {
   "cell_type": "code",
   "execution_count": 6,
   "metadata": {},
   "outputs": [
    {
     "data": {
      "text/plain": [
       "False"
      ]
     },
     "execution_count": 6,
     "metadata": {},
     "output_type": "execute_result"
    }
   ],
   "source": [
    "(df[\"order_counts\"] == 0).any()"
   ]
  },
  {
   "cell_type": "markdown",
   "metadata": {},
   "source": [
    "O fato de não termos nenhum registro de `order_counts` como sendo igual a 0.\n",
    "Pode ser um indicativo de que caso um item não receba ordens na query, a\n",
    "observação ficará como `missing`. Supondo que esse realmente seja o caso (o que\n",
    "parece ser bastante razoável), para sanarmos essa grande quantidade de dados\n",
    "faltantes em `order_counts` basta preencher dados faltantes dessa coluna com\n",
    "`0`."
   ]
  },
  {
   "cell_type": "code",
   "execution_count": 7,
   "metadata": {},
   "outputs": [
    {
     "data": {
      "text/plain": [
       "False"
      ]
     },
     "execution_count": 7,
     "metadata": {},
     "output_type": "execute_result"
    }
   ],
   "source": [
    "df[\"order_counts\"].fillna(0, inplace=True)\n",
    "df[\"order_counts\"].isna().any()"
   ]
  },
  {
   "cell_type": "markdown",
   "metadata": {},
   "source": [
    "Como a quantidade de dados faltantes nas outras variáveis é muito pequena,\n",
    "optou-se por remover as observações que possuam dados faltantes."
   ]
  },
  {
   "cell_type": "code",
   "execution_count": 8,
   "metadata": {},
   "outputs": [],
   "source": [
    "df.dropna(inplace=True)"
   ]
  },
  {
   "cell_type": "markdown",
   "metadata": {},
   "source": [
    "## Verificando o tipo das variáveis\n",
    "\n",
    "Para simplificar a conformação dos dados vamos tratar variáveis categóricas\n",
    "como textuais (`object`)."
   ]
  },
  {
   "cell_type": "code",
   "execution_count": 9,
   "metadata": {},
   "outputs": [
    {
     "data": {
      "text/plain": [
       "product_id             int64\n",
       "seller_id              int64\n",
       "query                 object\n",
       "search_page            int64\n",
       "position               int64\n",
       "title                 object\n",
       "concatenated_tags     object\n",
       "creation_date         object\n",
       "price                float64\n",
       "weight               float64\n",
       "express_delivery       int64\n",
       "minimum_quantity       int64\n",
       "view_counts            int64\n",
       "order_counts         float64\n",
       "category              object\n",
       "dtype: object"
      ]
     },
     "execution_count": 9,
     "metadata": {},
     "output_type": "execute_result"
    }
   ],
   "source": [
    "df.dtypes"
   ]
  },
  {
   "cell_type": "markdown",
   "metadata": {},
   "source": [
    "A primeira variável que será modificada é a `creation_date`. Como não\n",
    "especificamos no momento do carregamento dos dados qual coluna do dataset\n",
    "deveria ser parseado para data, esse campo foi carregado como um `object` ao\n",
    "invés de um `datetime`.\n",
    "\n",
    "Avaliando as primeiras linhas dessa coluna, vemos que ela aparentemente está\n",
    "formatada corretamente. Para nos certificarmos que a conversão ocorrerá como\n",
    "esperado ao invés de deixar que o método de conversão infira o formato da data\n",
    "esse formato será especificado (`Y-m-d H:M:S`)."
   ]
  },
  {
   "cell_type": "code",
   "execution_count": 10,
   "metadata": {},
   "outputs": [
    {
     "data": {
      "text/plain": [
       "0    2015-11-14 19:42:12\n",
       "1    2018-04-04 20:55:07\n",
       "2    2018-10-13 20:57:07\n",
       "3    2017-02-27 13:26:03\n",
       "4    2017-05-09 13:18:38\n",
       "Name: creation_date, dtype: object"
      ]
     },
     "execution_count": 10,
     "metadata": {},
     "output_type": "execute_result"
    }
   ],
   "source": [
    "df[\"creation_date\"].head()"
   ]
  },
  {
   "cell_type": "code",
   "execution_count": 11,
   "metadata": {},
   "outputs": [
    {
     "data": {
      "text/plain": [
       "0   2015-11-14 19:42:12\n",
       "1   2018-04-04 20:55:07\n",
       "2   2018-10-13 20:57:07\n",
       "3   2017-02-27 13:26:03\n",
       "4   2017-05-09 13:18:38\n",
       "Name: creation_date, dtype: datetime64[ns]"
      ]
     },
     "execution_count": 11,
     "metadata": {},
     "output_type": "execute_result"
    }
   ],
   "source": [
    "df[\"creation_date\"] = pd.to_datetime(df[\"creation_date\"],\n",
    "                                     format=\"%Y-%m-%d %H:%M:%S\")\n",
    "df[\"creation_date\"].head()"
   ]
  },
  {
   "cell_type": "markdown",
   "metadata": {},
   "source": [
    "Apesar de menor importância outra variável que pode ter seu tipo modificado é\n",
    "a `order_counts` que antes estava definida como `float`. A variável estava\n",
    "tipada dessa forma pois possuía registros faltantes entre suas observações.\n",
    "Como já acabamos com esse problema, faz sentido para esse tipo de dado\n",
    "convertê-lo para número inteiro."
   ]
  },
  {
   "cell_type": "code",
   "execution_count": 12,
   "metadata": {},
   "outputs": [
    {
     "data": {
      "text/plain": [
       "0    0\n",
       "1    0\n",
       "2    0\n",
       "3    1\n",
       "4    0\n",
       "Name: order_counts, dtype: int32"
      ]
     },
     "execution_count": 12,
     "metadata": {},
     "output_type": "execute_result"
    }
   ],
   "source": [
    "df[\"order_counts\"] = df[\"order_counts\"].astype(\"int\")\n",
    "df[\"order_counts\"].head()"
   ]
  },
  {
   "cell_type": "markdown",
   "metadata": {},
   "source": [
    "Por fim, vamos verificar se as variáveis categóricas `express_delivery` e\n",
    "`category`, possuem entre as suas observações apenas valores referentes às suas\n",
    "categorias previstas."
   ]
  },
  {
   "cell_type": "code",
   "execution_count": 13,
   "metadata": {},
   "outputs": [],
   "source": [
    "# verificando se temos apenas registros com observações iguais às esperadas\n",
    "# tanto para a variável express_delivery quanto para category\n",
    "assert set(df[\"express_delivery\"].unique()) == set([1, 0])\n",
    "cat_list = [\"Bebê\", \"Bijuterias e Jóias\", \"Decoração\",\n",
    "            \"Lembrancinhas\", \"Papel e Cia\", \"Outros\"]\n",
    "assert set(df[\"category\"].unique()) == set(cat_list)"
   ]
  },
  {
   "cell_type": "markdown",
   "metadata": {},
   "source": [
    "Após essa última verificação vemos que ambas as variáveis têm o preenchimento\n",
    "correto de suas categoriais."
   ]
  },
  {
   "cell_type": "markdown",
   "metadata": {},
   "source": [
    "## Eliminando registros duplicados\n",
    "\n",
    "Nessa etapa vamos remover os registros duplicados. Porém, antes de fazer isso\n",
    "precisamos definir o que será considerado como um registro duplicado. Para tal,\n",
    "precisamos antes entender que tipo de registro nós estamos utilizando e para\n",
    "qual propósito iremos utilizá-lo.\n",
    "\n",
    "A nossa base de dados é de resultados de queries. Será utilizada para o\n",
    "treinamento de um modelo de classificação de produtos e outro de recomendação\n",
    "de produtos. Dado esses dois propósitos distintos podemos ter que separar a\n",
    "base em duas, cada uma representando um tipo de entidade específico.\n",
    "\n",
    "Para o primeiro problema teremos que reduzir os dados a dados de produtos,\n",
    "indexando-os pelo `product_id`. Como estamos utilizando dados de resultados\n",
    "de queries é esperado que alguns produtos, venham a ser encontrados repetidas\n",
    "vezes ao longo dos registros. Dessa forma, temos que definir quais dos\n",
    "registros duplicados iremos eliminar, ou então uma forma de reunir a informação\n",
    "das duplicadas em uma observação unificada. \n",
    "\n",
    "Já para a elaboração do modelo de recomendação nósso tipo de observação é\n",
    "exatamente aquele que os nossos dados registros, dados de resultados de\n",
    "queries. Sendo assim, só precisamos verificar se existem observação que são\n",
    "duplicadas (uma linha inteira). \n",
    "\n",
    "Seria esperado que para uma combinação de querie e produto não hajam variações,\n",
    "o que não é o que observamos. Isso significa que dada uma query um mesmo\n",
    "produto pode vir a ser listado como resultado mais de uma vez.\n",
    "Apesar de ser intrigante não é claro que essas variações devam ser eliminadas,\n",
    "uma vez que variações em quantidade mínima e preço, podem afetar a posição de\n",
    "um item em um resultado de busca. Sendo assim, podem ser úteis para o nosso\n",
    "segundo modelo, o ranqueamento de itens a partir de uma query.\n",
    "\n",
    "### Analisando registros duplicados\n",
    "\n",
    "Antes de fazer a eliminação dos registros duplicados devemos analisar como\n",
    "esses registros duplicados podem afetar os dados. Uma forma de avaliar isso,\n",
    "é primeiro identificando quais colunas possuem as observações unicamente\n",
    "relacionadas com os identificadores únicos dos registros (dos tipos query e\n",
    "produto) e em seguida, como as colunas que não são unicamente relacionados\n",
    "com os identificadores únicos variam por registros duplicados.\n",
    "\n",
    "Para fazer essa identificação das colunas que variam e não variam com os ids\n",
    "de registros a função `check_unity` será utilizada. Essa função compara a\n",
    "quantidade de ids únicos com a quantidade de combinações únicas entre cada\n",
    "variável e o id. Se ambos os números forem iguais, a variável é associada\n",
    "unicamente, caso contrário existem variações nessa coluna para um mesmo\n",
    "id de registro."
   ]
  },
  {
   "cell_type": "code",
   "execution_count": 14,
   "metadata": {},
   "outputs": [],
   "source": [
    "def check_unity(df: pd.DataFrame, id_group: list[str]) -> list[str]:\n",
    "    \"\"\"Verifica, para cada variável do dataset, quais variáveis são unicamente\n",
    "    relacionadas com as variáveis que identificam unicamente os registros\n",
    "    id_group. As variáveis que não se relacionam unicamente são retornadas\n",
    "    como resultado da função.\n",
    "\n",
    "    Args:\n",
    "        df (pd.DataFrame): dataset\n",
    "        id_group (list[str]): variáveis que combinadas identificam unicamente\n",
    "        os registros\n",
    "\n",
    "    Returns:\n",
    "        list[str]: lista de variáveis que não se relacionam unicamente com\n",
    "        id_group\n",
    "    \"\"\"\n",
    "    unique_regs = df[id_group].drop_duplicates().shape[0]\n",
    "    with_variability = list()\n",
    "    without_variability = list()\n",
    "    for col in df.columns:\n",
    "        if col in id_group:\n",
    "            continue\n",
    "        else:\n",
    "            cols_select = id_group + [col]\n",
    "            cols_id_uniques = df[cols_select].drop_duplicates().shape[0]\n",
    "            is_equal = unique_regs == cols_id_uniques\n",
    "            if is_equal:\n",
    "                without_variability.append(col)\n",
    "            else:\n",
    "                with_variability.append(col)\n",
    "    \n",
    "    print(f\"Únicas em relação a {id_group}\")\n",
    "    print(\" | \".join(without_variability))\n",
    "    print()\n",
    "    print(f\"Com variações em relação a {id_group}\")\n",
    "    print(\" | \".join(with_variability))\n",
    "    return with_variability"
   ]
  },
  {
   "cell_type": "markdown",
   "metadata": {},
   "source": [
    "A variabilidade em relação a um mesmo identificador único registro das colunas\n",
    "numéricas será analisada por meio de gráficos de boxplot e histogramas. Para\n",
    "esses casos o coeficiente de variação será calculado por id, e sua distribuição\n",
    "será analisada graficamente. Dessa forma avaliaremos a distribuição da não\n",
    "uniformidade dos dados. Analisando a distribuição como um todo será possível\n",
    "dimensionar o tamanho dessa variação.\n",
    "\n",
    "O coeficiente de variação foi escolhido, pois, diferente do desvio padrão, essa\n",
    "estatística é adimensional, e com isso conseguimos estabelecer comparações\n",
    "entre variáveis de escalas distintas.\n",
    "\n",
    "Adicionalmente, será utilizado um gráfico de barras com a distribuição da\n",
    "quantidade de registros duplicados."
   ]
  },
  {
   "cell_type": "code",
   "execution_count": 15,
   "metadata": {},
   "outputs": [],
   "source": [
    "def plot_duplicates_distribution(df: pd.DataFrame,\n",
    "                                 id_group: list[str],\n",
    "                                 figsize: tuple[int] = (15, 5)) -> None:\n",
    "    \"\"\"Faz o gráfico com a distribuição de contagem de registros por id_group\n",
    "\n",
    "    Args:\n",
    "        df (pd.DataFrame): dataset.\n",
    "        id_group (list[str]): colunas que combinas identificam unicamente os\n",
    "        registros.\n",
    "        figsize (tuple[int], optional): tamanho da figura. Defaults to (15, 5).\n",
    "    \"\"\"    \n",
    "    title = \"Distribuição da quantidade de duplicados\"\n",
    "    (df.groupby(id_group).\n",
    "     size().value_counts(normalize=True).sort_index().\n",
    "     plot(kind=\"bar\", figsize=figsize, title=title))\n",
    "    plt.xticks(rotation=0)\n",
    "    plt.show()\n",
    "\n",
    "def plot_variability_boxplot(duplic_df: pd.DataFrame,\n",
    "                             figsize: tuple[int] = (15, 8)):\n",
    "    \"\"\"Faz o gráfico de boxplot das estatísticas de coeficiente de variação dos\n",
    "    registros duplicados.\n",
    "\n",
    "    Args:\n",
    "        duplic_df (pd.DataFrame): coeficiente de variação de registros\n",
    "        duplicados\n",
    "        figsize (tuple[int], optional): tamanho da figura. Defaults to (15, 8).\n",
    "    \"\"\"    \n",
    "    title = \"Boxplot dos coeficientes de variação entre registros duplicados\"\n",
    "    duplic_df.boxplot(figsize=figsize)\n",
    "    plt.title(title)\n",
    "    plt.show()\n",
    "    \n",
    "\n",
    "def plot_variability_histogram(duplic_df: pd.DataFrame,\n",
    "                               figsize: tuple[int] = (15, 8),\n",
    "                               layout: tuple[int] = (3, 3),\n",
    "                               bins: int = 40):\n",
    "    \"\"\"Faz o gráfico de histograma das estatísticas de coeficiente de variação\n",
    "    dos registros duplicados.\n",
    "\n",
    "    Args:\n",
    "        duplic_df (pd.DataFrame): coeficiente de variação de registros\n",
    "        duplicados\n",
    "        figsize (tuple[int], optional): tamanho da figura. Defaults to (15, 8).\n",
    "        layout (tuple[int], optional): layout dos subplots. Defaults to (3, 3).\n",
    "        bins (int, optional): quantidade de bins dos histogramas.\n",
    "        Defaults to 40.\n",
    "    \"\"\"    \n",
    "    title = \"Histograma dos coeficientes de variação entre registros duplicados\"\n",
    "    duplic_df.plot(subplots=True,\n",
    "                   kind=\"hist\",\n",
    "                   layout=layout,\n",
    "                   figsize=figsize,\n",
    "                   bins=bins,\n",
    "                   density=True,\n",
    "                   title=title)\n",
    "    plt.show()\n",
    "\n",
    "def var_coef(num_series: pd.Series) -> float:\n",
    "    \"\"\"Calcula o coeficiente de variação para uma série\n",
    "\n",
    "    Args:\n",
    "        num_series (pd.Series): série de valores numéricos\n",
    "\n",
    "    Returns:\n",
    "        float: coeficiente de variação\n",
    "    \"\"\"    \n",
    "    return num_series.std() / num_series.mean()\n",
    "\n",
    "\n",
    "def plot_variability(df: pd.DataFrame,\n",
    "                     id_group: list[str],\n",
    "                     col_list: list[str]) -> None:\n",
    "    \"\"\"Executa os gráficos de análise de dados duplicados e variabilidade entre\n",
    "    registros duplicados\n",
    "\n",
    "    Args:\n",
    "        df (pd.DataFrame): dataset.\n",
    "        id_group (list[str]): combinações de variáveis que identificam.\n",
    "        unicamente um registro.\n",
    "        col_list (list[str]): variáveis que terão a variabilidade analisada.\n",
    "    \"\"\"    \n",
    "    \n",
    "    duplicated_df = (df.loc[df[id_group].\n",
    "                        duplicated(keep=False)].\n",
    "                     sort_values(id_group))\n",
    "    \n",
    "    plot_duplicates_distribution(df=df, id_group=id_group)\n",
    "    \n",
    "    duplicated_var_coef = (duplicated_df.\n",
    "                           groupby(id_group)[col_list].\n",
    "                           apply(var_coef).\n",
    "                           fillna(0))\n",
    "    \n",
    "    plot_variability_boxplot(duplic_df=duplicated_var_coef)\n",
    "    plot_variability_histogram(duplic_df=duplicated_var_coef)"
   ]
  },
  {
   "cell_type": "markdown",
   "metadata": {},
   "source": [
    "#### Dados de produtos\n",
    "\n",
    "Como dados de produtos, vamos considerar todos as colunas que não sejam\n",
    "referentes uma query. Ou seja, a `query` em si executada e o seu resultado\n",
    "`search_page` e `position`. Todas as outras colunas serão consideradas como\n",
    "atributos de produto."
   ]
  },
  {
   "cell_type": "code",
   "execution_count": 16,
   "metadata": {},
   "outputs": [
    {
     "data": {
      "text/html": [
       "<div>\n",
       "<style scoped>\n",
       "    .dataframe tbody tr th:only-of-type {\n",
       "        vertical-align: middle;\n",
       "    }\n",
       "\n",
       "    .dataframe tbody tr th {\n",
       "        vertical-align: top;\n",
       "    }\n",
       "\n",
       "    .dataframe thead th {\n",
       "        text-align: right;\n",
       "    }\n",
       "</style>\n",
       "<table border=\"1\" class=\"dataframe\">\n",
       "  <thead>\n",
       "    <tr style=\"text-align: right;\">\n",
       "      <th></th>\n",
       "      <th>product_id</th>\n",
       "      <th>seller_id</th>\n",
       "      <th>title</th>\n",
       "      <th>concatenated_tags</th>\n",
       "      <th>creation_date</th>\n",
       "      <th>price</th>\n",
       "      <th>weight</th>\n",
       "      <th>express_delivery</th>\n",
       "      <th>minimum_quantity</th>\n",
       "      <th>view_counts</th>\n",
       "      <th>order_counts</th>\n",
       "      <th>category</th>\n",
       "    </tr>\n",
       "  </thead>\n",
       "  <tbody>\n",
       "    <tr>\n",
       "      <th>0</th>\n",
       "      <td>11394449</td>\n",
       "      <td>8324141</td>\n",
       "      <td>Mandala Espírito Santo</td>\n",
       "      <td>mandala mdf</td>\n",
       "      <td>2015-11-14 19:42:12</td>\n",
       "      <td>171.890000</td>\n",
       "      <td>1200.0</td>\n",
       "      <td>1</td>\n",
       "      <td>4</td>\n",
       "      <td>244</td>\n",
       "      <td>0</td>\n",
       "      <td>Decoração</td>\n",
       "    </tr>\n",
       "    <tr>\n",
       "      <th>1</th>\n",
       "      <td>15534262</td>\n",
       "      <td>6939286</td>\n",
       "      <td>Cartão de Visita</td>\n",
       "      <td>cartao visita panfletos tag adesivos copos lon...</td>\n",
       "      <td>2018-04-04 20:55:07</td>\n",
       "      <td>77.670000</td>\n",
       "      <td>8.0</td>\n",
       "      <td>1</td>\n",
       "      <td>5</td>\n",
       "      <td>124</td>\n",
       "      <td>0</td>\n",
       "      <td>Papel e Cia</td>\n",
       "    </tr>\n",
       "    <tr>\n",
       "      <th>2</th>\n",
       "      <td>16153119</td>\n",
       "      <td>9835835</td>\n",
       "      <td>Organizador expositor p/ 70 esmaltes</td>\n",
       "      <td>expositor</td>\n",
       "      <td>2018-10-13 20:57:07</td>\n",
       "      <td>73.920006</td>\n",
       "      <td>2709.0</td>\n",
       "      <td>1</td>\n",
       "      <td>1</td>\n",
       "      <td>59</td>\n",
       "      <td>0</td>\n",
       "      <td>Outros</td>\n",
       "    </tr>\n",
       "    <tr>\n",
       "      <th>3</th>\n",
       "      <td>15877252</td>\n",
       "      <td>8071206</td>\n",
       "      <td>Jogo de Lençol Berço Estampado</td>\n",
       "      <td>t jogo lencol menino lencol berco</td>\n",
       "      <td>2017-02-27 13:26:03</td>\n",
       "      <td>118.770004</td>\n",
       "      <td>0.0</td>\n",
       "      <td>1</td>\n",
       "      <td>1</td>\n",
       "      <td>180</td>\n",
       "      <td>1</td>\n",
       "      <td>Bebê</td>\n",
       "    </tr>\n",
       "    <tr>\n",
       "      <th>4</th>\n",
       "      <td>15917108</td>\n",
       "      <td>7200773</td>\n",
       "      <td>ADESIVO BOX DE BANHEIRO</td>\n",
       "      <td>adesivo box banheiro</td>\n",
       "      <td>2017-05-09 13:18:38</td>\n",
       "      <td>191.810000</td>\n",
       "      <td>507.0</td>\n",
       "      <td>1</td>\n",
       "      <td>6</td>\n",
       "      <td>34</td>\n",
       "      <td>0</td>\n",
       "      <td>Decoração</td>\n",
       "    </tr>\n",
       "  </tbody>\n",
       "</table>\n",
       "</div>"
      ],
      "text/plain": [
       "   product_id  seller_id                                 title  \\\n",
       "0    11394449    8324141                Mandala Espírito Santo   \n",
       "1    15534262    6939286                      Cartão de Visita   \n",
       "2    16153119    9835835  Organizador expositor p/ 70 esmaltes   \n",
       "3    15877252    8071206        Jogo de Lençol Berço Estampado   \n",
       "4    15917108    7200773               ADESIVO BOX DE BANHEIRO   \n",
       "\n",
       "                                   concatenated_tags       creation_date  \\\n",
       "0                                        mandala mdf 2015-11-14 19:42:12   \n",
       "1  cartao visita panfletos tag adesivos copos lon... 2018-04-04 20:55:07   \n",
       "2                                          expositor 2018-10-13 20:57:07   \n",
       "3                  t jogo lencol menino lencol berco 2017-02-27 13:26:03   \n",
       "4                               adesivo box banheiro 2017-05-09 13:18:38   \n",
       "\n",
       "        price  weight  express_delivery  minimum_quantity  view_counts  \\\n",
       "0  171.890000  1200.0                 1                 4          244   \n",
       "1   77.670000     8.0                 1                 5          124   \n",
       "2   73.920006  2709.0                 1                 1           59   \n",
       "3  118.770004     0.0                 1                 1          180   \n",
       "4  191.810000   507.0                 1                 6           34   \n",
       "\n",
       "   order_counts     category  \n",
       "0             0    Decoração  \n",
       "1             0  Papel e Cia  \n",
       "2             0       Outros  \n",
       "3             1         Bebê  \n",
       "4             0    Decoração  "
      ]
     },
     "execution_count": 16,
     "metadata": {},
     "output_type": "execute_result"
    }
   ],
   "source": [
    "product_df = df.drop(columns=[\"query\", \"search_page\", \"position\"])\n",
    "product_df.head()"
   ]
  },
  {
   "cell_type": "code",
   "execution_count": 17,
   "metadata": {},
   "outputs": [
    {
     "data": {
      "text/plain": [
       "0.22625952610086614"
      ]
     },
     "execution_count": 17,
     "metadata": {},
     "output_type": "execute_result"
    }
   ],
   "source": [
    "id_group = [\"product_id\"]\n",
    "product_df.duplicated(id_group).mean()"
   ]
  },
  {
   "cell_type": "markdown",
   "metadata": {},
   "source": [
    "Como a base é de queries, que relacionam queries com produtos como resultados\n",
    "da busca, temos uma quantidade considerável de registros duplicados de produto\n",
    "(22,6%)."
   ]
  },
  {
   "cell_type": "code",
   "execution_count": 18,
   "metadata": {},
   "outputs": [
    {
     "name": "stdout",
     "output_type": "stream",
     "text": [
      "Únicas em relação a ['product_id']\n",
      "seller_id | title | concatenated_tags | creation_date | category\n",
      "\n",
      "Com variações em relação a ['product_id']\n",
      "price | weight | express_delivery | minimum_quantity | view_counts | order_counts\n"
     ]
    }
   ],
   "source": [
    "selected_cols = check_unity(df=product_df, id_group=id_group)"
   ]
  },
  {
   "cell_type": "markdown",
   "metadata": {},
   "source": [
    "A grande parte das variáveis que são textuais ou categóricas se identificam\n",
    "unicamente com `product_id`, a excessão é a `express_delivery`. Todas as outras\n",
    "variáveis podem apresentar variações para um mesmo produto. Com isso podemos\n",
    "hipotetizar que as queries aconteçam ao longo do tempo e que no passar desse\n",
    "tempo tenhamos variações nos produtos. É esperado que os preços possam variar\n",
    "de modo a incorporar a inflação. Também é possível que vendedores mudem as suas\n",
    "estratégias e alterem a quantidade de itens enviadas por cada compra, e com isso,\n",
    "condições de peso, entrega e quantidade mínima também variam. Por fim, com o\n",
    "tempo a quantidade de pessoas que acessa a página e compra esses produtos\n",
    "também tende a aumentar."
   ]
  },
  {
   "cell_type": "code",
   "execution_count": 19,
   "metadata": {},
   "outputs": [
    {
     "data": {
      "image/png": "[encoded data removed]",
      "text/plain": [
       "<Figure size 1080x360 with 1 Axes>"
      ]
     },
     "metadata": {
      "needs_background": "light"
     },
     "output_type": "display_data"
    },
    {
     "data": {
      "image/png": "[encoded data removed]",
      "text/plain": [
       "<Figure size 1080x576 with 1 Axes>"
      ]
     },
     "metadata": {
      "needs_background": "light"
     },
     "output_type": "display_data"
    },
    {
     "data": {
      "image/png": "[encoded data removed]",
      "text/plain": [
       "<Figure size 1080x576 with 9 Axes>"
      ]
     },
     "metadata": {
      "needs_background": "light"
     },
     "output_type": "display_data"
    }
   ],
   "source": [
    "# removendo express_delivery da lista de coluna que variam por produto\n",
    "selected_cols.pop(2)\n",
    "# analisando do coeficiente de variação por produto das variáveis que não\n",
    "# se relacionam unicamente com os produtos\n",
    "plot_variability(df=product_df, id_group=[\"product_id\"], col_list=selected_cols)"
   ]
  },
  {
   "cell_type": "markdown",
   "metadata": {},
   "source": [
    "Como podemos observar pela distribuição da frequência dos produtos, vemos que\n",
    "poucos produtos aparecem mais de uma vez na base, quase 80% dos produtos\n",
    "aparecem apenas uma vez na base. Um pouco mais de 10%, apenas 2 vezes. Dessa\n",
    "forma, vemos muito poucos produtos que são retornados por múltiplas queries (o\n",
    "que deve estar relacionado a uma grande variabilidade nas queries da amostra ou\n",
    "então um processo de amostragem que já tinha removido parcela de produtos\n",
    "duplicados).\n",
    "\n",
    "Considerando os registros duplicados vemos que, entre as variáveis que não estão\n",
    "relacionadas unicamente com os produtos, possuímos maior variabilidade nos\n",
    "indicadores de peso, e, principalmente, quantidade mínima no pedido. Ainda,\n",
    "assim, a maior parte dos registros repetidos possuem variabilidade muito baixa,\n",
    "bem próxima de zero.\n",
    "\n",
    "A menor quantidade de registros duplicados e os baixos valores de coeficiente\n",
    "de variação, são indícios de que a unificação dos registros em torno de medidas\n",
    "de tendência central podem ocorrer sem que hajam muitos problemas.\n",
    "\n",
    "#### Dados de queries\n",
    "\n",
    "Os dados de queries são os dados originais. Estamos considerando como\n",
    "registros únicos desse tipo de dados as combinações entre produto e queries.\n",
    "Essa escolha pode ser questionada, principalmente se estamos interessados em\n",
    "utilizar esses dados para prever ranqueamento de produtos (`position` e/ou\n",
    "`search_page`) a partir da `query`. Nesses casos, mesmo pequenas variações de\n",
    "produtos quanto aos seus preços e quantidade mínima podem ser importantes para\n",
    "definir quais produtos vão estar nas primerias posições do ranqueamento.\n",
    "\n",
    "Ainda assim, para fins comparativos com o que foi observado no caso dos dados\n",
    "de produtos vamos prosseguir a análise de dados duplicados utilizando esse par\n",
    "de identificadores únicos de registros de resultados queries."
   ]
  },
  {
   "cell_type": "code",
   "execution_count": 20,
   "metadata": {},
   "outputs": [
    {
     "name": "stdout",
     "output_type": "stream",
     "text": [
      "Únicas em relação a ['product_id', 'query']\n",
      "seller_id | title | concatenated_tags | creation_date | category\n",
      "\n",
      "Com variações em relação a ['product_id', 'query']\n",
      "search_page | position | price | weight | express_delivery | minimum_quantity | view_counts | order_counts\n"
     ]
    }
   ],
   "source": [
    "id_group = [\"product_id\", \"query\"]\n",
    "selected_cols = check_unity(df=df, id_group=id_group)"
   ]
  },
  {
   "cell_type": "code",
   "execution_count": 21,
   "metadata": {},
   "outputs": [
    {
     "data": {
      "image/png": "[encoded data removed]",
      "text/plain": [
       "<Figure size 1080x360 with 1 Axes>"
      ]
     },
     "metadata": {
      "needs_background": "light"
     },
     "output_type": "display_data"
    },
    {
     "data": {
      "image/png": "[encoded data removed]",
      "text/plain": [
       "<Figure size 1080x576 with 1 Axes>"
      ]
     },
     "metadata": {
      "needs_background": "light"
     },
     "output_type": "display_data"
    },
    {
     "data": {
      "image/png": "[encoded data removed]",
      "text/plain": [
       "<Figure size 1080x576 with 9 Axes>"
      ]
     },
     "metadata": {
      "needs_background": "light"
     },
     "output_type": "display_data"
    }
   ],
   "source": [
    "# remoção da express delivery e plotagem dos gráficos de dados duplicados\n",
    "selected_cols.pop(4)\n",
    "plot_variability(df=df, id_group=id_group, col_list=selected_cols)"
   ]
  },
  {
   "cell_type": "markdown",
   "metadata": {},
   "source": [
    "Como era de se esperar, no caso de registros de reultados de queries, temos\n",
    "uma menor parcela de registros que são duplicados. Quase 100% dos registros\n",
    "únicos (combinações de produto ou query) aparecem apenas uma vez entre os\n",
    "registros. Dessa forma, é muito raro, para uma mesma query, vermos um produto\n",
    "repetido mais de uma vez.\n",
    "\n",
    "É um pouco intrigante o porque isso ocorre. Mais que o produto aparecer mais\n",
    "de uma vez, ele aparece com variações de preço, quanidade mínima, peso...\n",
    "Se isso fosse mais frequente poderíamos começar a questionar o product_id como\n",
    "identificador único de produtos. Porém esses casos são tão excepcionais que é\n",
    "possível que sejam relativos a algum problema. Uma possibilidade que talvez\n",
    "explique isso é caso as informações de uma mesma query possam ser relacionadas\n",
    "a queries executadas em período distintos. Dessa forma, uma mesma query poderia\n",
    "estar relacionada múltiplas versões do produto referentes à sua atualização ao\n",
    "longo do tempo.\n",
    "\n",
    "Ainda assim, esses dados podem impactar na ordem dos resultados das queries.\n",
    "Dessa forma, não é tão garantido que a sua remoção não irá prejudicar o\n",
    "desenvolvimento da solução de recomendação de produtos. Por conta disso, não\n",
    "iremos remover os dados duplicados de resultados de queries.\n",
    "\n",
    "Outro ponto interessante é que ao analisar a distribuição dos coeficientes\n",
    "de variações entre os registros duplicados, vemos que essa distribuição\n",
    "é ainda mais concentrada em menores valores de coeficienes de variação.\n",
    "Isso ocorre principalmente para os casos de `search_page` e `position`, o que\n",
    "pode ser um indicador de que as variações nas outras variáveis não são\n",
    "correspondidas por variações no ranqueamento dos resultados de queries. Por\n",
    "fim, da mesma forma que ocorreu no caso dos registros duplicados de produtos\n",
    "os maiores valores de coeficientes de variação são mais frequentes para os\n",
    "dados de peso e quantidade mínima."
   ]
  },
  {
   "cell_type": "markdown",
   "metadata": {},
   "source": [
    "### Removendo os produtos duplicados\n",
    "\n",
    "A remoção dos dados dupicados de produtos envolve três etapas. Na primeira,\n",
    "removemos todos os registros duplicados contidos nos dados originais. Na\n",
    "segunda, pegamos os dados duplicados agrupamos por `product_id` e calculamos\n",
    "a moda para variáveis categóricas (e também a do tipo `datetime64`) e a média\n",
    "para variáveis numéricas. Por fim concatenamos os dois datasets, o primeiro\n",
    "sem os produtos duplicados e o segundo onde os produtos duplicados foram\n",
    "unificados em torno das modas das variáveis categóricas e das médias para\n",
    "as variáveis numéricas."
   ]
  },
  {
   "cell_type": "code",
   "execution_count": 22,
   "metadata": {},
   "outputs": [],
   "source": [
    "def series_mode(serie: pd.Series):\n",
    "    return stats.mode(serie)[0][0]\n",
    "\n",
    "def remove_duplicates(df: pd.DataFrame,\n",
    "                      id_group: list[str],\n",
    "                      mean_cols: list[str],\n",
    "                      mode_cols: list[str]) -> pd.DataFrame:\n",
    "    \"\"\"Remoção de dados duplicados a partir de combinação de group. Utiliza\n",
    "    mean_cols e mode_cols para unificar os registros em média e moda das\n",
    "    observações duplicadas\n",
    "\n",
    "    Args:\n",
    "        data (pd.DataFrame): dataset\n",
    "        group (list[str]): grupo que identifica unificamente o registro\n",
    "        mean_cols (list[str]): variáveis a serem unificadas pela média\n",
    "        mode_cols (list[str]): variáveis a serem unificadas pela moda\n",
    "\n",
    "    Returns:\n",
    "        pd.DataFrame: dataset sem registros duplicados\n",
    "    \"\"\"    \n",
    "    duplicated_mask = df[id_group].duplicated(keep=False)\n",
    "    \n",
    "    dupli_data = df.loc[duplicated_mask]\n",
    "    mode_stats = {col: series_mode for col in mode_cols}\n",
    "    mean_stats = {col: \"mean\" for col in mean_cols}\n",
    "    agg_stats = dict(**mode_stats, **mean_stats)\n",
    "    unified_dupli_data = (dupli_data.\n",
    "                          groupby(id_group, as_index=False).\n",
    "                          agg(agg_stats))\n",
    "    \n",
    "    no_duplit_data = df.loc[~duplicated_mask]\n",
    "    return pd.concat([no_duplit_data, unified_dupli_data]).set_index(id_group)"
   ]
  },
  {
   "cell_type": "code",
   "execution_count": 23,
   "metadata": {},
   "outputs": [
    {
     "data": {
      "text/html": [
       "<div>\n",
       "<style scoped>\n",
       "    .dataframe tbody tr th:only-of-type {\n",
       "        vertical-align: middle;\n",
       "    }\n",
       "\n",
       "    .dataframe tbody tr th {\n",
       "        vertical-align: top;\n",
       "    }\n",
       "\n",
       "    .dataframe thead th {\n",
       "        text-align: right;\n",
       "    }\n",
       "</style>\n",
       "<table border=\"1\" class=\"dataframe\">\n",
       "  <thead>\n",
       "    <tr style=\"text-align: right;\">\n",
       "      <th></th>\n",
       "      <th>seller_id</th>\n",
       "      <th>title</th>\n",
       "      <th>concatenated_tags</th>\n",
       "      <th>creation_date</th>\n",
       "      <th>price</th>\n",
       "      <th>weight</th>\n",
       "      <th>express_delivery</th>\n",
       "      <th>minimum_quantity</th>\n",
       "      <th>view_counts</th>\n",
       "      <th>order_counts</th>\n",
       "      <th>category</th>\n",
       "    </tr>\n",
       "    <tr>\n",
       "      <th>product_id</th>\n",
       "      <th></th>\n",
       "      <th></th>\n",
       "      <th></th>\n",
       "      <th></th>\n",
       "      <th></th>\n",
       "      <th></th>\n",
       "      <th></th>\n",
       "      <th></th>\n",
       "      <th></th>\n",
       "      <th></th>\n",
       "      <th></th>\n",
       "    </tr>\n",
       "  </thead>\n",
       "  <tbody>\n",
       "    <tr>\n",
       "      <th>15534262</th>\n",
       "      <td>6939286</td>\n",
       "      <td>Cartão de Visita</td>\n",
       "      <td>cartao visita panfletos tag adesivos copos lon...</td>\n",
       "      <td>2018-04-04 20:55:07</td>\n",
       "      <td>77.670000</td>\n",
       "      <td>8.0</td>\n",
       "      <td>1</td>\n",
       "      <td>5.0</td>\n",
       "      <td>124.0</td>\n",
       "      <td>0.0</td>\n",
       "      <td>Papel e Cia</td>\n",
       "    </tr>\n",
       "    <tr>\n",
       "      <th>16153119</th>\n",
       "      <td>9835835</td>\n",
       "      <td>Organizador expositor p/ 70 esmaltes</td>\n",
       "      <td>expositor</td>\n",
       "      <td>2018-10-13 20:57:07</td>\n",
       "      <td>73.920006</td>\n",
       "      <td>2709.0</td>\n",
       "      <td>1</td>\n",
       "      <td>1.0</td>\n",
       "      <td>59.0</td>\n",
       "      <td>0.0</td>\n",
       "      <td>Outros</td>\n",
       "    </tr>\n",
       "    <tr>\n",
       "      <th>15877252</th>\n",
       "      <td>8071206</td>\n",
       "      <td>Jogo de Lençol Berço Estampado</td>\n",
       "      <td>t jogo lencol menino lencol berco</td>\n",
       "      <td>2017-02-27 13:26:03</td>\n",
       "      <td>118.770004</td>\n",
       "      <td>0.0</td>\n",
       "      <td>1</td>\n",
       "      <td>1.0</td>\n",
       "      <td>180.0</td>\n",
       "      <td>1.0</td>\n",
       "      <td>Bebê</td>\n",
       "    </tr>\n",
       "    <tr>\n",
       "      <th>15917108</th>\n",
       "      <td>7200773</td>\n",
       "      <td>ADESIVO BOX DE BANHEIRO</td>\n",
       "      <td>adesivo box banheiro</td>\n",
       "      <td>2017-05-09 13:18:38</td>\n",
       "      <td>191.810000</td>\n",
       "      <td>507.0</td>\n",
       "      <td>1</td>\n",
       "      <td>6.0</td>\n",
       "      <td>34.0</td>\n",
       "      <td>0.0</td>\n",
       "      <td>Decoração</td>\n",
       "    </tr>\n",
       "    <tr>\n",
       "      <th>13193769</th>\n",
       "      <td>2933585</td>\n",
       "      <td>chaveiro dia dos pais</td>\n",
       "      <td>dia pais</td>\n",
       "      <td>2018-07-04 12:47:49</td>\n",
       "      <td>11.420000</td>\n",
       "      <td>6.0</td>\n",
       "      <td>1</td>\n",
       "      <td>23.0</td>\n",
       "      <td>72.0</td>\n",
       "      <td>0.0</td>\n",
       "      <td>Lembrancinhas</td>\n",
       "    </tr>\n",
       "  </tbody>\n",
       "</table>\n",
       "</div>"
      ],
      "text/plain": [
       "            seller_id                                 title  \\\n",
       "product_id                                                    \n",
       "15534262      6939286                      Cartão de Visita   \n",
       "16153119      9835835  Organizador expositor p/ 70 esmaltes   \n",
       "15877252      8071206        Jogo de Lençol Berço Estampado   \n",
       "15917108      7200773               ADESIVO BOX DE BANHEIRO   \n",
       "13193769      2933585                 chaveiro dia dos pais   \n",
       "\n",
       "                                            concatenated_tags  \\\n",
       "product_id                                                      \n",
       "15534262    cartao visita panfletos tag adesivos copos lon...   \n",
       "16153119                                            expositor   \n",
       "15877252                    t jogo lencol menino lencol berco   \n",
       "15917108                                 adesivo box banheiro   \n",
       "13193769                                             dia pais   \n",
       "\n",
       "                 creation_date       price  weight  express_delivery  \\\n",
       "product_id                                                             \n",
       "15534262   2018-04-04 20:55:07   77.670000     8.0                 1   \n",
       "16153119   2018-10-13 20:57:07   73.920006  2709.0                 1   \n",
       "15877252   2017-02-27 13:26:03  118.770004     0.0                 1   \n",
       "15917108   2017-05-09 13:18:38  191.810000   507.0                 1   \n",
       "13193769   2018-07-04 12:47:49   11.420000     6.0                 1   \n",
       "\n",
       "            minimum_quantity  view_counts  order_counts       category  \n",
       "product_id                                                              \n",
       "15534262                 5.0        124.0           0.0    Papel e Cia  \n",
       "16153119                 1.0         59.0           0.0         Outros  \n",
       "15877252                 1.0        180.0           1.0           Bebê  \n",
       "15917108                 6.0         34.0           0.0      Decoração  \n",
       "13193769                23.0         72.0           0.0  Lembrancinhas  "
      ]
     },
     "execution_count": 23,
     "metadata": {},
     "output_type": "execute_result"
    }
   ],
   "source": [
    "numeric_cols = [\"price\", \"weight\", \"minimum_quantity\",\n",
    "                \"view_counts\", \"order_counts\"]\n",
    "categorical_cols = [\"seller_id\", \"title\", \"concatenated_tags\",\n",
    "                    \"creation_date\", \"express_delivery\", \"category\"]\n",
    "product_df = remove_duplicates(df=product_df,\n",
    "                               id_group=[\"product_id\"],\n",
    "                               mean_cols=numeric_cols,\n",
    "                               mode_cols=categorical_cols)\n",
    "product_df.head()"
   ]
  },
  {
   "cell_type": "code",
   "execution_count": 24,
   "metadata": {},
   "outputs": [
    {
     "data": {
      "text/plain": [
       "(29748, 11)"
      ]
     },
     "execution_count": 24,
     "metadata": {},
     "output_type": "execute_result"
    }
   ],
   "source": [
    "product_df.shape"
   ]
  },
  {
   "cell_type": "code",
   "execution_count": 25,
   "metadata": {},
   "outputs": [
    {
     "name": "stdout",
     "output_type": "stream",
     "text": [
      "<class 'pandas.core.frame.DataFrame'>\n",
      "Int64Index: 29748 entries, 15534262 to 16687430\n",
      "Data columns (total 11 columns):\n",
      " #   Column             Non-Null Count  Dtype         \n",
      "---  ------             --------------  -----         \n",
      " 0   seller_id          29748 non-null  int64         \n",
      " 1   title              29748 non-null  object        \n",
      " 2   concatenated_tags  29748 non-null  object        \n",
      " 3   creation_date      29748 non-null  datetime64[ns]\n",
      " 4   price              29748 non-null  float64       \n",
      " 5   weight             29748 non-null  float64       \n",
      " 6   express_delivery   29748 non-null  int64         \n",
      " 7   minimum_quantity   29748 non-null  float64       \n",
      " 8   view_counts        29748 non-null  float64       \n",
      " 9   order_counts       29748 non-null  float64       \n",
      " 10  category           29748 non-null  object        \n",
      "dtypes: datetime64[ns](1), float64(5), int64(2), object(3)\n",
      "memory usage: 2.7+ MB\n"
     ]
    }
   ],
   "source": [
    "product_df.info()"
   ]
  },
  {
   "cell_type": "markdown",
   "metadata": {},
   "source": [
    "# Separação entre treinamento e teste e salvando os dados\n",
    "\n",
    "Agora temos os dois datasets prontos para serem salvos. Mas antes de salvarmos\n",
    "será necessário separar os dados entre treinamento e teste. Isso é necessário\n",
    "para que depois seja possível testar os modelos em condições mais próximas à\n",
    "realidade. Ou seja, não estamos interessados em modelos que se adaptem à todas\n",
    "as condições particulares dos dados em que estejam sendo treinados, mas que\n",
    "sejam capaz de reproduzir seus padrões mais gerais e assim, performarem\n",
    "em dados não antes vistos.\n",
    "\n",
    "## Dados de produto\n",
    "\n",
    "No caso dos dados de produto, como iremos utilizá-los para prever as categorias,\n",
    "devemos garantir que todas as categorias sejam representadas adequadamente\n",
    "tanto nos dados de treinamento quanto nos dados de teste. Para tal iremos\n",
    "realizar a separação dos dados com estratificação por `category`."
   ]
  },
  {
   "cell_type": "code",
   "execution_count": 26,
   "metadata": {},
   "outputs": [],
   "source": [
    "train_prod_df, test_prod_df = train_test_split(product_df,\n",
    "                                               test_size=0.3,\n",
    "                                               random_state=23,\n",
    "                                               stratify=product_df[\"category\"])\n",
    "for filename, data in [(\"train_prod.pickle\", train_prod_df),\n",
    "                       (\"test_prod.pickle\", test_prod_df)]:\n",
    "    data.to_pickle(\"../data/\" + filename)"
   ]
  },
  {
   "cell_type": "code",
   "execution_count": 27,
   "metadata": {},
   "outputs": [
    {
     "data": {
      "image/png": "[encoded data removed]",
      "text/plain": [
       "<Figure size 864x360 with 1 Axes>"
      ]
     },
     "metadata": {
      "needs_background": "light"
     },
     "output_type": "display_data"
    }
   ],
   "source": [
    "# verificando se a separação manteve a distribuição das categorias nos dados\n",
    "(train_prod_df[\"category\"].\n",
    " value_counts(ascending=True, normalize=True).\n",
    " to_frame(\"train\").\n",
    " join(test_prod_df[\"category\"].\n",
    "      value_counts(ascending=True, normalize=True).\n",
    "      to_frame(\"test\"))\n",
    " ).plot(kind=\"barh\", figsize=(12, 5), title=\"Distribuição (relativa) das categorias por base de dados\")\n",
    "plt.show()"
   ]
  },
  {
   "cell_type": "markdown",
   "metadata": {},
   "source": [
    "## Query\n",
    "\n",
    "Para o salvamento dos dadas de query a separação será simples."
   ]
  },
  {
   "cell_type": "code",
   "execution_count": 28,
   "metadata": {},
   "outputs": [],
   "source": [
    "train_query_df, test_query_df = train_test_split(df,\n",
    "                                                 test_size=0.3,\n",
    "                                                 random_state=23)\n",
    "for filename, data in [(\"train_query.pickle\", train_query_df),\n",
    "                       (\"test_query.pickle\", test_query_df)]:\n",
    "    data.to_pickle(\"../data/\" + filename)"
   ]
  }
 ],
 "metadata": {
  "interpreter": {
   "hash": "46c0bb3b8e63a95c204f7a1a105596c1673bb87538bedee3505b8c3e2a065390"
  },
  "kernelspec": {
   "display_name": "Python 3.9.6 ('product_recommender-qoUF0oDD')",
   "language": "python",
   "name": "python3"
  },
  "language_info": {
   "codemirror_mode": {
    "name": "ipython",
    "version": 3
   },
   "file_extension": ".py",
   "mimetype": "text/x-python",
   "name": "python",
   "nbconvert_exporter": "python",
   "pygments_lexer": "ipython3",
   "version": "3.9.6"
  },
  "orig_nbformat": 4
 },
 "nbformat": 4,
 "nbformat_minor": 2
}
