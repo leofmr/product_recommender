{
 "cells": [
  {
   "cell_type": "markdown",
   "metadata": {},
   "source": [
    "# Introdução\n",
    "\n",
    "Nesse notebook é realizada a análise preliminar dos dados completos e sua\n",
    "separação em dados de treinamento e teste. Nessa análise preliminar iremos\n",
    "fazer diagnósticos da qualidade dos dados e quando necessário ajustá-lo. Isso,\n",
    "compreende correção do tipo dos dados, avaliação da consistência, análise de\n",
    "dados faltantes (sem considerar técnicas estatísticas de imputação) e remoção\n",
    "de dados duplicados.\n",
    "\n",
    "O segundo objetivo é a separação dos dados em dados de treinamento e teste para\n",
    "que os modelos de classificação e recomendação possam vir a ter sua capacidade\n",
    "de generalização validada em etapa futura. Nessa etapa também faremos uma\n",
    "análise da distribuição da variável `category`. Uma vez que deveremos\n",
    "desenvolver um modelo para prever essa variável é importante que ela seja\n",
    "bem representada tanto nos dados de treinamento quanto nos de treinamento."
   ]
  },
  {
   "cell_type": "markdown",
   "metadata": {},
   "source": [
    "# Imports"
   ]
  },
  {
   "cell_type": "code",
   "execution_count": 45,
   "metadata": {},
   "outputs": [],
   "source": [
    "import pandas as pd\n",
    "import matplotlib.pyplot as plt\n",
    "from scipy import stats\n",
    "from sklearn.model_selection import train_test_split"
   ]
  },
  {
   "cell_type": "markdown",
   "metadata": {},
   "source": [
    "# Carregamento dos dados"
   ]
  },
  {
   "cell_type": "code",
   "execution_count": 46,
   "metadata": {},
   "outputs": [
    {
     "data": {
      "text/html": [
       "<div>\n",
       "<style scoped>\n",
       "    .dataframe tbody tr th:only-of-type {\n",
       "        vertical-align: middle;\n",
       "    }\n",
       "\n",
       "    .dataframe tbody tr th {\n",
       "        vertical-align: top;\n",
       "    }\n",
       "\n",
       "    .dataframe thead th {\n",
       "        text-align: right;\n",
       "    }\n",
       "</style>\n",
       "<table border=\"1\" class=\"dataframe\">\n",
       "  <thead>\n",
       "    <tr style=\"text-align: right;\">\n",
       "      <th></th>\n",
       "      <th>product_id</th>\n",
       "      <th>seller_id</th>\n",
       "      <th>query</th>\n",
       "      <th>search_page</th>\n",
       "      <th>position</th>\n",
       "      <th>title</th>\n",
       "      <th>concatenated_tags</th>\n",
       "      <th>creation_date</th>\n",
       "      <th>price</th>\n",
       "      <th>weight</th>\n",
       "      <th>express_delivery</th>\n",
       "      <th>minimum_quantity</th>\n",
       "      <th>view_counts</th>\n",
       "      <th>order_counts</th>\n",
       "      <th>category</th>\n",
       "    </tr>\n",
       "  </thead>\n",
       "  <tbody>\n",
       "    <tr>\n",
       "      <th>0</th>\n",
       "      <td>11394449</td>\n",
       "      <td>8324141</td>\n",
       "      <td>espirito santo</td>\n",
       "      <td>2</td>\n",
       "      <td>6</td>\n",
       "      <td>Mandala Espírito Santo</td>\n",
       "      <td>mandala mdf</td>\n",
       "      <td>2015-11-14 19:42:12</td>\n",
       "      <td>171.890000</td>\n",
       "      <td>1200.0</td>\n",
       "      <td>1</td>\n",
       "      <td>4</td>\n",
       "      <td>244</td>\n",
       "      <td>NaN</td>\n",
       "      <td>Decoração</td>\n",
       "    </tr>\n",
       "    <tr>\n",
       "      <th>1</th>\n",
       "      <td>15534262</td>\n",
       "      <td>6939286</td>\n",
       "      <td>cartao de visita</td>\n",
       "      <td>2</td>\n",
       "      <td>0</td>\n",
       "      <td>Cartão de Visita</td>\n",
       "      <td>cartao visita panfletos tag adesivos copos lon...</td>\n",
       "      <td>2018-04-04 20:55:07</td>\n",
       "      <td>77.670000</td>\n",
       "      <td>8.0</td>\n",
       "      <td>1</td>\n",
       "      <td>5</td>\n",
       "      <td>124</td>\n",
       "      <td>NaN</td>\n",
       "      <td>Papel e Cia</td>\n",
       "    </tr>\n",
       "    <tr>\n",
       "      <th>2</th>\n",
       "      <td>16153119</td>\n",
       "      <td>9835835</td>\n",
       "      <td>expositor de esmaltes</td>\n",
       "      <td>1</td>\n",
       "      <td>38</td>\n",
       "      <td>Organizador expositor p/ 70 esmaltes</td>\n",
       "      <td>expositor</td>\n",
       "      <td>2018-10-13 20:57:07</td>\n",
       "      <td>73.920006</td>\n",
       "      <td>2709.0</td>\n",
       "      <td>1</td>\n",
       "      <td>1</td>\n",
       "      <td>59</td>\n",
       "      <td>NaN</td>\n",
       "      <td>Outros</td>\n",
       "    </tr>\n",
       "    <tr>\n",
       "      <th>3</th>\n",
       "      <td>15877252</td>\n",
       "      <td>8071206</td>\n",
       "      <td>medidas lencol para berco americano</td>\n",
       "      <td>1</td>\n",
       "      <td>6</td>\n",
       "      <td>Jogo de Lençol Berço Estampado</td>\n",
       "      <td>t jogo lencol menino lencol berco</td>\n",
       "      <td>2017-02-27 13:26:03</td>\n",
       "      <td>118.770004</td>\n",
       "      <td>0.0</td>\n",
       "      <td>1</td>\n",
       "      <td>1</td>\n",
       "      <td>180</td>\n",
       "      <td>1.0</td>\n",
       "      <td>Bebê</td>\n",
       "    </tr>\n",
       "    <tr>\n",
       "      <th>4</th>\n",
       "      <td>15917108</td>\n",
       "      <td>7200773</td>\n",
       "      <td>adesivo box banheiro</td>\n",
       "      <td>3</td>\n",
       "      <td>38</td>\n",
       "      <td>ADESIVO BOX DE BANHEIRO</td>\n",
       "      <td>adesivo box banheiro</td>\n",
       "      <td>2017-05-09 13:18:38</td>\n",
       "      <td>191.810000</td>\n",
       "      <td>507.0</td>\n",
       "      <td>1</td>\n",
       "      <td>6</td>\n",
       "      <td>34</td>\n",
       "      <td>NaN</td>\n",
       "      <td>Decoração</td>\n",
       "    </tr>\n",
       "  </tbody>\n",
       "</table>\n",
       "</div>"
      ],
      "text/plain": [
       "   product_id  seller_id                                query  search_page  \\\n",
       "0    11394449    8324141                       espirito santo            2   \n",
       "1    15534262    6939286                     cartao de visita            2   \n",
       "2    16153119    9835835                expositor de esmaltes            1   \n",
       "3    15877252    8071206  medidas lencol para berco americano            1   \n",
       "4    15917108    7200773                 adesivo box banheiro            3   \n",
       "\n",
       "   position                                 title  \\\n",
       "0         6                Mandala Espírito Santo   \n",
       "1         0                      Cartão de Visita   \n",
       "2        38  Organizador expositor p/ 70 esmaltes   \n",
       "3         6        Jogo de Lençol Berço Estampado   \n",
       "4        38               ADESIVO BOX DE BANHEIRO   \n",
       "\n",
       "                                   concatenated_tags        creation_date  \\\n",
       "0                                        mandala mdf  2015-11-14 19:42:12   \n",
       "1  cartao visita panfletos tag adesivos copos lon...  2018-04-04 20:55:07   \n",
       "2                                          expositor  2018-10-13 20:57:07   \n",
       "3                  t jogo lencol menino lencol berco  2017-02-27 13:26:03   \n",
       "4                               adesivo box banheiro  2017-05-09 13:18:38   \n",
       "\n",
       "        price  weight  express_delivery  minimum_quantity  view_counts  \\\n",
       "0  171.890000  1200.0                 1                 4          244   \n",
       "1   77.670000     8.0                 1                 5          124   \n",
       "2   73.920006  2709.0                 1                 1           59   \n",
       "3  118.770004     0.0                 1                 1          180   \n",
       "4  191.810000   507.0                 1                 6           34   \n",
       "\n",
       "   order_counts     category  \n",
       "0           NaN    Decoração  \n",
       "1           NaN  Papel e Cia  \n",
       "2           NaN       Outros  \n",
       "3           1.0         Bebê  \n",
       "4           NaN    Decoração  "
      ]
     },
     "execution_count": 46,
     "metadata": {},
     "output_type": "execute_result"
    }
   ],
   "source": [
    "df = pd.read_csv(r\"..\\data\\complete_dataset.csv\")\n",
    "df.head()"
   ]
  },
  {
   "cell_type": "code",
   "execution_count": 47,
   "metadata": {},
   "outputs": [
    {
     "data": {
      "text/plain": [
       "(38507, 15)"
      ]
     },
     "execution_count": 47,
     "metadata": {},
     "output_type": "execute_result"
    }
   ],
   "source": [
    "df.shape"
   ]
  },
  {
   "cell_type": "markdown",
   "metadata": {},
   "source": [
    "Os dados foram carregados corretamente e ao todo temos 38.507 registro com\n",
    "15 atributos."
   ]
  },
  {
   "cell_type": "markdown",
   "metadata": {},
   "source": [
    "# Análise preliminar dos dados\n",
    "\n",
    "## Dados faltantes"
   ]
  },
  {
   "cell_type": "code",
   "execution_count": 48,
   "metadata": {},
   "outputs": [
    {
     "data": {
      "text/plain": [
       "product_id            0.00\n",
       "seller_id             0.00\n",
       "query                 0.00\n",
       "search_page           0.00\n",
       "position              0.00\n",
       "title                 0.00\n",
       "concatenated_tags     0.01\n",
       "creation_date         0.00\n",
       "price                 0.00\n",
       "weight                0.15\n",
       "express_delivery      0.00\n",
       "minimum_quantity      0.00\n",
       "view_counts           0.00\n",
       "order_counts         52.95\n",
       "category              0.00\n",
       "dtype: float64"
      ]
     },
     "execution_count": 48,
     "metadata": {},
     "output_type": "execute_result"
    }
   ],
   "source": [
    "df.isna().mean().mul(100).round(2)"
   ]
  },
  {
   "cell_type": "markdown",
   "metadata": {},
   "source": [
    "Apenas a coluna `order_countts` possui uma quantidade de dados faltantes\n",
    "significativa (52,95%). Outras colunas que também possuem dados faltantes são\n",
    "`weight` (0,01%) e `concatenated_tags` (0,15%), porém estes, em um nível\n",
    "desprezível."
   ]
  },
  {
   "cell_type": "code",
   "execution_count": 49,
   "metadata": {},
   "outputs": [
    {
     "data": {
      "text/plain": [
       "False"
      ]
     },
     "execution_count": 49,
     "metadata": {},
     "output_type": "execute_result"
    }
   ],
   "source": [
    "(df[\"order_counts\"] == 0).any()"
   ]
  },
  {
   "cell_type": "markdown",
   "metadata": {},
   "source": [
    "O fato de não termos nenhum registro de `order_counts` como sendo igual a 0.\n",
    "Pode ser um indicativo de que caso um item não receba ordens na query, a\n",
    "observação ficará como `missing`. Supondo que esse realmente seja o caso (o que parece ser bastante razoável), para sanarmos essa grande quantidade de dados faltantes em `order_counts` basta preencher dados faltantes dessa coluna com\n",
    "`0`."
   ]
  },
  {
   "cell_type": "code",
   "execution_count": 50,
   "metadata": {},
   "outputs": [
    {
     "data": {
      "text/plain": [
       "False"
      ]
     },
     "execution_count": 50,
     "metadata": {},
     "output_type": "execute_result"
    }
   ],
   "source": [
    "df[\"order_counts\"].fillna(0, inplace=True)\n",
    "df[\"order_counts\"].isna().any()"
   ]
  },
  {
   "cell_type": "markdown",
   "metadata": {},
   "source": [
    "## Verificando o tipo das variáveis\n",
    "\n",
    "Para simplificar a conformação dos dados vamos tratar variáveis categóricas\n",
    "como textuais `object`."
   ]
  },
  {
   "cell_type": "code",
   "execution_count": 51,
   "metadata": {},
   "outputs": [
    {
     "data": {
      "text/plain": [
       "product_id             int64\n",
       "seller_id              int64\n",
       "query                 object\n",
       "search_page            int64\n",
       "position               int64\n",
       "title                 object\n",
       "concatenated_tags     object\n",
       "creation_date         object\n",
       "price                float64\n",
       "weight               float64\n",
       "express_delivery       int64\n",
       "minimum_quantity       int64\n",
       "view_counts            int64\n",
       "order_counts         float64\n",
       "category              object\n",
       "dtype: object"
      ]
     },
     "execution_count": 51,
     "metadata": {},
     "output_type": "execute_result"
    }
   ],
   "source": [
    "df.dtypes"
   ]
  },
  {
   "cell_type": "markdown",
   "metadata": {},
   "source": [
    "A primeira variável que será modificada é a `creation_date`. Como não\n",
    "especificamos no momento do carregamento dos dados qual coluna do dataset\n",
    "deveria ser parseado para data, esse campo foi carregado como um `object` ao\n",
    "invés de um `datetime`.\n",
    "\n",
    "Avaliando as primeiras linhas dessa coluna, vemos que ela aparentemente está\n",
    "formatada corretamente. Para nos certificarmos que a conversão ocorrerá como\n",
    "esperado ao invés de deixar que o método de conversão infira o formato da data\n",
    "esse formato será especificado (`Y-m-d H:M:S`). "
   ]
  },
  {
   "cell_type": "code",
   "execution_count": 52,
   "metadata": {},
   "outputs": [
    {
     "data": {
      "text/plain": [
       "0    2015-11-14 19:42:12\n",
       "1    2018-04-04 20:55:07\n",
       "2    2018-10-13 20:57:07\n",
       "3    2017-02-27 13:26:03\n",
       "4    2017-05-09 13:18:38\n",
       "Name: creation_date, dtype: object"
      ]
     },
     "execution_count": 52,
     "metadata": {},
     "output_type": "execute_result"
    }
   ],
   "source": [
    "df[\"creation_date\"].head()"
   ]
  },
  {
   "cell_type": "code",
   "execution_count": 53,
   "metadata": {},
   "outputs": [
    {
     "data": {
      "text/plain": [
       "0   2015-11-14 19:42:12\n",
       "1   2018-04-04 20:55:07\n",
       "2   2018-10-13 20:57:07\n",
       "3   2017-02-27 13:26:03\n",
       "4   2017-05-09 13:18:38\n",
       "Name: creation_date, dtype: datetime64[ns]"
      ]
     },
     "execution_count": 53,
     "metadata": {},
     "output_type": "execute_result"
    }
   ],
   "source": [
    "df[\"creation_date\"] = pd.to_datetime(df[\"creation_date\"], format=\"%Y-%m-%d %H:%M:%S\")\n",
    "df[\"creation_date\"].head()"
   ]
  },
  {
   "cell_type": "markdown",
   "metadata": {},
   "source": [
    "Apesar de menor importância outra variável que pode ter seu tipo modificado é\n",
    "a `order_counts` que antes estava definida como `float`. A variável estava\n",
    "tipada dessa forma pois possuia registros faltantes entre suas observações.\n",
    "Como já acabamos com esse problema, faz sentido para esse tipo de dado\n",
    "convertê-lo para número inteiro."
   ]
  },
  {
   "cell_type": "code",
   "execution_count": 54,
   "metadata": {},
   "outputs": [
    {
     "data": {
      "text/plain": [
       "0    0\n",
       "1    0\n",
       "2    0\n",
       "3    1\n",
       "4    0\n",
       "Name: order_counts, dtype: int32"
      ]
     },
     "execution_count": 54,
     "metadata": {},
     "output_type": "execute_result"
    }
   ],
   "source": [
    "df[\"order_counts\"] = df[\"order_counts\"].astype(\"int\")\n",
    "df[\"order_counts\"].head()"
   ]
  },
  {
   "cell_type": "markdown",
   "metadata": {},
   "source": [
    "Por fim, vamos verificar se as variáveis categórias `express_delivery` e\n",
    "`category`, possuem entre as suas observações apenas valores referentes às suas\n",
    "categorias."
   ]
  },
  {
   "cell_type": "code",
   "execution_count": 55,
   "metadata": {},
   "outputs": [],
   "source": [
    "# verificando se temos apenas registros com observações iguais às esperadas\n",
    "# tanto para a variável express_delivery quanto para category\n",
    "assert set(df[\"express_delivery\"].unique()) == set([1, 0])\n",
    "cat_list = [\"Bebê\", \"Bijuterias e Jóias\", \"Decoração\",\n",
    "            \"Lembrancinhas\", \"Papel e Cia\", \"Outros\"]\n",
    "assert set(df[\"category\"].unique()) == set(cat_list)"
   ]
  },
  {
   "cell_type": "markdown",
   "metadata": {},
   "source": [
    "Após essa última verificação vemos que ambas as variáveis tem o preenchimento\n",
    "correto de suas categoriais."
   ]
  },
  {
   "cell_type": "markdown",
   "metadata": {},
   "source": [
    "## Identificando registros únicos\n",
    "\n",
    "Nessa etapa vamos analisar a existência de dados duplicados. Porém antes disso,\n",
    "precisamos saber o que identifica unicamente as nossas observações. Como estamos\n",
    "lidando com registros de resultados de querys, e supondo que os product_id e\n",
    "seller_id de fato identificam unicamente cada um dos produtos e vendedores, o\n",
    "nosso registro único seria a combinação entre essas três variáveis:\n",
    "`product_id`, `seller_id` e `query`."
   ]
  },
  {
   "cell_type": "code",
   "execution_count": 56,
   "metadata": {},
   "outputs": [
    {
     "data": {
      "text/plain": [
       "product_id    29801\n",
       "seller_id      8515\n",
       "query          6397\n",
       "dtype: int64"
      ]
     },
     "execution_count": 56,
     "metadata": {},
     "output_type": "execute_result"
    }
   ],
   "source": [
    "unique_grouping = [\"product_id\", \"seller_id\", \"query\"]\n",
    "df[unique_grouping].nunique()"
   ]
  },
  {
   "cell_type": "markdown",
   "metadata": {},
   "source": [
    "Apesar de não termos registros duplicados como um todo, identificamos 1.014\n",
    "combinações duplicadas das três variáveis que escolhemos para identificar\n",
    "unicamente os nossos registros.\n",
    "\n",
    "Para compreender melhor o porque isso ocorre, devemos analisar as variações em\n",
    "outras colunas quando a combinação de produto, vendedor e query é duplicada.\n",
    "Isso é um primeiro passo para avaliarmos o que vamos fazer com esses potenciais\n",
    "registros duplicados. Se decidimos manter essas variações, e desconsideramos\n",
    "combinações de produto, vendedor e query como identificador único da base de\n",
    "dados. Ou, se pensamos em uma estratégia para unificar essas variações, e\n",
    "eliminarmos esses registros duplicados."
   ]
  },
  {
   "cell_type": "code",
   "execution_count": 57,
   "metadata": {},
   "outputs": [
    {
     "data": {
      "text/plain": [
       "0"
      ]
     },
     "execution_count": 57,
     "metadata": {},
     "output_type": "execute_result"
    }
   ],
   "source": [
    "df.duplicated().sum()"
   ]
  },
  {
   "cell_type": "code",
   "execution_count": 58,
   "metadata": {},
   "outputs": [
    {
     "data": {
      "text/plain": [
       "1014"
      ]
     },
     "execution_count": 58,
     "metadata": {},
     "output_type": "execute_result"
    }
   ],
   "source": [
    "df[unique_grouping].duplicated().sum()"
   ]
  },
  {
   "cell_type": "markdown",
   "metadata": {},
   "source": [
    "Em uma primeira análise dos primeiros 10 registros duplicados, vemos que a grande parte dessas diferenças concentram-se em variáveis numéricas, como `search_page`,\n",
    "`position`, `price`, `weight`...\n",
    "\n",
    "Na variável do tipo data (`creation_date`) e nas variáveis categóricas e\n",
    "textuais referentes ao produto e vendedor (`category`, `concatenated_tags`,\n",
    "`express_delivery` e `title`) não encontramos variações.\n",
    "\n",
    "Com isso vamos separar a identificação de divergências entre as observações duplicadas em duas. Primeiro levando em consideração apenas aquelas colunas que aparenetemente não possuem diferenças entre as combinações de produto, vendedor e query, e que por isso poderiam ter os registros duplicados eliminados sem que haja\n",
    "perda de informação. E em seguida vamos analisar aqueles que existem diferenças\n",
    "e que a remoção de duplicatas/unificação dos registros iria incorrer em perda\n",
    "de informação."
   ]
  },
  {
   "cell_type": "code",
   "execution_count": 59,
   "metadata": {},
   "outputs": [
    {
     "data": {
      "text/html": [
       "<div>\n",
       "<style scoped>\n",
       "    .dataframe tbody tr th:only-of-type {\n",
       "        vertical-align: middle;\n",
       "    }\n",
       "\n",
       "    .dataframe tbody tr th {\n",
       "        vertical-align: top;\n",
       "    }\n",
       "\n",
       "    .dataframe thead th {\n",
       "        text-align: right;\n",
       "    }\n",
       "</style>\n",
       "<table border=\"1\" class=\"dataframe\">\n",
       "  <thead>\n",
       "    <tr style=\"text-align: right;\">\n",
       "      <th></th>\n",
       "      <th>product_id</th>\n",
       "      <th>seller_id</th>\n",
       "      <th>query</th>\n",
       "      <th>search_page</th>\n",
       "      <th>position</th>\n",
       "      <th>title</th>\n",
       "      <th>concatenated_tags</th>\n",
       "      <th>creation_date</th>\n",
       "      <th>price</th>\n",
       "      <th>weight</th>\n",
       "      <th>express_delivery</th>\n",
       "      <th>minimum_quantity</th>\n",
       "      <th>view_counts</th>\n",
       "      <th>order_counts</th>\n",
       "      <th>category</th>\n",
       "    </tr>\n",
       "  </thead>\n",
       "  <tbody>\n",
       "    <tr>\n",
       "      <th>12319</th>\n",
       "      <td>1426</td>\n",
       "      <td>793061</td>\n",
       "      <td>saquinho maternidade</td>\n",
       "      <td>3</td>\n",
       "      <td>0</td>\n",
       "      <td>Saquinho de Maternidade Chevron Ursinho</td>\n",
       "      <td>saquinho maternidade fralda vicente lembrancin...</td>\n",
       "      <td>2018-02-26 01:27:53</td>\n",
       "      <td>26.770000</td>\n",
       "      <td>7.0</td>\n",
       "      <td>1</td>\n",
       "      <td>11</td>\n",
       "      <td>3298</td>\n",
       "      <td>0</td>\n",
       "      <td>Bebê</td>\n",
       "    </tr>\n",
       "    <tr>\n",
       "      <th>17589</th>\n",
       "      <td>1426</td>\n",
       "      <td>793061</td>\n",
       "      <td>saquinho maternidade</td>\n",
       "      <td>3</td>\n",
       "      <td>2</td>\n",
       "      <td>Saquinho de Maternidade Chevron Ursinho</td>\n",
       "      <td>saquinho maternidade fralda vicente lembrancin...</td>\n",
       "      <td>2018-02-26 01:27:53</td>\n",
       "      <td>24.270000</td>\n",
       "      <td>10.0</td>\n",
       "      <td>1</td>\n",
       "      <td>3</td>\n",
       "      <td>3290</td>\n",
       "      <td>0</td>\n",
       "      <td>Bebê</td>\n",
       "    </tr>\n",
       "    <tr>\n",
       "      <th>9826</th>\n",
       "      <td>30989</td>\n",
       "      <td>21626</td>\n",
       "      <td>dia dos pais</td>\n",
       "      <td>3</td>\n",
       "      <td>33</td>\n",
       "      <td>Dia dos Pais Silhouette Molde caixa para Canec...</td>\n",
       "      <td>arquivos silhouette dia pais</td>\n",
       "      <td>2018-06-27 21:27:23</td>\n",
       "      <td>21.250000</td>\n",
       "      <td>7.0</td>\n",
       "      <td>0</td>\n",
       "      <td>4</td>\n",
       "      <td>366</td>\n",
       "      <td>0</td>\n",
       "      <td>Papel e Cia</td>\n",
       "    </tr>\n",
       "    <tr>\n",
       "      <th>23224</th>\n",
       "      <td>30989</td>\n",
       "      <td>21626</td>\n",
       "      <td>dia dos pais</td>\n",
       "      <td>3</td>\n",
       "      <td>33</td>\n",
       "      <td>Dia dos Pais Silhouette Molde caixa para Canec...</td>\n",
       "      <td>arquivos silhouette dia pais</td>\n",
       "      <td>2018-06-27 21:27:23</td>\n",
       "      <td>22.450000</td>\n",
       "      <td>10.0</td>\n",
       "      <td>0</td>\n",
       "      <td>0</td>\n",
       "      <td>338</td>\n",
       "      <td>0</td>\n",
       "      <td>Papel e Cia</td>\n",
       "    </tr>\n",
       "    <tr>\n",
       "      <th>27973</th>\n",
       "      <td>30989</td>\n",
       "      <td>21626</td>\n",
       "      <td>dia dos pais</td>\n",
       "      <td>3</td>\n",
       "      <td>33</td>\n",
       "      <td>Dia dos Pais Silhouette Molde caixa para Canec...</td>\n",
       "      <td>arquivos silhouette dia pais</td>\n",
       "      <td>2018-06-27 21:27:23</td>\n",
       "      <td>21.960000</td>\n",
       "      <td>6.0</td>\n",
       "      <td>0</td>\n",
       "      <td>4</td>\n",
       "      <td>338</td>\n",
       "      <td>0</td>\n",
       "      <td>Papel e Cia</td>\n",
       "    </tr>\n",
       "    <tr>\n",
       "      <th>7500</th>\n",
       "      <td>44878</td>\n",
       "      <td>9988930</td>\n",
       "      <td>dpa</td>\n",
       "      <td>2</td>\n",
       "      <td>0</td>\n",
       "      <td>Kit DPA Lupa e lanterna</td>\n",
       "      <td>uteis educativo festa kits dpa</td>\n",
       "      <td>2018-08-28 17:55:32</td>\n",
       "      <td>15.389999</td>\n",
       "      <td>5.0</td>\n",
       "      <td>1</td>\n",
       "      <td>10</td>\n",
       "      <td>544</td>\n",
       "      <td>0</td>\n",
       "      <td>Lembrancinhas</td>\n",
       "    </tr>\n",
       "    <tr>\n",
       "      <th>12151</th>\n",
       "      <td>44878</td>\n",
       "      <td>9988930</td>\n",
       "      <td>dpa</td>\n",
       "      <td>2</td>\n",
       "      <td>35</td>\n",
       "      <td>Kit DPA Lupa e lanterna</td>\n",
       "      <td>uteis educativo festa kits dpa</td>\n",
       "      <td>2018-08-28 17:55:32</td>\n",
       "      <td>14.280000</td>\n",
       "      <td>9.0</td>\n",
       "      <td>1</td>\n",
       "      <td>20</td>\n",
       "      <td>525</td>\n",
       "      <td>13</td>\n",
       "      <td>Lembrancinhas</td>\n",
       "    </tr>\n",
       "    <tr>\n",
       "      <th>16412</th>\n",
       "      <td>70393</td>\n",
       "      <td>5508591</td>\n",
       "      <td>dia dos pais</td>\n",
       "      <td>4</td>\n",
       "      <td>28</td>\n",
       "      <td>Chaveiro Colorido Personalizado Dia dos Pais -...</td>\n",
       "      <td>lembrancas brindes lembrancas dia pais chaveir...</td>\n",
       "      <td>2018-07-02 19:06:50</td>\n",
       "      <td>13.200000</td>\n",
       "      <td>15.0</td>\n",
       "      <td>1</td>\n",
       "      <td>300</td>\n",
       "      <td>525</td>\n",
       "      <td>0</td>\n",
       "      <td>Lembrancinhas</td>\n",
       "    </tr>\n",
       "    <tr>\n",
       "      <th>37318</th>\n",
       "      <td>70393</td>\n",
       "      <td>5508591</td>\n",
       "      <td>dia dos pais</td>\n",
       "      <td>4</td>\n",
       "      <td>21</td>\n",
       "      <td>Chaveiro Colorido Personalizado Dia dos Pais -...</td>\n",
       "      <td>lembrancas brindes lembrancas dia pais chaveir...</td>\n",
       "      <td>2018-07-02 19:06:50</td>\n",
       "      <td>3.700000</td>\n",
       "      <td>19.0</td>\n",
       "      <td>1</td>\n",
       "      <td>308</td>\n",
       "      <td>485</td>\n",
       "      <td>0</td>\n",
       "      <td>Lembrancinhas</td>\n",
       "    </tr>\n",
       "    <tr>\n",
       "      <th>8047</th>\n",
       "      <td>79079</td>\n",
       "      <td>3204847</td>\n",
       "      <td>presente personalizado dia dos pais</td>\n",
       "      <td>3</td>\n",
       "      <td>0</td>\n",
       "      <td>Caneca e Almofada para o Dia dos Pais 2018</td>\n",
       "      <td>almofadas divertidas almofadas personalizadas ...</td>\n",
       "      <td>2018-07-03 16:45:52</td>\n",
       "      <td>77.850000</td>\n",
       "      <td>707.0</td>\n",
       "      <td>1</td>\n",
       "      <td>4</td>\n",
       "      <td>186</td>\n",
       "      <td>1</td>\n",
       "      <td>Decoração</td>\n",
       "    </tr>\n",
       "  </tbody>\n",
       "</table>\n",
       "</div>"
      ],
      "text/plain": [
       "       product_id  seller_id                                query  \\\n",
       "12319        1426     793061                 saquinho maternidade   \n",
       "17589        1426     793061                 saquinho maternidade   \n",
       "9826        30989      21626                         dia dos pais   \n",
       "23224       30989      21626                         dia dos pais   \n",
       "27973       30989      21626                         dia dos pais   \n",
       "7500        44878    9988930                                  dpa   \n",
       "12151       44878    9988930                                  dpa   \n",
       "16412       70393    5508591                         dia dos pais   \n",
       "37318       70393    5508591                         dia dos pais   \n",
       "8047        79079    3204847  presente personalizado dia dos pais   \n",
       "\n",
       "       search_page  position  \\\n",
       "12319            3         0   \n",
       "17589            3         2   \n",
       "9826             3        33   \n",
       "23224            3        33   \n",
       "27973            3        33   \n",
       "7500             2         0   \n",
       "12151            2        35   \n",
       "16412            4        28   \n",
       "37318            4        21   \n",
       "8047             3         0   \n",
       "\n",
       "                                                   title  \\\n",
       "12319            Saquinho de Maternidade Chevron Ursinho   \n",
       "17589            Saquinho de Maternidade Chevron Ursinho   \n",
       "9826   Dia dos Pais Silhouette Molde caixa para Canec...   \n",
       "23224  Dia dos Pais Silhouette Molde caixa para Canec...   \n",
       "27973  Dia dos Pais Silhouette Molde caixa para Canec...   \n",
       "7500                             Kit DPA Lupa e lanterna   \n",
       "12151                            Kit DPA Lupa e lanterna   \n",
       "16412  Chaveiro Colorido Personalizado Dia dos Pais -...   \n",
       "37318  Chaveiro Colorido Personalizado Dia dos Pais -...   \n",
       "8047          Caneca e Almofada para o Dia dos Pais 2018   \n",
       "\n",
       "                                       concatenated_tags       creation_date  \\\n",
       "12319  saquinho maternidade fralda vicente lembrancin... 2018-02-26 01:27:53   \n",
       "17589  saquinho maternidade fralda vicente lembrancin... 2018-02-26 01:27:53   \n",
       "9826                        arquivos silhouette dia pais 2018-06-27 21:27:23   \n",
       "23224                       arquivos silhouette dia pais 2018-06-27 21:27:23   \n",
       "27973                       arquivos silhouette dia pais 2018-06-27 21:27:23   \n",
       "7500                      uteis educativo festa kits dpa 2018-08-28 17:55:32   \n",
       "12151                     uteis educativo festa kits dpa 2018-08-28 17:55:32   \n",
       "16412  lembrancas brindes lembrancas dia pais chaveir... 2018-07-02 19:06:50   \n",
       "37318  lembrancas brindes lembrancas dia pais chaveir... 2018-07-02 19:06:50   \n",
       "8047   almofadas divertidas almofadas personalizadas ... 2018-07-03 16:45:52   \n",
       "\n",
       "           price  weight  express_delivery  minimum_quantity  view_counts  \\\n",
       "12319  26.770000     7.0                 1                11         3298   \n",
       "17589  24.270000    10.0                 1                 3         3290   \n",
       "9826   21.250000     7.0                 0                 4          366   \n",
       "23224  22.450000    10.0                 0                 0          338   \n",
       "27973  21.960000     6.0                 0                 4          338   \n",
       "7500   15.389999     5.0                 1                10          544   \n",
       "12151  14.280000     9.0                 1                20          525   \n",
       "16412  13.200000    15.0                 1               300          525   \n",
       "37318   3.700000    19.0                 1               308          485   \n",
       "8047   77.850000   707.0                 1                 4          186   \n",
       "\n",
       "       order_counts       category  \n",
       "12319             0           Bebê  \n",
       "17589             0           Bebê  \n",
       "9826              0    Papel e Cia  \n",
       "23224             0    Papel e Cia  \n",
       "27973             0    Papel e Cia  \n",
       "7500              0  Lembrancinhas  \n",
       "12151            13  Lembrancinhas  \n",
       "16412             0  Lembrancinhas  \n",
       "37318             0  Lembrancinhas  \n",
       "8047              1      Decoração  "
      ]
     },
     "execution_count": 59,
     "metadata": {},
     "output_type": "execute_result"
    }
   ],
   "source": [
    "duplicated_df = (df.loc[df[unique_grouping].\n",
    "                        duplicated(keep=False)].\n",
    "                 sort_values(unique_grouping))\n",
    "duplicated_df.head(10)"
   ]
  },
  {
   "cell_type": "markdown",
   "metadata": {},
   "source": [
    "Antes de fazer a checkagem da variedade é importante ter em mente a dimensão\n",
    "da quantidade de combinações repetidas. Isto pode ser avaliado pela análise\n",
    "da distribuição da quantidade de registros repetidos por grupamento.\n",
    "\n",
    "Como podemos observar pela figura abaixo, a grande maioria das combinações,\n",
    "repetem-se apenas 2 vezes. Dependendo do nível da variação dessas repetições,\n",
    "isso pode ser um forte indício em favor da remoção das combinações duplicadas."
   ]
  },
  {
   "cell_type": "code",
   "execution_count": 60,
   "metadata": {},
   "outputs": [
    {
     "data": {
      "image/png": "[encoded data removed]",
      "text/plain": [
       "<Figure size 720x360 with 1 Axes>"
      ]
     },
     "metadata": {
      "needs_background": "light"
     },
     "output_type": "display_data"
    }
   ],
   "source": [
    "(duplicated_df.\n",
    " groupby(unique_grouping).\n",
    " size().value_counts().\n",
    " plot(kind=\"bar\", figsize=(10, 5), title=\"Distribuição da quantidade de duplicados\"))\n",
    "plt.xticks(rotation=0)\n",
    "plt.show()"
   ]
  },
  {
   "cell_type": "markdown",
   "metadata": {},
   "source": [
    "### Variáveis sem (aparente) variação\n",
    "\n",
    "Nesse caso a primeira etapa é verificar se realmente não há variação. A forma\n",
    "com que iremos fazer isso, é comparando para cada combinação a quantidade de\n",
    "observações repetidas para uma coluna, com a quantidade de vezes que a\n",
    "combinação se repete. Se ambos os valores forem iguais, toda vez que uma\n",
    "combinação se repete, ela se repete também com um determinado valor para a\n",
    "coluna em questão. Ou seja, não há variação."
   ]
  },
  {
   "cell_type": "code",
   "execution_count": 61,
   "metadata": {},
   "outputs": [],
   "source": [
    "def compute_duplicates(col: pd.Series) -> int:\n",
    "    \"\"\"Computa a quantidade total de registros duplicados para uma série\n",
    "\n",
    "    Args:\n",
    "        col (pd.Series): série de valores\n",
    "\n",
    "    Returns:\n",
    "        int: quantidade de repetições\n",
    "    \"\"\"    \n",
    "    return col.duplicated(keep=False).sum()\n",
    "\n",
    "def check_duplicates(col: str,\n",
    "                     data: pd.DataFrame = duplicated_df,\n",
    "                     group: list[str] = unique_grouping) -> None:\n",
    "    \"\"\"Faz a checkagem se as repetições nos dados ocorrem de forma igual.\n",
    "    Caso as quantidade duplicadas sejam iguais, o teste passa sem erro.\n",
    "\n",
    "    Args:\n",
    "        col (str): coluna a ser textada\n",
    "        data (pd.DataFrame, optional): grupamento base a ser utilizado.\n",
    "        Defaults to duplicated_df.\n",
    "        group (list[str], optional): dados com os registros duplicados.\n",
    "        Defaults to unique_grouping.\n",
    "    \"\"\"\n",
    "    dupli_counts = (data.groupby(group)[col].apply(compute_duplicates).\n",
    "                    to_frame(\"col_duplicate\").\n",
    "                    join(data.groupby(group).\n",
    "                         size().rename(\"total_duplicates\")))\n",
    "    check = dupli_counts[\"col_duplicate\"] == dupli_counts[\"total_duplicates\"]\n",
    "    try:\n",
    "        assert check.all()\n",
    "        print(\"Todos os valores são iguais para um mesmo grupamento\")\n",
    "    except:\n",
    "        print(\"Existe variedade na variável para um mesmo grupamento:\")\n",
    "        print(f\"Igualdade ocorre em {check.mean():.2%} dos grupamentos\")\n",
    "    finally:\n",
    "        print(\"-\" * 10)"
   ]
  },
  {
   "cell_type": "code",
   "execution_count": 62,
   "metadata": {},
   "outputs": [
    {
     "name": "stdout",
     "output_type": "stream",
     "text": [
      "Checando title\n",
      "Todos os valores são iguais para um mesmo grupamento\n",
      "----------\n",
      "Checando concatenated_tags\n",
      "Todos os valores são iguais para um mesmo grupamento\n",
      "----------\n",
      "Checando category\n",
      "Todos os valores são iguais para um mesmo grupamento\n",
      "----------\n",
      "Checando creation_date\n",
      "Todos os valores são iguais para um mesmo grupamento\n",
      "----------\n",
      "Checando express_delivery\n",
      "Existe variedade na variável para um mesmo grupamento:\n",
      "Igualdade ocorre em 86.07% dos grupamentos\n",
      "----------\n"
     ]
    }
   ],
   "source": [
    "equal_candidates = [\"title\", \"concatenated_tags\",\n",
    "                    \"category\", \"creation_date\", \"express_delivery\"]\n",
    "for col in equal_candidates:\n",
    "    print(f\"Checando {col}\")\n",
    "    check_duplicates(col)"
   ]
  },
  {
   "cell_type": "markdown",
   "metadata": {},
   "source": [
    "Com excessão da `express_delivery`, para todas as outras, poderíamos eliminar\n",
    "os grupamentos duplicados de produto, vendedor e query sem perda de informação.\n",
    "\n",
    "### Variáveis numéricas com variedade já identificadas\n",
    "\n",
    "Aqui nessa etapa vamos avaliar todas as outras variáveis em que apenas\n",
    "observando os primeiros registros já conseguimos identificar alguma variação\n",
    "entre as combinações repetidas. Como os dados são numéricos e de modo a tornar\n",
    "as variáveis comparáveis vamos utilizar a comparação por meio do indicador de\n",
    "coeficiente de variação.\n",
    "\n",
    "Após o cálculo do coeficiente de variação veremos sua distribuição para cada\n",
    "uma das variáveis utilizando gráficos de box-plot e histograma."
   ]
  },
  {
   "cell_type": "code",
   "execution_count": 63,
   "metadata": {},
   "outputs": [],
   "source": [
    "def var_coef(num_series: pd.Series) -> float:\n",
    "    return num_series.std() / num_series.mean()"
   ]
  },
  {
   "cell_type": "code",
   "execution_count": 64,
   "metadata": {},
   "outputs": [
    {
     "data": {
      "text/html": [
       "<div>\n",
       "<style scoped>\n",
       "    .dataframe tbody tr th:only-of-type {\n",
       "        vertical-align: middle;\n",
       "    }\n",
       "\n",
       "    .dataframe tbody tr th {\n",
       "        vertical-align: top;\n",
       "    }\n",
       "\n",
       "    .dataframe thead th {\n",
       "        text-align: right;\n",
       "    }\n",
       "</style>\n",
       "<table border=\"1\" class=\"dataframe\">\n",
       "  <thead>\n",
       "    <tr style=\"text-align: right;\">\n",
       "      <th></th>\n",
       "      <th></th>\n",
       "      <th></th>\n",
       "      <th>search_page</th>\n",
       "      <th>position</th>\n",
       "      <th>price</th>\n",
       "      <th>weight</th>\n",
       "      <th>minimum_quantity</th>\n",
       "      <th>view_counts</th>\n",
       "      <th>order_counts</th>\n",
       "    </tr>\n",
       "    <tr>\n",
       "      <th>product_id</th>\n",
       "      <th>seller_id</th>\n",
       "      <th>query</th>\n",
       "      <th></th>\n",
       "      <th></th>\n",
       "      <th></th>\n",
       "      <th></th>\n",
       "      <th></th>\n",
       "      <th></th>\n",
       "      <th></th>\n",
       "    </tr>\n",
       "  </thead>\n",
       "  <tbody>\n",
       "    <tr>\n",
       "      <th>1426</th>\n",
       "      <th>793061</th>\n",
       "      <th>saquinho maternidade</th>\n",
       "      <td>0.0</td>\n",
       "      <td>1.414214</td>\n",
       "      <td>0.069270</td>\n",
       "      <td>0.249567</td>\n",
       "      <td>0.808122</td>\n",
       "      <td>0.001717</td>\n",
       "      <td>0.000000</td>\n",
       "    </tr>\n",
       "    <tr>\n",
       "      <th>30989</th>\n",
       "      <th>21626</th>\n",
       "      <th>dia dos pais</th>\n",
       "      <td>0.0</td>\n",
       "      <td>0.000000</td>\n",
       "      <td>0.027567</td>\n",
       "      <td>0.271522</td>\n",
       "      <td>0.866025</td>\n",
       "      <td>0.046543</td>\n",
       "      <td>0.000000</td>\n",
       "    </tr>\n",
       "    <tr>\n",
       "      <th>44878</th>\n",
       "      <th>9988930</th>\n",
       "      <th>dpa</th>\n",
       "      <td>0.0</td>\n",
       "      <td>1.414214</td>\n",
       "      <td>0.052908</td>\n",
       "      <td>0.404061</td>\n",
       "      <td>0.471405</td>\n",
       "      <td>0.025136</td>\n",
       "      <td>1.414214</td>\n",
       "    </tr>\n",
       "    <tr>\n",
       "      <th>70393</th>\n",
       "      <th>5508591</th>\n",
       "      <th>dia dos pais</th>\n",
       "      <td>0.0</td>\n",
       "      <td>0.202031</td>\n",
       "      <td>0.794972</td>\n",
       "      <td>0.166378</td>\n",
       "      <td>0.018608</td>\n",
       "      <td>0.056008</td>\n",
       "      <td>0.000000</td>\n",
       "    </tr>\n",
       "    <tr>\n",
       "      <th>79079</th>\n",
       "      <th>3204847</th>\n",
       "      <th>presente personalizado dia dos pais</th>\n",
       "      <td>0.0</td>\n",
       "      <td>1.414214</td>\n",
       "      <td>0.000273</td>\n",
       "      <td>0.000000</td>\n",
       "      <td>0.848528</td>\n",
       "      <td>0.047753</td>\n",
       "      <td>0.000000</td>\n",
       "    </tr>\n",
       "  </tbody>\n",
       "</table>\n",
       "</div>"
      ],
      "text/plain": [
       "                                                          search_page  \\\n",
       "product_id seller_id query                                              \n",
       "1426       793061    saquinho maternidade                         0.0   \n",
       "30989      21626     dia dos pais                                 0.0   \n",
       "44878      9988930   dpa                                          0.0   \n",
       "70393      5508591   dia dos pais                                 0.0   \n",
       "79079      3204847   presente personalizado dia dos pais          0.0   \n",
       "\n",
       "                                                          position     price  \\\n",
       "product_id seller_id query                                                     \n",
       "1426       793061    saquinho maternidade                 1.414214  0.069270   \n",
       "30989      21626     dia dos pais                         0.000000  0.027567   \n",
       "44878      9988930   dpa                                  1.414214  0.052908   \n",
       "70393      5508591   dia dos pais                         0.202031  0.794972   \n",
       "79079      3204847   presente personalizado dia dos pais  1.414214  0.000273   \n",
       "\n",
       "                                                            weight  \\\n",
       "product_id seller_id query                                           \n",
       "1426       793061    saquinho maternidade                 0.249567   \n",
       "30989      21626     dia dos pais                         0.271522   \n",
       "44878      9988930   dpa                                  0.404061   \n",
       "70393      5508591   dia dos pais                         0.166378   \n",
       "79079      3204847   presente personalizado dia dos pais  0.000000   \n",
       "\n",
       "                                                          minimum_quantity  \\\n",
       "product_id seller_id query                                                   \n",
       "1426       793061    saquinho maternidade                         0.808122   \n",
       "30989      21626     dia dos pais                                 0.866025   \n",
       "44878      9988930   dpa                                          0.471405   \n",
       "70393      5508591   dia dos pais                                 0.018608   \n",
       "79079      3204847   presente personalizado dia dos pais          0.848528   \n",
       "\n",
       "                                                          view_counts  \\\n",
       "product_id seller_id query                                              \n",
       "1426       793061    saquinho maternidade                    0.001717   \n",
       "30989      21626     dia dos pais                            0.046543   \n",
       "44878      9988930   dpa                                     0.025136   \n",
       "70393      5508591   dia dos pais                            0.056008   \n",
       "79079      3204847   presente personalizado dia dos pais     0.047753   \n",
       "\n",
       "                                                          order_counts  \n",
       "product_id seller_id query                                              \n",
       "1426       793061    saquinho maternidade                     0.000000  \n",
       "30989      21626     dia dos pais                             0.000000  \n",
       "44878      9988930   dpa                                      1.414214  \n",
       "70393      5508591   dia dos pais                             0.000000  \n",
       "79079      3204847   presente personalizado dia dos pais      0.000000  "
      ]
     },
     "execution_count": 64,
     "metadata": {},
     "output_type": "execute_result"
    }
   ],
   "source": [
    "numeric_vars = [\"search_page\", \"position\",\n",
    "                \"price\", \"weight\", \"minimum_quantity\", \"view_counts\",\n",
    "                \"order_counts\"]\n",
    "\n",
    "# o fillna é importante caso tenhamos grupos cuja média é igual a 0\n",
    "unique_group_stats = (duplicated_df.groupby(unique_grouping)[numeric_vars].\n",
    "                      apply(var_coef).fillna(0))\n",
    "unique_group_stats.head()"
   ]
  },
  {
   "cell_type": "code",
   "execution_count": 65,
   "metadata": {},
   "outputs": [
    {
     "data": {
      "image/png": "[encoded data removed]",
      "text/plain": [
       "<Figure size 1080x576 with 1 Axes>"
      ]
     },
     "metadata": {
      "needs_background": "light"
     },
     "output_type": "display_data"
    }
   ],
   "source": [
    "unique_group_stats.boxplot(figsize=(15, 8))\n",
    "plt.title(\"Boxplot dos coeficientes de variação entre registros duplicados\")\n",
    "plt.show()"
   ]
  },
  {
   "cell_type": "code",
   "execution_count": 66,
   "metadata": {},
   "outputs": [
    {
     "data": {
      "image/png": "[encoded data removed]",
      "text/plain": [
       "<Figure size 1080x576 with 9 Axes>"
      ]
     },
     "metadata": {
      "needs_background": "light"
     },
     "output_type": "display_data"
    }
   ],
   "source": [
    "unique_group_stats.plot(subplots=True,\n",
    "                        kind=\"hist\",\n",
    "                        layout=(3, 3),\n",
    "                        figsize=(15, 8),\n",
    "                        bins=40,\n",
    "                        density=True,\n",
    "                        title=\"Histograma dos coeficientes de variação entre registros duplicados\")\n",
    "plt.show()"
   ]
  },
  {
   "cell_type": "markdown",
   "metadata": {},
   "source": [
    "Aparentemente as diferenças não são tão grandes. Boa parte delas talvez esteja\n",
    "relacionada com diferenças nos tamanhos ou alguma possibilidade de customização\n",
    "de um mêsmo produto que fez com que o vendedor necessitasse inserir um mêsmo\n",
    "produto multiplas vezes.\n",
    "\n",
    "Também existem duas outras possíveis explicações: o vendedor duplicando algum\n",
    "produto para que seus produtos tenham mais visibilidade nas querys, o vendedor\n",
    "atualizando o produto e esquecendo de remover algum produto antigo.\n",
    "\n",
    "Para agilizar o desenvolvimento da solução vamos prosseguir com a análise sem\n",
    "realizar mais investigações nesse ponto. A solução provisória para o problema\n",
    "de duplca contagem de combinações de produto, vendedor e query será pela\n",
    "combinação desses registros pela média das variáveis numéricas e moda das\n",
    "variáveis categóricas."
   ]
  },
  {
   "cell_type": "markdown",
   "metadata": {},
   "source": [
    "### Removendo registros duplicados\n",
    "\n",
    "Com base no que foi discutido anteriormente, nessa etapa iremos remover os\n",
    "registros duplicados. Para juntar esses registros em uma só observação iremos\n",
    "utilizar a moda para as variáveis categóricas e média para as variáveis\n",
    "numéricas. Co excessão da `express_delivery` a aplicação da moda não fará\n",
    "difença, uma vez que não há variação nessas colunas."
   ]
  },
  {
   "cell_type": "code",
   "execution_count": 67,
   "metadata": {},
   "outputs": [],
   "source": [
    "def series_mode(serie: pd.Series):\n",
    "    return stats.mode(serie)[0][0]\n",
    "\n",
    "def remove_duplicates(data: pd.DataFrame,\n",
    "                      group: list[str],\n",
    "                      mean_cols: list[str],\n",
    "                      mode_cols: list[str]) -> pd.DataFrame:\n",
    "    \"\"\"Remoção de dados duplicados a partir de combinação de group. Utiliza\n",
    "    mean_cols e mode_cols para unificar os registros em média e moda das\n",
    "    observações duplicadas\n",
    "\n",
    "    Args:\n",
    "        data (pd.DataFrame): dataset\n",
    "        group (list[str]): grupo que identifica unificamente o registro\n",
    "        mean_cols (list[str]): variáveis a serem unificadas pela média\n",
    "        mode_cols (list[str]): variáveis a serem unificadas pela moda\n",
    "\n",
    "    Returns:\n",
    "        pd.DataFrame: dataset sem registros duplicados\n",
    "    \"\"\"    \n",
    "    duplicated_mask = data[group].duplicated(keep=False)\n",
    "    \n",
    "    dupli_data = data.loc[duplicated_mask]\n",
    "    mode_stats = {col: series_mode for col in mode_cols}\n",
    "    mean_stats = {col: \"mean\" for col in mean_cols}\n",
    "    agg_stats = dict(**mode_stats, **mean_stats)\n",
    "    unified_dupli_data = (dupli_data.\n",
    "                          groupby(group, as_index=False).\n",
    "                          agg(agg_stats))\n",
    "    \n",
    "    no_duplit_data = data.loc[~duplicated_mask]\n",
    "    return pd.concat([no_duplit_data, unified_dupli_data])"
   ]
  },
  {
   "cell_type": "code",
   "execution_count": 68,
   "metadata": {},
   "outputs": [],
   "source": [
    "no_dupli_df = remove_duplicates(df, unique_grouping, numeric_vars, equal_candidates)"
   ]
  },
  {
   "cell_type": "code",
   "execution_count": 69,
   "metadata": {},
   "outputs": [
    {
     "data": {
      "text/plain": [
       "True"
      ]
     },
     "execution_count": 69,
     "metadata": {},
     "output_type": "execute_result"
    }
   ],
   "source": [
    "no_dupli_df[unique_grouping].duplicated().any() == False"
   ]
  },
  {
   "cell_type": "code",
   "execution_count": 70,
   "metadata": {},
   "outputs": [
    {
     "data": {
      "text/plain": [
       "product_id                    int64\n",
       "seller_id                     int64\n",
       "query                        object\n",
       "search_page                 float64\n",
       "position                    float64\n",
       "title                        object\n",
       "concatenated_tags            object\n",
       "creation_date        datetime64[ns]\n",
       "price                       float64\n",
       "weight                      float64\n",
       "express_delivery              int64\n",
       "minimum_quantity            float64\n",
       "view_counts                 float64\n",
       "order_counts                float64\n",
       "category                     object\n",
       "dtype: object"
      ]
     },
     "execution_count": 70,
     "metadata": {},
     "output_type": "execute_result"
    }
   ],
   "source": [
    "no_dupli_df.dtypes"
   ]
  },
  {
   "cell_type": "markdown",
   "metadata": {},
   "source": [
    "# Separação em dados de treinamento e teste\n",
    "\n",
    "Apesar de termos uma quantidade muito maior de lembrancinhas, as outras\n",
    "categorias ainda possuem frequencia significativa na base de dados.\n",
    "De toda forma, como há um grande desequilíbrio, devemos utilizar da\n",
    "estratificação por `category` para dividir nossos dados entre treinamento e\n",
    "teste."
   ]
  },
  {
   "cell_type": "code",
   "execution_count": 71,
   "metadata": {},
   "outputs": [
    {
     "data": {
      "image/png": "[encoded data removed]",
      "text/plain": [
       "<Figure size 864x360 with 1 Axes>"
      ]
     },
     "metadata": {
      "needs_background": "light"
     },
     "output_type": "display_data"
    }
   ],
   "source": [
    "(no_dupli_df[\"category\"].\n",
    " value_counts(ascending=True).\n",
    " to_frame(\"querys\").\n",
    " join(no_dupli_df.\n",
    "      drop_duplicates(\"product_id\")[\"category\"].\n",
    "      value_counts().\n",
    "      to_frame(\"product\"))\n",
    " ).plot(kind=\"barh\", figsize=(12, 5), title=\"Distribuição das categorias por tipo de registro\")\n",
    "plt.show()"
   ]
  },
  {
   "cell_type": "markdown",
   "metadata": {},
   "source": [
    "Separando os dados em treinamento e teste"
   ]
  },
  {
   "cell_type": "code",
   "execution_count": 72,
   "metadata": {},
   "outputs": [],
   "source": [
    "dt_train, dt_test = train_test_split(no_dupli_df,\n",
    "                                      test_size=0.3,\n",
    "                                      random_state=23,\n",
    "                                      stratify=no_dupli_df[\"category\"])"
   ]
  },
  {
   "cell_type": "markdown",
   "metadata": {},
   "source": [
    "Avaliando o que foi separado, vemos que a distribuição dos registros continua\n",
    "igual. Ou seja, a estratificação foi bem sucedida."
   ]
  },
  {
   "cell_type": "code",
   "execution_count": 73,
   "metadata": {},
   "outputs": [
    {
     "data": {
      "image/png": "[encoded data removed]",
      "text/plain": [
       "<Figure size 864x360 with 1 Axes>"
      ]
     },
     "metadata": {
      "needs_background": "light"
     },
     "output_type": "display_data"
    }
   ],
   "source": [
    "(dt_train[\"category\"].\n",
    " value_counts(ascending=True, normalize=True).\n",
    " to_frame(\"train\").\n",
    " join(dt_test[\"category\"].\n",
    "      value_counts(ascending=True, normalize=True).\n",
    "      to_frame(\"test\"))\n",
    " ).plot(kind=\"barh\", figsize=(12, 5), title=\"Distribuição (relativa) das categorias por base de dados\")\n",
    "plt.show()"
   ]
  },
  {
   "cell_type": "markdown",
   "metadata": {},
   "source": [
    "Salvando os resultados"
   ]
  },
  {
   "cell_type": "code",
   "execution_count": 74,
   "metadata": {},
   "outputs": [],
   "source": [
    "dt_train.to_pickle(\"../data/dt_train.pickle\")\n",
    "dt_test.to_pickle(\"../data/dt_test.pickle\")"
   ]
  }
 ],
 "metadata": {
  "interpreter": {
   "hash": "46c0bb3b8e63a95c204f7a1a105596c1673bb87538bedee3505b8c3e2a065390"
  },
  "kernelspec": {
   "display_name": "Python 3.9.6 ('product_recommender-qoUF0oDD')",
   "language": "python",
   "name": "python3"
  },
  "language_info": {
   "codemirror_mode": {
    "name": "ipython",
    "version": 3
   },
   "file_extension": ".py",
   "mimetype": "text/x-python",
   "name": "python",
   "nbconvert_exporter": "python",
   "pygments_lexer": "ipython3",
   "version": "3.9.6"
  },
  "orig_nbformat": 4
 },
 "nbformat": 4,
 "nbformat_minor": 2
}
