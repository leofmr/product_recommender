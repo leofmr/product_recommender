{
 "cells": [
  {
   "cell_type": "markdown",
   "metadata": {
    "tags": []
   },
   "source": [
    "# Introdução"
   ]
  },
  {
   "cell_type": "markdown",
   "metadata": {},
   "source": [
    "Nesse notebook são realizados os experimentos da modelagem das categorias. Com base na análise descritiva realizada préviamente em outro notebook, iremos começar os testes já partindo da utilização das variáveis identificadas como potencialmente relevantes para a previsão das categorias: `price`, `weight`, `minimum_quantity`, `express_delivery`, `title` e `concatenated_tags`. Primeiro vamos realizar modelagens de árvore mais simples, sem preocupação com otimização dos hiperparâmetros. O objetivo nessa parte é avaliar o real potencial de cada uma dessas variáveis quando consideramos todas elas simultaneamente. Para isso vamos adicionando os grupos de variáveis de forma progressiva. Primeiro começando com as variáveis que não precisam de processamento e em seguida adicionando os tópicos de título e depois os de tags.\n",
    "\n",
    "Em seguida vamos utilizar o modelo de floresta aleatória que é uma extensão ao modelo de árvore, que tem como uma de suas principais vantagens comparado ao modelo de árvore, ser menos propício à sobrespecificação. O treinamento desse modelo será realizado através de um pipeline que integrará a modelagem com a seleção e a modelagem de tópicos para extração de novas features. Esse pipeline vai ser utilizado por um `GridsearchCV` que irá buscar combinações de parâmetros com melhor desemepnho a partir de validação cruzada.\n",
    "\n",
    "Ao final desse notebook teremos uma estrutura de pipeline treinada e o com hiperparâmetros otimizados (escopo de busca de hiperparâmetros limitada para diminuir o tempo de treinamento)."
   ]
  },
  {
   "cell_type": "markdown",
   "metadata": {
    "tags": []
   },
   "source": [
    "# Imports"
   ]
  },
  {
   "cell_type": "code",
   "execution_count": 1,
   "metadata": {},
   "outputs": [],
   "source": [
    "# imports do scikit-learn para a modelagem\n",
    "\n",
    "# preprocessamento nlp e modelagem de tópicos\n",
    "from sklearn.feature_extraction.text import TfidfVectorizer\n",
    "from sklearn.decomposition import NMF\n",
    "# modelagem de árvores\n",
    "from sklearn.tree import DecisionTreeClassifier\n",
    "from sklearn.ensemble import RandomForestClassifier\n",
    "# avaliação e seleção de modelos\n",
    "from sklearn.metrics import f1_score, make_scorer, classification_report\n",
    "from sklearn.model_selection import cross_val_score, GridSearchCV\n",
    "# criação de pipelines\n",
    "from sklearn.preprocessing import FunctionTransformer\n",
    "from sklearn.pipeline import Pipeline, FeatureUnion"
   ]
  },
  {
   "cell_type": "code",
   "execution_count": 2,
   "metadata": {},
   "outputs": [],
   "source": [
    "# funções gerais\n",
    "import pandas as pd\n",
    "import matplotlib.pyplot as plt\n",
    "import seaborn as sns\n",
    "\n",
    "import json"
   ]
  },
  {
   "cell_type": "code",
   "execution_count": 3,
   "metadata": {},
   "outputs": [],
   "source": [
    "from pathlib import Path\n",
    "import sys\n",
    "\n",
    "main_path = str(Path().resolve().parent)\n",
    "sys.path.append(main_path)"
   ]
  },
  {
   "cell_type": "code",
   "execution_count": 4,
   "metadata": {},
   "outputs": [],
   "source": [
    "# carregando as funções de preprocessamento nlp do notebook de\n",
    "# análise de produto, essas funções foram adicionadas nesse modulo\n",
    "from src import nlp_preprocessing"
   ]
  },
  {
   "cell_type": "markdown",
   "metadata": {
    "tags": []
   },
   "source": [
    "# Carregamento dos dados"
   ]
  },
  {
   "cell_type": "markdown",
   "metadata": {},
   "source": [
    "Serão carregados os dados de treinamento já com o pré-processamento geral\n",
    "realizado na primeira etapa de análise."
   ]
  },
  {
   "cell_type": "code",
   "execution_count": 5,
   "metadata": {},
   "outputs": [
    {
     "data": {
      "text/html": [
       "<div>\n",
       "<style scoped>\n",
       "    .dataframe tbody tr th:only-of-type {\n",
       "        vertical-align: middle;\n",
       "    }\n",
       "\n",
       "    .dataframe tbody tr th {\n",
       "        vertical-align: top;\n",
       "    }\n",
       "\n",
       "    .dataframe thead th {\n",
       "        text-align: right;\n",
       "    }\n",
       "</style>\n",
       "<table border=\"1\" class=\"dataframe\">\n",
       "  <thead>\n",
       "    <tr style=\"text-align: right;\">\n",
       "      <th></th>\n",
       "      <th>seller_id</th>\n",
       "      <th>title</th>\n",
       "      <th>concatenated_tags</th>\n",
       "      <th>creation_date</th>\n",
       "      <th>price</th>\n",
       "      <th>weight</th>\n",
       "      <th>express_delivery</th>\n",
       "      <th>minimum_quantity</th>\n",
       "      <th>view_counts</th>\n",
       "      <th>order_counts</th>\n",
       "      <th>category</th>\n",
       "    </tr>\n",
       "    <tr>\n",
       "      <th>product_id</th>\n",
       "      <th></th>\n",
       "      <th></th>\n",
       "      <th></th>\n",
       "      <th></th>\n",
       "      <th></th>\n",
       "      <th></th>\n",
       "      <th></th>\n",
       "      <th></th>\n",
       "      <th></th>\n",
       "      <th></th>\n",
       "      <th></th>\n",
       "    </tr>\n",
       "  </thead>\n",
       "  <tbody>\n",
       "    <tr>\n",
       "      <th>7010568</th>\n",
       "      <td>761717</td>\n",
       "      <td>Caneta Personalizada Barquinho</td>\n",
       "      <td>caneta personalizada canetas personalizadas pa...</td>\n",
       "      <td>2017-07-12 16:29:08</td>\n",
       "      <td>12.260</td>\n",
       "      <td>15.0</td>\n",
       "      <td>0</td>\n",
       "      <td>30.0</td>\n",
       "      <td>116.0</td>\n",
       "      <td>11.0</td>\n",
       "      <td>Lembrancinhas</td>\n",
       "    </tr>\n",
       "    <tr>\n",
       "      <th>6957815</th>\n",
       "      <td>3708390</td>\n",
       "      <td>Toalha Bordada Madrinha de Consagração</td>\n",
       "      <td>toalhas lavabo lembrancinhas batizado toalha c...</td>\n",
       "      <td>2016-12-08 10:40:28</td>\n",
       "      <td>28.490</td>\n",
       "      <td>7.5</td>\n",
       "      <td>1</td>\n",
       "      <td>4.5</td>\n",
       "      <td>463.0</td>\n",
       "      <td>8.5</td>\n",
       "      <td>Lembrancinhas</td>\n",
       "    </tr>\n",
       "    <tr>\n",
       "      <th>10378129</th>\n",
       "      <td>8225602</td>\n",
       "      <td>Colar Best Friends Folheado 4 Partes.</td>\n",
       "      <td>biju best friends mirella flavia gabi</td>\n",
       "      <td>2017-01-24 14:32:48</td>\n",
       "      <td>40.290</td>\n",
       "      <td>13.0</td>\n",
       "      <td>0</td>\n",
       "      <td>0.0</td>\n",
       "      <td>9183.0</td>\n",
       "      <td>157.0</td>\n",
       "      <td>Bijuterias e Jóias</td>\n",
       "    </tr>\n",
       "    <tr>\n",
       "      <th>4658013</th>\n",
       "      <td>7043431</td>\n",
       "      <td>Azulejo Certificado Melhor Pai do Mundo</td>\n",
       "      <td>dia pais azulejos</td>\n",
       "      <td>2019-06-14 16:09:23</td>\n",
       "      <td>39.220</td>\n",
       "      <td>338.0</td>\n",
       "      <td>0</td>\n",
       "      <td>1.0</td>\n",
       "      <td>77.5</td>\n",
       "      <td>12.0</td>\n",
       "      <td>Decoração</td>\n",
       "    </tr>\n",
       "    <tr>\n",
       "      <th>487440</th>\n",
       "      <td>1408350</td>\n",
       "      <td>Mochila saco bailarina soldadinho de chumbo</td>\n",
       "      <td>sacolinhas festa bailarina lembrancinhas baila...</td>\n",
       "      <td>2018-02-21 16:39:27</td>\n",
       "      <td>13.175</td>\n",
       "      <td>12.5</td>\n",
       "      <td>1</td>\n",
       "      <td>32.0</td>\n",
       "      <td>1484.5</td>\n",
       "      <td>0.0</td>\n",
       "      <td>Lembrancinhas</td>\n",
       "    </tr>\n",
       "  </tbody>\n",
       "</table>\n",
       "</div>"
      ],
      "text/plain": [
       "            seller_id                                        title  \\\n",
       "product_id                                                           \n",
       "7010568        761717               Caneta Personalizada Barquinho   \n",
       "6957815       3708390       Toalha Bordada Madrinha de Consagração   \n",
       "10378129      8225602        Colar Best Friends Folheado 4 Partes.   \n",
       "4658013       7043431      Azulejo Certificado Melhor Pai do Mundo   \n",
       "487440        1408350  Mochila saco bailarina soldadinho de chumbo   \n",
       "\n",
       "                                            concatenated_tags  \\\n",
       "product_id                                                      \n",
       "7010568     caneta personalizada canetas personalizadas pa...   \n",
       "6957815     toalhas lavabo lembrancinhas batizado toalha c...   \n",
       "10378129                biju best friends mirella flavia gabi   \n",
       "4658013                                     dia pais azulejos   \n",
       "487440      sacolinhas festa bailarina lembrancinhas baila...   \n",
       "\n",
       "                 creation_date   price  weight  express_delivery  \\\n",
       "product_id                                                         \n",
       "7010568    2017-07-12 16:29:08  12.260    15.0                 0   \n",
       "6957815    2016-12-08 10:40:28  28.490     7.5                 1   \n",
       "10378129   2017-01-24 14:32:48  40.290    13.0                 0   \n",
       "4658013    2019-06-14 16:09:23  39.220   338.0                 0   \n",
       "487440     2018-02-21 16:39:27  13.175    12.5                 1   \n",
       "\n",
       "            minimum_quantity  view_counts  order_counts            category  \n",
       "product_id                                                                   \n",
       "7010568                 30.0        116.0          11.0       Lembrancinhas  \n",
       "6957815                  4.5        463.0           8.5       Lembrancinhas  \n",
       "10378129                 0.0       9183.0         157.0  Bijuterias e Jóias  \n",
       "4658013                  1.0         77.5          12.0           Decoração  \n",
       "487440                  32.0       1484.5           0.0       Lembrancinhas  "
      ]
     },
     "execution_count": 5,
     "metadata": {},
     "output_type": "execute_result"
    }
   ],
   "source": [
    "df_train = pd.read_pickle(\"../data/train_prod.pickle\")\n",
    "df_train.head()"
   ]
  },
  {
   "cell_type": "markdown",
   "metadata": {
    "tags": []
   },
   "source": [
    "# Avaliação inicial da extração de features para a modelagem"
   ]
  },
  {
   "cell_type": "markdown",
   "metadata": {
    "tags": []
   },
   "source": [
    "Nessa etapa vamos avaliar a combinação de diversos features para geração do modelo de previsão de categorias. Primeiro utilizaremos as features básicas que não precisam de pré-processamento e que foram identificadas como potencialmente relevantes para a previsão de categorias: `price`, `weight`, `express_delivery` e `minimum_quantity`.\n",
    "\n",
    "Em seguida, vamos aplicar a modelagem de tópicos NMF para as variáveis `title` e `concatenated_tags` e testar duas combinações: features bases com tópicos de título e features bases com tópicos de tags. Por fim, todas as features vão ser reunidas para testar o modelo completo.\n",
    "\n",
    "Nesse momento não sabemos ao certo como as previsões de classificação vão ser utilizadas. Dessa forma não conseguimos especificar com assertividade qual tipo de indicador de performance do modelo devemos maximizar. Uma solução é utilizar a métrica F1-score, que é uma média harmônica entre as métricas de precisão e recuperação (ambas com o mesmo peso). Como o problema é de multiclasse o F1-score é aplicado para cada uma das categorias. Para agregar os seis scores vamos utilizar a média ponderada pela frequência da categoria. Com isso acabamos dando mais importância para as categorias mais frequentes, o que no nosso caso, significa dar mais peso para as categorias mais buscadas de produto. Levando em consideração que essa classificação poderá ser aplicada para ajudar o ranqueamento de produtos essa propriedade da agregação de F1-scores parece fazer sentido.\n",
    "\n",
    "Para avaliar a capacidade de generalizar do modelo, ao invés de aplicar o score para a preivão realizada em dados de treinamento, vamos utilizar a técnica de validação cruzada (com cinco dobras). Adicionalmente, vamos utilizar o `classification_report` para termos um retrato mais detalhado sobre o desempenho do modelo, porém nesse caso, nos dados de treinamento do modelo. Outro fator importante que será analisado é a contribuição de cada feature para a previsão das categorias. Essa informação estará representada em um gráfico de barras. Todos esses processos e visualizações de avaliação do modelo são excutadas pela função `test_data_modeling`.Nesse momento não sabemos ao certo como as previsões de classificação vão ser utilizadas. Dessa forma não conseguimos especificar com assertividade qual tipo de indicador de performance do modelo devemos maximizar. Uma solução é utilizar a métrica F1-score, que é uma média harmônica entre as métricas de precisão e recuperação (ambas com o mesmo peso). Como o problema é de multiclasse o F1-score é aplicado para cada uma das categorias. Para agregar os seis scores vamos utilizar a média ponderada pela frequência da categoria. Com isso acabamos dando mais importância para as categorias mais frequentes, o que no nosso caso, significa dar mais peso para as categorias mais buscadas de produto. Levando em consideração que essa classificação poderá ser aplicada para ajudar o ranqueamento de produtos essa propriedade da agregação de F1-scores parece fazer sentido.\n",
    "\n",
    "Para avaliar a capacidade de generalizar do modelo, ao invés de aplicar o score para a preivão realizada em dados de treinamento, vamos utilizar a técnica de validação cruzada (com cinco dobras). Adicionalmente, vamos utilizar o `classification_report` para termos um retrato mais detalhado sobre o desempenho do modelo, porém nesse caso, nos dados de treinamento do modelo. Outro fator importante que será analisado é a contribuição de cada feature para a previsão das categorias. Essa informação estará representada em um gráfico de barras. Todos esses processos e visualizações de avaliação do modelo são excutadas pela função `test_data_modeling`.\n",
    "\n",
    "Essa avaliação da modelagem terá como objetivo avaliar os dados que são utilizados. Mais especificamente vamos utilizar a função de avaliação do modelo para diversas combinações de dados. Com isso, esperamos validar a nossa seleção de features para que em uma segunda etapa possamos escolher a melhor configuração de hiperparâmetros.\n",
    "\n",
    "Dessa forma, ao invés de buscar escolher um modelo sofisticado com hiperparâmetros cuidadosamente selecionados, aqui vamos utilizar um modelo de classificação de árvores padrão do `scikit-lear`, o `DecisionTreeClassifier`.Essa avaliação da modelagem terá como objetivo avaliar os dados que são utilizados. Mais especificamente vamos utilizar a função de avaliação do modelo para diversas combinações de dados. Com isso, esperamos validar a nossa seleção de features para que em uma segunda etapa possamos escolher a melhor configuração de hiperparâmetros.\n",
    "\n",
    "Dessa forma, ao invés de buscar escolher um modelo sofisticado com hiperparâmetros cuidadosamente selecionados, aqui vamos utilizar um modelo de classificação de árvores padrão do `scikit-lear`, o `DecisionTreeClassifier`."
   ]
  },
  {
   "cell_type": "code",
   "execution_count": 6,
   "metadata": {},
   "outputs": [],
   "source": [
    "def gen_topics(doc: pd.Series, n_topics: int) -> pd.DataFrame:\n",
    "    \"\"\"Função que aplica a modelagem de tópicos para uma série de dados\n",
    "    textuais\n",
    "\n",
    "    Args:\n",
    "        doc (pd.Series): série de documentos\n",
    "        n_topics (int): quantidade de tópicos\n",
    "\n",
    "    Returns:\n",
    "        pd.DataFrame: dados de componentes por documentos.\n",
    "    \"\"\"    \n",
    "    tfidf_vec = TfidfVectorizer(tokenizer=nlp_preprocessing.custom_tokenizer,\n",
    "                                preprocessor=nlp_preprocessing.clean_text,\n",
    "                                min_df=10,\n",
    "                                max_df=0.9)\n",
    "    tfidf_data = tfidf_vec.fit_transform(doc)\n",
    "    topic_model = NMF(n_components=n_topics, init=\"random\")\n",
    "    topic_data = topic_model.fit_transform(tfidf_data)\n",
    "    columns = [f\"{doc.name}_{i}\" for i in range(n_topics)]\n",
    "    return pd.DataFrame(topic_data, index=doc.index, columns=columns)"
   ]
  },
  {
   "cell_type": "code",
   "execution_count": 7,
   "metadata": {},
   "outputs": [],
   "source": [
    "def test_data_modeling(X_train: pd.DataFrame, y_train: pd.Series, model) -> None:\n",
    "    \"\"\"Gera várias visualizações para avaliar o desempenho do treinamento\n",
    "\n",
    "    Args:\n",
    "        X_train (pd.DataFrame): _description_\n",
    "        y_train (pd.Series): _description_\n",
    "        model (sklearn.model): _description_\n",
    "    \"\"\"\n",
    "    \n",
    "    # treinando o modelo com validação cruzada\n",
    "    cv_score = cross_val_score(model, X_train, y_train, cv=5, n_jobs=-1,\n",
    "                               scoring=make_scorer(f1_score,\n",
    "                                                   average='weighted'))\n",
    "    mean_score = cv_score.mean()\n",
    "    std_score = cv_score.std()\n",
    "    # treinando o modelo\n",
    "    model.fit(X_train, y_train)\n",
    "    # plotando a importância dos parâmetros\n",
    "    importances = pd.Series(model.feature_importances_, index=X_train.columns)\n",
    "    importances.sort_values().plot(kind=\"barh\")\n",
    "    plt.show()\n",
    "    \n",
    "    # gerando o classification report\n",
    "    y_pred = model.predict(X_train)\n",
    "    print(classification_report(y_train, y_pred))\n",
    "    # finalizando com um print, do score de treinamento e das médias e\n",
    "    # desvios padrões dos scores de validação cruzada\n",
    "    train_score = f1_score(y_train, y_pred, average=\"weighted\")\n",
    "    print({\"train_score\": train_score,\n",
    "           \"cv_mean_score\": mean_score,\n",
    "           \"cv_std_score\": std_score})"
   ]
  },
  {
   "cell_type": "markdown",
   "metadata": {},
   "source": [
    "Por ser um modelo de árvores, que define as zonas de classificação a partir de múltiplas segmentações perpendiculares nos dados, esse modelo é adequado para representar as relações de não linearidade entre os atributos e as categorias. Por causa disso, utilizaremos as variáveis de preço e peso sem a transformação de logaritmo realizada na análise exploratória."
   ]
  },
  {
   "cell_type": "code",
   "execution_count": 8,
   "metadata": {},
   "outputs": [],
   "source": [
    "# remoção de variáveis que não vão ser utilizadas\n",
    "base_train = df_train[[\"price\", \"weight\", \"minimum_quantity\", \"express_delivery\"]]\n",
    "\n",
    "# geração do dataframe com tópicos de títulos e tags\n",
    "title_topics = gen_topics(df_train[\"title\"], 6)\n",
    "tags_topics = gen_topics(df_train[\"concatenated_tags\"], 6)\n",
    "# fazendo as três combinações de dados\n",
    "base_title_train = base_train.join(title_topics)\n",
    "base_tags_train = base_train.join(tags_topics)\n",
    "full_train = base_train.join(title_topics).join(tags_topics)\n",
    "\n",
    "# criando o dicionário que reune todos os dados criados\n",
    "train_sets = [(\"base\", base_train),\n",
    "              (\"base_title\", base_title_train),\n",
    "              (\"base_tag\", base_tags_train),\n",
    "              (\"full_train\", full_train)]"
   ]
  },
  {
   "cell_type": "code",
   "execution_count": 9,
   "metadata": {},
   "outputs": [
    {
     "name": "stdout",
     "output_type": "stream",
     "text": [
      "base\n"
     ]
    },
    {
     "data": {
      "image/png": "[encoded data removed]",
      "text/plain": [
       "<Figure size 432x288 with 1 Axes>"
      ]
     },
     "metadata": {
      "needs_background": "light"
     },
     "output_type": "display_data"
    },
    {
     "name": "stdout",
     "output_type": "stream",
     "text": [
      "                    precision    recall  f1-score   support\n",
      "\n",
      "              Bebê       0.51      0.49      0.50      3809\n",
      "Bijuterias e Jóias       0.53      0.29      0.38       604\n",
      "         Decoração       0.59      0.69      0.63      5167\n",
      "     Lembrancinhas       0.76      0.88      0.82      8931\n",
      "            Outros       0.35      0.05      0.09       710\n",
      "       Papel e Cia       0.41      0.09      0.15      1602\n",
      "\n",
      "          accuracy                           0.65     20823\n",
      "         macro avg       0.53      0.41      0.43     20823\n",
      "      weighted avg       0.62      0.65      0.62     20823\n",
      "\n",
      "{'train_score': 0.6231711829567751, 'cv_mean_score': 0.5592526000245753, 'cv_std_score': 0.0020482620303676966}\n",
      "----------------------------------------------------------------------------------------------------\n",
      "base_title\n"
     ]
    },
    {
     "data": {
      "image/png": "[encoded data removed]",
      "text/plain": [
       "<Figure size 432x288 with 1 Axes>"
      ]
     },
     "metadata": {
      "needs_background": "light"
     },
     "output_type": "display_data"
    },
    {
     "name": "stdout",
     "output_type": "stream",
     "text": [
      "                    precision    recall  f1-score   support\n",
      "\n",
      "              Bebê       0.77      0.70      0.73      3809\n",
      "Bijuterias e Jóias       0.63      0.54      0.58       604\n",
      "         Decoração       0.77      0.83      0.80      5167\n",
      "     Lembrancinhas       0.84      0.92      0.88      8931\n",
      "            Outros       0.50      0.27      0.35       710\n",
      "       Papel e Cia       0.60      0.42      0.49      1602\n",
      "\n",
      "          accuracy                           0.79     20823\n",
      "         macro avg       0.68      0.61      0.64     20823\n",
      "      weighted avg       0.77      0.79      0.78     20823\n",
      "\n",
      "{'train_score': 0.7760995041630832, 'cv_mean_score': 0.7219762965163306, 'cv_std_score': 0.007354553567046953}\n",
      "----------------------------------------------------------------------------------------------------\n",
      "base_tag\n"
     ]
    },
    {
     "data": {
      "image/png": "[encoded data removed]",
      "text/plain": [
       "<Figure size 432x288 with 1 Axes>"
      ]
     },
     "metadata": {
      "needs_background": "light"
     },
     "output_type": "display_data"
    },
    {
     "name": "stdout",
     "output_type": "stream",
     "text": [
      "                    precision    recall  f1-score   support\n",
      "\n",
      "              Bebê       0.81      0.75      0.78      3809\n",
      "Bijuterias e Jóias       0.66      0.53      0.59       604\n",
      "         Decoração       0.78      0.84      0.81      5167\n",
      "     Lembrancinhas       0.83      0.91      0.87      8931\n",
      "            Outros       0.48      0.26      0.34       710\n",
      "       Papel e Cia       0.58      0.38      0.46      1602\n",
      "\n",
      "          accuracy                           0.79     20823\n",
      "         macro avg       0.69      0.61      0.64     20823\n",
      "      weighted avg       0.78      0.79      0.78     20823\n",
      "\n",
      "{'train_score': 0.7783660388153286, 'cv_mean_score': 0.7318011164615864, 'cv_std_score': 0.006849633395680611}\n",
      "----------------------------------------------------------------------------------------------------\n",
      "full_train\n"
     ]
    },
    {
     "data": {
      "image/png": "[encoded data removed]",
      "text/plain": [
       "<Figure size 432x288 with 1 Axes>"
      ]
     },
     "metadata": {
      "needs_background": "light"
     },
     "output_type": "display_data"
    },
    {
     "name": "stdout",
     "output_type": "stream",
     "text": [
      "                    precision    recall  f1-score   support\n",
      "\n",
      "              Bebê       0.81      0.77      0.79      3809\n",
      "Bijuterias e Jóias       0.63      0.58      0.61       604\n",
      "         Decoração       0.81      0.84      0.83      5167\n",
      "     Lembrancinhas       0.85      0.92      0.88      8931\n",
      "            Outros       0.53      0.26      0.35       710\n",
      "       Papel e Cia       0.59      0.45      0.51      1602\n",
      "\n",
      "          accuracy                           0.80     20823\n",
      "         macro avg       0.70      0.64      0.66     20823\n",
      "      weighted avg       0.79      0.80      0.80     20823\n",
      "\n",
      "{'train_score': 0.7958635161008878, 'cv_mean_score': 0.7417706296050438, 'cv_std_score': 0.006464998615490081}\n",
      "----------------------------------------------------------------------------------------------------\n"
     ]
    }
   ],
   "source": [
    "model = DecisionTreeClassifier(random_state=23, min_samples_leaf=0.001)\n",
    "y_train = df_train[\"category\"]\n",
    "\n",
    "for name, data in train_sets:\n",
    "    print(name)\n",
    "    test_data_modeling(data, y_train, model)\n",
    "    print(\"-\"* 100)"
   ]
  },
  {
   "cell_type": "markdown",
   "metadata": {},
   "source": [
    "Como é possível observar, conforme vamos aumentando a quantidade de atributos o desempenho do modelo também aumenta. Isso vale tanto para os scores calculados com os dados de treinamento quanto para as médias dos scores obtidos pela validação cruzada. Isso é um indício de que mesmo com o crescimento da quantidade de atributos não estamos incorrendo em sobrespecificação.\n",
    "\n",
    "Dos quatro atributos base identificados na análise exploratória, apenas `express_delivery` teve desemepenho abaixo do esperado. É provável que grande parte da variabilidade das categorias que poderia ser explicada por essa variável já foi explicada por outras. Com isso faz sentido não dar prosseguimento à utilização desse atributo na modelagem final.\n",
    "\n",
    "Quando adicionamos os tópicos dos títulos ou das tags às variáveis base, obtivemos um incremento considerável no score médio de validação cruzada. Porém, esse incremento não foi da mesma forma quando utilizamos todos os dados (em comparação com os atributos base e algum conjunto de atributos de tópicos). Isso deve ter ocorrido por conta de um certa duplicidade nas informações contidas nos tópicos de títulos e tags. \n",
    "\n",
    "Concluindo essa parte, constatamos a importância das features `price`, `weight` e `minimum_quantiy`. Também conseguimos identificar que os tópicos extraídos das variáveis `title` e `concatenated_tags` são úteis para prever `category`. O que não foi possível verificar é qual a quantidade de tópicos mais adequada para a modelagem. Esse hiperparâmetro será definido na próxima parte, onde além destes iremos buscar otimizar outros do modelo."
   ]
  },
  {
   "cell_type": "markdown",
   "metadata": {},
   "source": [
    "# Pipeline de Treinamento e GridSearch"
   ]
  },
  {
   "cell_type": "markdown",
   "metadata": {},
   "source": [
    "A escolha da melhor combinação de hiperâmetros será realizada pela `GridSearchCV`. Essa classe treina combina a validação cruzada à buscas extensivas por combinações de hiperparâmetros. Ao percorrer todas as combinações e para cada dobra da validação cruzada, treina o modelo e obtem os scores nos dados de teste (e de treinamento se assim for selecionado).\n",
    "\n",
    "Ao invés de utilizar o modelo de árvore de decisão, como estamos nos preocupando em melhorar o score do modelo vamos utilizar uma extensão da modelagem de árvore que combina diversos modelos de árvores por meio de **Baggin**, um modelo de `RandomForestClassifier`. Com isso, são treinados diversos modelos de árvore, cada qual utilizando uma amostra dos dados (amostragem com repetição). O resultado dos diversos modelos é agregada para gerar a previsão final. No caso do modelo de classificação, isso significar escolher a moda.\n",
    "\n",
    "Uma das grandes vantagens de escolher o modelo de Floresta é que ele concilia o viés dos modelos de árvore com a baixa variância por conta da utilização de **Bagging**. O que no caso, acaba mitigando um dos principais problemas de modelagem de árvore.\n",
    "\n",
    "Para simplificar o processo de treinamento e garantir que tanto os processos de pré-processamento, e geração de novos atributos sejam aplicados de forma consistente tanto para o treinamento quanto para a testagem do modelo, incuíremos todas essas etapas em um `Pipeline`. É esse objeto que iremos utilizar como \"modelo\" para a busca do melhor conjunto de parâmetros com `GridSearchCV`."
   ]
  },
  {
   "cell_type": "code",
   "execution_count": 16,
   "metadata": {},
   "outputs": [],
   "source": [
    "def gen_topic_transformer(column_name: str) -> Pipeline:\n",
    "    \"\"\"Gera um pipeline de geração de tópicos NMF a partir de um nome de coluna\n",
    "\n",
    "    Args:\n",
    "        column_name (str): nome da feature utilizada\n",
    "\n",
    "    Returns:\n",
    "        Pipeline: pipeline de tópicos NMF\n",
    "    \"\"\"    \n",
    "    return Pipeline(steps=[\n",
    "        (\"selector\", FunctionTransformer(lambda x: x[column_name])),\n",
    "        (\"tfidf\", TfidfVectorizer(tokenizer=nlp_preprocessing.custom_tokenizer,\n",
    "                                  preprocessor=nlp_preprocessing.clean_text,\n",
    "                                  min_df=10,\n",
    "                                  max_df=0.9)),\n",
    "        (\"nmf\", NMF(init=\"random\", max_iter=1000, random_state=23))\n",
    "    ])"
   ]
  },
  {
   "cell_type": "code",
   "execution_count": 17,
   "metadata": {},
   "outputs": [],
   "source": [
    "# criando o FeatureUnion que irá gerar os dados para a modelagem\n",
    "cols = [\"price\", \"weight\", \"minimum_quantity\"]\n",
    "features_pipelines = FeatureUnion([\n",
    "    (\"title\", gen_topic_transformer(\"title\")),\n",
    "    (\"tags\", gen_topic_transformer(\"concatenated_tags\")),\n",
    "    (\"selector\", FunctionTransformer(lambda x: x[cols]))\n",
    "])\n",
    "# criando o pipeline completo\n",
    "pipeline = Pipeline([\n",
    "    (\"preprocessing\", features_pipelines),\n",
    "    (\"rf\", RandomForestClassifier(random_state=23))\n",
    "])"
   ]
  },
  {
   "cell_type": "markdown",
   "metadata": {},
   "source": [
    "A busca pelos melhores parâmetros envolverá selecionar uma combinação entre os valores especificados abaixo. Serão testados vários valores de quantidades de tópicos, tanto para os de `title` quanto para os de `concatenated_tags`. Para regularizar o modelos de árvore e eviar a sobrespecifação do modelo, serão testados valores para profundidade máxima das árvores. Outro valor que contribui para a regularizção é aumentar a quatidade de árvores, aumentando a estabilidade do modelo."
   ]
  },
  {
   "cell_type": "code",
   "execution_count": null,
   "metadata": {},
   "outputs": [],
   "source": [
    "# criando o grid onde a busca será realizada para encontrar a melhor combinação\n",
    "# de hiperparâmetros estamos fazendo a busca pela quantidade de componentes\n",
    "# pela quantidade de estimadores de uma floresta e pela profundida\n",
    "# quanto maior a profundidadae mais complexa e maior a possibilidade de\n",
    "# sobrespecificar.\n",
    "params_grid = {\"preprocessing__title__nmf__n_components\": [10, 25, 50],\n",
    "               \"preprocessing__tags__nmf__n_components\": [10, 25, 50],\n",
    "               \"rf__n_estimators\": [500, 1000, 1500],\n",
    "               \"rf__max_depth\": [10, 15, 20, 25, 50]}"
   ]
  },
  {
   "cell_type": "code",
   "execution_count": 19,
   "metadata": {},
   "outputs": [
    {
     "name": "stdout",
     "output_type": "stream",
     "text": [
      "Fitting 5 folds for each of 135 candidates, totalling 675 fits\n"
     ]
    },
    {
     "data": {
      "text/plain": [
       "GridSearchCV(cv=5,\n",
       "             estimator=Pipeline(steps=[('preprocessing',\n",
       "                                        FeatureUnion(transformer_list=[('title',\n",
       "                                                                        Pipeline(steps=[('selector',\n",
       "                                                                                         FunctionTransformer(func=<function gen_topic_transformer.<locals>.<lambda> at 0x000001DA9A2950D0>)),\n",
       "                                                                                        ('tfidf',\n",
       "                                                                                         TfidfVectorizer(max_df=0.9,\n",
       "                                                                                                         min_df=10,\n",
       "                                                                                                         preprocessor=<function clean_text at 0x000001DA97640A60>,\n",
       "                                                                                                         tokenizer=<function custo...\n",
       "                                                                                             max_iter=1000,\n",
       "                                                                                             random_state=23))])),\n",
       "                                                                       ('selector',\n",
       "                                                                        FunctionTransformer(func=<function <lambda> at 0x000001DA9A295E50>))])),\n",
       "                                       ('rf',\n",
       "                                        RandomForestClassifier(random_state=23))]),\n",
       "             param_grid={'preprocessing__tags__nmf__n_components': [10, 25, 50],\n",
       "                         'preprocessing__title__nmf__n_components': [10, 25,\n",
       "                                                                     50],\n",
       "                         'rf__max_depth': [10, 15, 20, 25, 50],\n",
       "                         'rf__n_estimators': [500, 1000, 1500]},\n",
       "             verbose=1)"
      ]
     },
     "execution_count": 19,
     "metadata": {},
     "output_type": "execute_result"
    }
   ],
   "source": [
    "grid_rf = GridSearchCV(pipeline, params_grid, cv=5, verbose=1)\n",
    "grid_rf.fit(df_train, y_train)"
   ]
  },
  {
   "cell_type": "markdown",
   "metadata": {},
   "source": [
    "Pelo `classification_report` utilizando os dados de treinamento obtivemos score máximo para todas as classes. Isso é um fortíssimo indicativo de que estamos incorrendo em sobrespecificação. Isto, é modelo se adaptou tão perfeitamente aos de treinamento que muito provavelmente deve ter aprendido também as combinações de atributos que apesar de estarem representadas nos dados de treinamento não refletem o processo gerador genérico das classes."
   ]
  },
  {
   "cell_type": "code",
   "execution_count": 22,
   "metadata": {},
   "outputs": [
    {
     "name": "stdout",
     "output_type": "stream",
     "text": [
      "                    precision    recall  f1-score   support\n",
      "\n",
      "              Bebê       1.00      1.00      1.00      3809\n",
      "Bijuterias e Jóias       1.00      1.00      1.00       604\n",
      "         Decoração       1.00      1.00      1.00      5167\n",
      "     Lembrancinhas       1.00      1.00      1.00      8931\n",
      "            Outros       1.00      1.00      1.00       710\n",
      "       Papel e Cia       1.00      1.00      1.00      1602\n",
      "\n",
      "          accuracy                           1.00     20823\n",
      "         macro avg       1.00      1.00      1.00     20823\n",
      "      weighted avg       1.00      1.00      1.00     20823\n",
      "\n"
     ]
    }
   ],
   "source": [
    "# avaliando o melhor modelo utilizando dados de treinamento\n",
    "best_model = grid_rf.best_estimator_\n",
    "y_pred = best_model.predict(df_train)\n",
    "print(classification_report(y_true=y_train, y_pred=y_pred))"
   ]
  },
  {
   "cell_type": "markdown",
   "metadata": {},
   "source": [
    "Pelos dados do valor médio do F1-score nos dados de teste durantes as validações cruzadas, vemos que o aumento da quantidade de componentes e o tamanho da árvores são determinantes para o aumento da perfomance do modelo. Isso é um resultado esperado, quanto maior forem esses valores maior a quantidade de informações (possibilidades para adaptação) e maior será a capacidade do modelo de se adaptar aos dados. De certo modo, só conseguimos extrair maior proveito da maior quantidade de componentes quando possibilitamos a geração de árvores maiores.\n",
    "\n",
    "Entretanto esse ganho de perforance não é uniforme para todos os valores dos hiperparâmetros. Conforme a quantidade de componentes e tamanho da árvore aumentam sua capacidade de melhorar o modelo diminuem. De certo modo, só conseguimos extrair maior proveito da maior quantidade de componentes. O incremento é muito pequeno quando passamos de uma profundida máxima de 25 para 50. O mesmo ocorre quando alteramos a quantidade máxima de\n",
    "tópicos de 50 para 100.\n",
    "\n",
    "Com isso, não se jusitifica aumentar a complexidade dos modelos. Soma-se a isso a evidência de sobreajuste com F1-Score de 100% para os dados de treinamento. Dessa forma, ao invés de escolher o modelo de melhor desempenho, talvez seja mais interessante escolher um que seja um pouco inferior, mas que tenham menos riscos de sobreajustes."
   ]
  },
  {
   "cell_type": "code",
   "execution_count": 61,
   "metadata": {},
   "outputs": [
    {
     "data": {
      "text/html": [
       "<div>\n",
       "<style scoped>\n",
       "    .dataframe tbody tr th:only-of-type {\n",
       "        vertical-align: middle;\n",
       "    }\n",
       "\n",
       "    .dataframe tbody tr th {\n",
       "        vertical-align: top;\n",
       "    }\n",
       "\n",
       "    .dataframe thead th {\n",
       "        text-align: right;\n",
       "    }\n",
       "</style>\n",
       "<table border=\"1\" class=\"dataframe\">\n",
       "  <thead>\n",
       "    <tr style=\"text-align: right;\">\n",
       "      <th></th>\n",
       "      <th>preprocessing__tags__nmf__n_components</th>\n",
       "      <th>preprocessing__title__nmf__n_components</th>\n",
       "      <th>rf__max_depth</th>\n",
       "      <th>rf__n_estimators</th>\n",
       "      <th>mean_test_score</th>\n",
       "      <th>std_test_score</th>\n",
       "      <th>n_components</th>\n",
       "    </tr>\n",
       "  </thead>\n",
       "  <tbody>\n",
       "    <tr>\n",
       "      <th>0</th>\n",
       "      <td>10</td>\n",
       "      <td>10</td>\n",
       "      <td>10</td>\n",
       "      <td>500</td>\n",
       "      <td>0.799260</td>\n",
       "      <td>0.007561</td>\n",
       "      <td>20</td>\n",
       "    </tr>\n",
       "    <tr>\n",
       "      <th>1</th>\n",
       "      <td>10</td>\n",
       "      <td>10</td>\n",
       "      <td>10</td>\n",
       "      <td>1000</td>\n",
       "      <td>0.799932</td>\n",
       "      <td>0.007045</td>\n",
       "      <td>20</td>\n",
       "    </tr>\n",
       "    <tr>\n",
       "      <th>2</th>\n",
       "      <td>10</td>\n",
       "      <td>10</td>\n",
       "      <td>10</td>\n",
       "      <td>1500</td>\n",
       "      <td>0.799500</td>\n",
       "      <td>0.007165</td>\n",
       "      <td>20</td>\n",
       "    </tr>\n",
       "    <tr>\n",
       "      <th>3</th>\n",
       "      <td>10</td>\n",
       "      <td>10</td>\n",
       "      <td>15</td>\n",
       "      <td>500</td>\n",
       "      <td>0.833165</td>\n",
       "      <td>0.005207</td>\n",
       "      <td>20</td>\n",
       "    </tr>\n",
       "    <tr>\n",
       "      <th>4</th>\n",
       "      <td>10</td>\n",
       "      <td>10</td>\n",
       "      <td>15</td>\n",
       "      <td>1000</td>\n",
       "      <td>0.833501</td>\n",
       "      <td>0.004684</td>\n",
       "      <td>20</td>\n",
       "    </tr>\n",
       "    <tr>\n",
       "      <th>...</th>\n",
       "      <td>...</td>\n",
       "      <td>...</td>\n",
       "      <td>...</td>\n",
       "      <td>...</td>\n",
       "      <td>...</td>\n",
       "      <td>...</td>\n",
       "      <td>...</td>\n",
       "    </tr>\n",
       "    <tr>\n",
       "      <th>130</th>\n",
       "      <td>50</td>\n",
       "      <td>50</td>\n",
       "      <td>25</td>\n",
       "      <td>1000</td>\n",
       "      <td>0.854247</td>\n",
       "      <td>0.004056</td>\n",
       "      <td>100</td>\n",
       "    </tr>\n",
       "    <tr>\n",
       "      <th>131</th>\n",
       "      <td>50</td>\n",
       "      <td>50</td>\n",
       "      <td>25</td>\n",
       "      <td>1500</td>\n",
       "      <td>0.853623</td>\n",
       "      <td>0.003742</td>\n",
       "      <td>100</td>\n",
       "    </tr>\n",
       "    <tr>\n",
       "      <th>132</th>\n",
       "      <td>50</td>\n",
       "      <td>50</td>\n",
       "      <td>50</td>\n",
       "      <td>500</td>\n",
       "      <td>0.860634</td>\n",
       "      <td>0.004582</td>\n",
       "      <td>100</td>\n",
       "    </tr>\n",
       "    <tr>\n",
       "      <th>133</th>\n",
       "      <td>50</td>\n",
       "      <td>50</td>\n",
       "      <td>50</td>\n",
       "      <td>1000</td>\n",
       "      <td>0.860394</td>\n",
       "      <td>0.004554</td>\n",
       "      <td>100</td>\n",
       "    </tr>\n",
       "    <tr>\n",
       "      <th>134</th>\n",
       "      <td>50</td>\n",
       "      <td>50</td>\n",
       "      <td>50</td>\n",
       "      <td>1500</td>\n",
       "      <td>0.860539</td>\n",
       "      <td>0.004538</td>\n",
       "      <td>100</td>\n",
       "    </tr>\n",
       "  </tbody>\n",
       "</table>\n",
       "<p>135 rows × 7 columns</p>\n",
       "</div>"
      ],
      "text/plain": [
       "     preprocessing__tags__nmf__n_components  \\\n",
       "0                                        10   \n",
       "1                                        10   \n",
       "2                                        10   \n",
       "3                                        10   \n",
       "4                                        10   \n",
       "..                                      ...   \n",
       "130                                      50   \n",
       "131                                      50   \n",
       "132                                      50   \n",
       "133                                      50   \n",
       "134                                      50   \n",
       "\n",
       "     preprocessing__title__nmf__n_components  rf__max_depth  rf__n_estimators  \\\n",
       "0                                         10             10               500   \n",
       "1                                         10             10              1000   \n",
       "2                                         10             10              1500   \n",
       "3                                         10             15               500   \n",
       "4                                         10             15              1000   \n",
       "..                                       ...            ...               ...   \n",
       "130                                       50             25              1000   \n",
       "131                                       50             25              1500   \n",
       "132                                       50             50               500   \n",
       "133                                       50             50              1000   \n",
       "134                                       50             50              1500   \n",
       "\n",
       "     mean_test_score  std_test_score  n_components  \n",
       "0           0.799260        0.007561            20  \n",
       "1           0.799932        0.007045            20  \n",
       "2           0.799500        0.007165            20  \n",
       "3           0.833165        0.005207            20  \n",
       "4           0.833501        0.004684            20  \n",
       "..               ...             ...           ...  \n",
       "130         0.854247        0.004056           100  \n",
       "131         0.853623        0.003742           100  \n",
       "132         0.860634        0.004582           100  \n",
       "133         0.860394        0.004554           100  \n",
       "134         0.860539        0.004538           100  \n",
       "\n",
       "[135 rows x 7 columns]"
      ]
     },
     "execution_count": 61,
     "metadata": {},
     "output_type": "execute_result"
    }
   ],
   "source": [
    "results = pd.DataFrame(grid_rf.cv_results_[\"params\"])\n",
    "results[\"mean_test_score\"] = grid_rf.cv_results_[\"mean_test_score\"]\n",
    "results[\"std_test_score\"] = grid_rf.cv_results_[\"std_test_score\"]\n",
    "results[\"n_components\"] = (results[\"preprocessing__tags__nmf__n_components\"] +\n",
    "                           results[\"preprocessing__title__nmf__n_components\"])\n",
    "results"
   ]
  },
  {
   "cell_type": "code",
   "execution_count": 68,
   "metadata": {},
   "outputs": [
    {
     "data": {
      "image/png": "[encoded data removed]",
      "text/plain": [
       "<Figure size 432x288 with 1 Axes>"
      ]
     },
     "metadata": {
      "needs_background": "light"
     },
     "output_type": "display_data"
    }
   ],
   "source": [
    "(sns.scatterplot(data=results,\n",
    "                 x=\"n_components\",\n",
    "                 y=\"mean_test_score\",\n",
    "                 hue=\"rf__max_depth\"))\n",
    "plt.show()"
   ]
  },
  {
   "cell_type": "markdown",
   "metadata": {},
   "source": [
    "Já para o impacto da quantidade de estimadores sobre o desemepenho, vemos que seu impacto é desprezível."
   ]
  },
  {
   "cell_type": "code",
   "execution_count": 69,
   "metadata": {},
   "outputs": [
    {
     "data": {
      "text/plain": [
       "rf__n_estimators\n",
       "500     0.837396\n",
       "1000    0.837490\n",
       "1500    0.837428\n",
       "Name: mean_test_score, dtype: float64"
      ]
     },
     "execution_count": 69,
     "metadata": {},
     "output_type": "execute_result"
    }
   ],
   "source": [
    "results.groupby(\"rf__n_estimators\")[\"mean_test_score\"].mean()"
   ]
  },
  {
   "cell_type": "markdown",
   "metadata": {},
   "source": [
    "Com base nesses resultados um novo experimento será realizado. Focalizando melhor nas features que podem trazer resultado e adicionando novas features para a busca.\n",
    "\n",
    "Além de utilizar o hiperparâmetro de tamanho máximo das árvores, agora vamos utilizar o tamanho mínimo de amostra em cada folha da árvore. Esse é um hiperparâmetro completar ao tamanho máximo da árvore para controlar a regularização imposta à modelagem de árvores. Sendo que, quanto maior o tamanho máximo das árvores menor a regularização imposta ao modelo, e quanto maior a amostra mínima nas folhas maior a regularização."
   ]
  },
  {
   "cell_type": "code",
   "execution_count": 81,
   "metadata": {},
   "outputs": [
    {
     "name": "stdout",
     "output_type": "stream",
     "text": [
      "Fitting 5 folds for each of 36 candidates, totalling 180 fits\n"
     ]
    },
    {
     "data": {
      "text/plain": [
       "GridSearchCV(cv=5,\n",
       "             estimator=Pipeline(steps=[('preprocessing',\n",
       "                                        FeatureUnion(transformer_list=[('title',\n",
       "                                                                        Pipeline(steps=[('selector',\n",
       "                                                                                         FunctionTransformer(func=<function gen_topic_transformer.<locals>.<lambda> at 0x000001DA9A2950D0>)),\n",
       "                                                                                        ('tfidf',\n",
       "                                                                                         TfidfVectorizer(max_df=0.9,\n",
       "                                                                                                         min_df=10,\n",
       "                                                                                                         preprocessor=<function clean_text at 0x000001DA97640A60>,\n",
       "                                                                                                         tokenizer=<function custo...\n",
       "                                                                        FunctionTransformer(func=<function <lambda> at 0x000001DA9A295E50>))])),\n",
       "                                       ('rf',\n",
       "                                        RandomForestClassifier(random_state=23))]),\n",
       "             param_grid={'preprocessing__tags__nmf__n_components': [10, 25],\n",
       "                         'preprocessing__title__nmf__n_components': [10, 25],\n",
       "                         'rf__max_depth': [15, 20, 25],\n",
       "                         'rf__min_samples_leaf': [0.001, 0.0005, 0.0001],\n",
       "                         'rf__n_estimators': [500]},\n",
       "             return_train_score=True, verbose=1)"
      ]
     },
     "execution_count": 81,
     "metadata": {},
     "output_type": "execute_result"
    }
   ],
   "source": [
    "# criando o grid onde a busca será realizada para encontrar a melhor combinação\n",
    "# de hiperparâmetros estamos fazendo a busca pela quantidade de componentes\n",
    "# pela quantidade de estimadores de uma floresta e pela profundida\n",
    "# quanto maior a profundidadae mais complexa e maior a possibilidade de\n",
    "# sobrespecificar.\n",
    "params_grid = {\"preprocessing__title__nmf__n_components\": [10, 25],\n",
    "               \"preprocessing__tags__nmf__n_components\": [10, 25],\n",
    "               \"rf__n_estimators\": [500],\n",
    "               \"rf__max_depth\": [15, 20, 25],\n",
    "               \"rf__min_samples_leaf\": [0.001, 0.0005, 0.0001]}\n",
    "\n",
    "new_grid_rf = GridSearchCV(pipeline, params_grid, cv=5, verbose=1,\n",
    "                           return_train_score=True)\n",
    "new_grid_rf.fit(df_train, y_train)"
   ]
  },
  {
   "cell_type": "markdown",
   "metadata": {},
   "source": [
    "Pelo resultado vemos que agora, com excessão da precisão para a categoria **Outros** não maximizamos a métrica de avaliação. Apesar disso, o resultado é muito próximo de 100% para quase todas as outras métricas. O que ainda pode ser um sinal de alerta."
   ]
  },
  {
   "cell_type": "code",
   "execution_count": 82,
   "metadata": {},
   "outputs": [
    {
     "name": "stdout",
     "output_type": "stream",
     "text": [
      "                    precision    recall  f1-score   support\n",
      "\n",
      "              Bebê       0.97      0.93      0.95      3809\n",
      "Bijuterias e Jóias       0.99      0.90      0.94       604\n",
      "         Decoração       0.95      0.97      0.96      5167\n",
      "     Lembrancinhas       0.93      0.99      0.96      8931\n",
      "            Outros       1.00      0.70      0.82       710\n",
      "       Papel e Cia       0.98      0.81      0.89      1602\n",
      "\n",
      "          accuracy                           0.95     20823\n",
      "         macro avg       0.97      0.88      0.92     20823\n",
      "      weighted avg       0.95      0.95      0.95     20823\n",
      "\n"
     ]
    }
   ],
   "source": [
    "# avaliando o melhor modelo utilizando dados de treinamento\n",
    "best_model = new_grid_rf.best_estimator_\n",
    "y_pred = best_model.predict(df_train)\n",
    "print(classification_report(y_true=y_train, y_pred=y_pred))"
   ]
  },
  {
   "cell_type": "markdown",
   "metadata": {},
   "source": [
    "Por conta do aumento da regularização e na redução da quantidade de atributos, vemos uma redução na performance do modelo. A despeito do pior desemepenho vamos manter esse último modelo tendo em vista o menor risco de sobreespecificação."
   ]
  },
  {
   "cell_type": "code",
   "execution_count": 83,
   "metadata": {},
   "outputs": [
    {
     "data": {
      "text/html": [
       "<div>\n",
       "<style scoped>\n",
       "    .dataframe tbody tr th:only-of-type {\n",
       "        vertical-align: middle;\n",
       "    }\n",
       "\n",
       "    .dataframe tbody tr th {\n",
       "        vertical-align: top;\n",
       "    }\n",
       "\n",
       "    .dataframe thead th {\n",
       "        text-align: right;\n",
       "    }\n",
       "</style>\n",
       "<table border=\"1\" class=\"dataframe\">\n",
       "  <thead>\n",
       "    <tr style=\"text-align: right;\">\n",
       "      <th></th>\n",
       "      <th>preprocessing__tags__nmf__n_components</th>\n",
       "      <th>preprocessing__title__nmf__n_components</th>\n",
       "      <th>rf__max_depth</th>\n",
       "      <th>rf__min_samples_leaf</th>\n",
       "      <th>rf__n_estimators</th>\n",
       "      <th>mean_test_score</th>\n",
       "      <th>std_test_score</th>\n",
       "      <th>n_components</th>\n",
       "    </tr>\n",
       "  </thead>\n",
       "  <tbody>\n",
       "    <tr>\n",
       "      <th>0</th>\n",
       "      <td>10</td>\n",
       "      <td>10</td>\n",
       "      <td>15</td>\n",
       "      <td>0.0010</td>\n",
       "      <td>500</td>\n",
       "      <td>0.807472</td>\n",
       "      <td>0.006019</td>\n",
       "      <td>20</td>\n",
       "    </tr>\n",
       "    <tr>\n",
       "      <th>1</th>\n",
       "      <td>10</td>\n",
       "      <td>10</td>\n",
       "      <td>15</td>\n",
       "      <td>0.0005</td>\n",
       "      <td>500</td>\n",
       "      <td>0.816501</td>\n",
       "      <td>0.005385</td>\n",
       "      <td>20</td>\n",
       "    </tr>\n",
       "    <tr>\n",
       "      <th>2</th>\n",
       "      <td>10</td>\n",
       "      <td>10</td>\n",
       "      <td>15</td>\n",
       "      <td>0.0001</td>\n",
       "      <td>500</td>\n",
       "      <td>0.829707</td>\n",
       "      <td>0.005259</td>\n",
       "      <td>20</td>\n",
       "    </tr>\n",
       "    <tr>\n",
       "      <th>3</th>\n",
       "      <td>10</td>\n",
       "      <td>10</td>\n",
       "      <td>20</td>\n",
       "      <td>0.0010</td>\n",
       "      <td>500</td>\n",
       "      <td>0.808769</td>\n",
       "      <td>0.005692</td>\n",
       "      <td>20</td>\n",
       "    </tr>\n",
       "    <tr>\n",
       "      <th>4</th>\n",
       "      <td>10</td>\n",
       "      <td>10</td>\n",
       "      <td>20</td>\n",
       "      <td>0.0005</td>\n",
       "      <td>500</td>\n",
       "      <td>0.818518</td>\n",
       "      <td>0.005213</td>\n",
       "      <td>20</td>\n",
       "    </tr>\n",
       "  </tbody>\n",
       "</table>\n",
       "</div>"
      ],
      "text/plain": [
       "   preprocessing__tags__nmf__n_components  \\\n",
       "0                                      10   \n",
       "1                                      10   \n",
       "2                                      10   \n",
       "3                                      10   \n",
       "4                                      10   \n",
       "\n",
       "   preprocessing__title__nmf__n_components  rf__max_depth  \\\n",
       "0                                       10             15   \n",
       "1                                       10             15   \n",
       "2                                       10             15   \n",
       "3                                       10             20   \n",
       "4                                       10             20   \n",
       "\n",
       "   rf__min_samples_leaf  rf__n_estimators  mean_test_score  std_test_score  \\\n",
       "0                0.0010               500         0.807472        0.006019   \n",
       "1                0.0005               500         0.816501        0.005385   \n",
       "2                0.0001               500         0.829707        0.005259   \n",
       "3                0.0010               500         0.808769        0.005692   \n",
       "4                0.0005               500         0.818518        0.005213   \n",
       "\n",
       "   n_components  \n",
       "0            20  \n",
       "1            20  \n",
       "2            20  \n",
       "3            20  \n",
       "4            20  "
      ]
     },
     "execution_count": 83,
     "metadata": {},
     "output_type": "execute_result"
    }
   ],
   "source": [
    "results = pd.DataFrame(new_grid_rf.cv_results_[\"params\"])\n",
    "results[\"mean_test_score\"] = new_grid_rf.cv_results_[\"mean_test_score\"]\n",
    "results[\"std_test_score\"] = new_grid_rf.cv_results_[\"std_test_score\"]\n",
    "results[\"n_components\"] = (results[\"preprocessing__tags__nmf__n_components\"] +\n",
    "                           results[\"preprocessing__title__nmf__n_components\"])\n",
    "results.head()"
   ]
  },
  {
   "cell_type": "code",
   "execution_count": 84,
   "metadata": {},
   "outputs": [
    {
     "data": {
      "image/png": "[encoded data removed]",
      "text/plain": [
       "<Figure size 432x288 with 1 Axes>"
      ]
     },
     "metadata": {
      "needs_background": "light"
     },
     "output_type": "display_data"
    }
   ],
   "source": [
    "(sns.scatterplot(data=results,\n",
    "                 x=\"n_components\",\n",
    "                 y=\"mean_test_score\",\n",
    "                 hue=\"rf__max_depth\",\n",
    "                 size=\"rf__min_samples_leaf\",\n",
    "                 alpha=0.6,\n",
    "                 palette=\"viridis\"))\n",
    "plt.show()"
   ]
  },
  {
   "cell_type": "markdown",
   "metadata": {},
   "source": [
    "Tendo esse modelo escolhido iremos avaliá-lo sobre os dados de teste, separados e salvos no primeiro notebook."
   ]
  },
  {
   "cell_type": "code",
   "execution_count": 102,
   "metadata": {},
   "outputs": [
    {
     "name": "stdout",
     "output_type": "stream",
     "text": [
      "                    precision    recall  f1-score   support\n",
      "\n",
      "              Bebê       0.88      0.79      0.83      1633\n",
      "Bijuterias e Jóias       0.96      0.76      0.85       259\n",
      "         Decoração       0.83      0.91      0.87      2215\n",
      "     Lembrancinhas       0.85      0.96      0.90      3828\n",
      "            Outros       0.85      0.30      0.44       304\n",
      "       Papel e Cia       0.86      0.48      0.61       686\n",
      "\n",
      "          accuracy                           0.85      8925\n",
      "         macro avg       0.87      0.70      0.75      8925\n",
      "      weighted avg       0.85      0.85      0.84      8925\n",
      "\n"
     ]
    }
   ],
   "source": [
    "# avaliando o melhor modelo utilizando dados de teste\n",
    "df_test = pd.read_pickle(\"../data/test_prod.pickle\")\n",
    "y_test = df_test[\"category\"]\n",
    "y_pred = best_model.predict(df_test)\n",
    "print(classification_report(y_true=y_test, y_pred=y_pred))"
   ]
  },
  {
   "cell_type": "markdown",
   "metadata": {},
   "source": [
    "Em seguida vamos salvar os parâmetros para no futuro treinar o modelo utilizando todos os dados, testes e treinamento. Com maior quantidade de dados é esperado que o desempenho do modelo seja melhor. Uma vez que não iremos mais modificar os hiperparâmetros e etapas de pré-processamento não precisamos mais manter os dados de teste."
   ]
  },
  {
   "cell_type": "code",
   "execution_count": 187,
   "metadata": {},
   "outputs": [],
   "source": [
    "title_nmf_params = best_model.named_steps[\"preprocessing\"].transformer_list[0][1][2].get_params()\n",
    "tags_nmf_params = best_model.named_steps[\"preprocessing\"].transformer_list[1][1][2].get_params()\n",
    "rf_params = best_model.named_steps[\"rf\"].get_params()\n",
    "\n",
    "params_dict = {\"title_nmf\": title_nmf_params,\n",
    "               \"tags_nmf\": tags_nmf_params,\n",
    "               \"rf_category_clf\": rf_params}\n",
    "\n",
    "for name, params in params_dict.items():\n",
    "    file_path = f\"..\\config\\{name}.json\"\n",
    "    with open(file_path, \"w\") as file:\n",
    "        json.dump(params, file, indent=4)"
   ]
  }
 ],
 "metadata": {
  "interpreter": {
   "hash": "46c0bb3b8e63a95c204f7a1a105596c1673bb87538bedee3505b8c3e2a065390"
  },
  "kernelspec": {
   "display_name": "Python 3 (ipykernel)",
   "language": "python",
   "name": "python3"
  },
  "language_info": {
   "codemirror_mode": {
    "name": "ipython",
    "version": 3
   },
   "file_extension": ".py",
   "mimetype": "text/x-python",
   "name": "python",
   "nbconvert_exporter": "python",
   "pygments_lexer": "ipython3",
   "version": "3.9.6"
  }
 },
 "nbformat": 4,
 "nbformat_minor": 4
}
