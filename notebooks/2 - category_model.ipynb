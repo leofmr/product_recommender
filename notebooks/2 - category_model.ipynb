{
 "cells": [
  {
   "cell_type": "markdown",
   "metadata": {},
   "source": [
    "# Inrodução\n",
    "\n",
    "Nesse notebook os experimentos da modelagem das categorias é realizada.\n",
    "As evidências de encontradas na análise auxiliaram na seleção de variáveis e\n",
    "elaboração de features para o modelo.\n",
    "\n",
    "Ao final desse notebook teremos uma estrutura de pipeline treinada e o com\n",
    "hiperparâmetros otimizados (escopo de busca de hiperparâmetros limitada para\n",
    "diminuir o tempo de treinamento).\n",
    "\n",
    "# Imports"
   ]
  },
  {
   "cell_type": "code",
   "execution_count": 1,
   "metadata": {},
   "outputs": [],
   "source": [
    "# imports do scikit-learn para a modelagem\n",
    "\n",
    "# preprocessamento nlp e modelagem de tópicos\n",
    "from sklearn.feature_extraction.text import TfidfVectorizer\n",
    "from sklearn.decomposition import NMF\n",
    "# modelagem de árvores\n",
    "from sklearn.tree import DecisionTreeClassifier\n",
    "from sklearn.ensemble import RandomForestClassifier\n",
    "# avaliação e seleção de modelos\n",
    "from sklearn.metrics import f1_score, make_scorer, classification_report\n",
    "from sklearn.model_selection import cross_val_score, GridSearchCV\n",
    "# criação de pipelines\n",
    "from sklearn.preprocessing import FunctionTransformer\n",
    "from sklearn.pipeline import Pipeline, FeatureUnion"
   ]
  },
  {
   "cell_type": "code",
   "execution_count": 183,
   "metadata": {},
   "outputs": [],
   "source": [
    "\n",
    "# funções gerais\n",
    "import pandas as pd\n",
    "import matplotlib.pyplot as plt\n",
    "import seaborn as sns\n",
    "\n",
    "import json"
   ]
  },
  {
   "cell_type": "code",
   "execution_count": 3,
   "metadata": {},
   "outputs": [],
   "source": [
    "from pathlib import Path\n",
    "import sys\n",
    "\n",
    "main_path = str(Path().resolve().parent)\n",
    "sys.path.append(main_path)"
   ]
  },
  {
   "cell_type": "code",
   "execution_count": 5,
   "metadata": {},
   "outputs": [],
   "source": [
    "# carregando as funções de preprocessamento nlp do notebook de\n",
    "# análise de produto, essas funções foram adicionadas nesse modulo\n",
    "from src import nlp_preprocessing"
   ]
  },
  {
   "cell_type": "markdown",
   "metadata": {},
   "source": [
    "# Carregamento dos dados\n",
    "\n",
    "Serão carregados os dados de treinamento já com o pré-processamento geral\n",
    "realizado na primeira etapa de análise."
   ]
  },
  {
   "cell_type": "code",
   "execution_count": 6,
   "metadata": {},
   "outputs": [
    {
     "data": {
      "text/html": [
       "<div>\n",
       "<style scoped>\n",
       "    .dataframe tbody tr th:only-of-type {\n",
       "        vertical-align: middle;\n",
       "    }\n",
       "\n",
       "    .dataframe tbody tr th {\n",
       "        vertical-align: top;\n",
       "    }\n",
       "\n",
       "    .dataframe thead th {\n",
       "        text-align: right;\n",
       "    }\n",
       "</style>\n",
       "<table border=\"1\" class=\"dataframe\">\n",
       "  <thead>\n",
       "    <tr style=\"text-align: right;\">\n",
       "      <th></th>\n",
       "      <th>seller_id</th>\n",
       "      <th>title</th>\n",
       "      <th>concatenated_tags</th>\n",
       "      <th>creation_date</th>\n",
       "      <th>price</th>\n",
       "      <th>weight</th>\n",
       "      <th>express_delivery</th>\n",
       "      <th>minimum_quantity</th>\n",
       "      <th>view_counts</th>\n",
       "      <th>order_counts</th>\n",
       "      <th>category</th>\n",
       "    </tr>\n",
       "    <tr>\n",
       "      <th>product_id</th>\n",
       "      <th></th>\n",
       "      <th></th>\n",
       "      <th></th>\n",
       "      <th></th>\n",
       "      <th></th>\n",
       "      <th></th>\n",
       "      <th></th>\n",
       "      <th></th>\n",
       "      <th></th>\n",
       "      <th></th>\n",
       "      <th></th>\n",
       "    </tr>\n",
       "  </thead>\n",
       "  <tbody>\n",
       "    <tr>\n",
       "      <th>7010568</th>\n",
       "      <td>761717</td>\n",
       "      <td>Caneta Personalizada Barquinho</td>\n",
       "      <td>caneta personalizada canetas personalizadas pa...</td>\n",
       "      <td>2017-07-12 16:29:08</td>\n",
       "      <td>12.260</td>\n",
       "      <td>15.0</td>\n",
       "      <td>0</td>\n",
       "      <td>30.0</td>\n",
       "      <td>116.0</td>\n",
       "      <td>11.0</td>\n",
       "      <td>Lembrancinhas</td>\n",
       "    </tr>\n",
       "    <tr>\n",
       "      <th>6957815</th>\n",
       "      <td>3708390</td>\n",
       "      <td>Toalha Bordada Madrinha de Consagração</td>\n",
       "      <td>toalhas lavabo lembrancinhas batizado toalha c...</td>\n",
       "      <td>2016-12-08 10:40:28</td>\n",
       "      <td>28.490</td>\n",
       "      <td>7.5</td>\n",
       "      <td>1</td>\n",
       "      <td>4.5</td>\n",
       "      <td>463.0</td>\n",
       "      <td>8.5</td>\n",
       "      <td>Lembrancinhas</td>\n",
       "    </tr>\n",
       "    <tr>\n",
       "      <th>10378129</th>\n",
       "      <td>8225602</td>\n",
       "      <td>Colar Best Friends Folheado 4 Partes.</td>\n",
       "      <td>biju best friends mirella flavia gabi</td>\n",
       "      <td>2017-01-24 14:32:48</td>\n",
       "      <td>40.290</td>\n",
       "      <td>13.0</td>\n",
       "      <td>0</td>\n",
       "      <td>0.0</td>\n",
       "      <td>9183.0</td>\n",
       "      <td>157.0</td>\n",
       "      <td>Bijuterias e Jóias</td>\n",
       "    </tr>\n",
       "    <tr>\n",
       "      <th>4658013</th>\n",
       "      <td>7043431</td>\n",
       "      <td>Azulejo Certificado Melhor Pai do Mundo</td>\n",
       "      <td>dia pais azulejos</td>\n",
       "      <td>2019-06-14 16:09:23</td>\n",
       "      <td>39.220</td>\n",
       "      <td>338.0</td>\n",
       "      <td>0</td>\n",
       "      <td>1.0</td>\n",
       "      <td>77.5</td>\n",
       "      <td>12.0</td>\n",
       "      <td>Decoração</td>\n",
       "    </tr>\n",
       "    <tr>\n",
       "      <th>487440</th>\n",
       "      <td>1408350</td>\n",
       "      <td>Mochila saco bailarina soldadinho de chumbo</td>\n",
       "      <td>sacolinhas festa bailarina lembrancinhas baila...</td>\n",
       "      <td>2018-02-21 16:39:27</td>\n",
       "      <td>13.175</td>\n",
       "      <td>12.5</td>\n",
       "      <td>1</td>\n",
       "      <td>32.0</td>\n",
       "      <td>1484.5</td>\n",
       "      <td>0.0</td>\n",
       "      <td>Lembrancinhas</td>\n",
       "    </tr>\n",
       "  </tbody>\n",
       "</table>\n",
       "</div>"
      ],
      "text/plain": [
       "            seller_id                                        title  \\\n",
       "product_id                                                           \n",
       "7010568        761717               Caneta Personalizada Barquinho   \n",
       "6957815       3708390       Toalha Bordada Madrinha de Consagração   \n",
       "10378129      8225602        Colar Best Friends Folheado 4 Partes.   \n",
       "4658013       7043431      Azulejo Certificado Melhor Pai do Mundo   \n",
       "487440        1408350  Mochila saco bailarina soldadinho de chumbo   \n",
       "\n",
       "                                            concatenated_tags  \\\n",
       "product_id                                                      \n",
       "7010568     caneta personalizada canetas personalizadas pa...   \n",
       "6957815     toalhas lavabo lembrancinhas batizado toalha c...   \n",
       "10378129                biju best friends mirella flavia gabi   \n",
       "4658013                                     dia pais azulejos   \n",
       "487440      sacolinhas festa bailarina lembrancinhas baila...   \n",
       "\n",
       "                 creation_date   price  weight  express_delivery  \\\n",
       "product_id                                                         \n",
       "7010568    2017-07-12 16:29:08  12.260    15.0                 0   \n",
       "6957815    2016-12-08 10:40:28  28.490     7.5                 1   \n",
       "10378129   2017-01-24 14:32:48  40.290    13.0                 0   \n",
       "4658013    2019-06-14 16:09:23  39.220   338.0                 0   \n",
       "487440     2018-02-21 16:39:27  13.175    12.5                 1   \n",
       "\n",
       "            minimum_quantity  view_counts  order_counts            category  \n",
       "product_id                                                                   \n",
       "7010568                 30.0        116.0          11.0       Lembrancinhas  \n",
       "6957815                  4.5        463.0           8.5       Lembrancinhas  \n",
       "10378129                 0.0       9183.0         157.0  Bijuterias e Jóias  \n",
       "4658013                  1.0         77.5          12.0           Decoração  \n",
       "487440                  32.0       1484.5           0.0       Lembrancinhas  "
      ]
     },
     "execution_count": 6,
     "metadata": {},
     "output_type": "execute_result"
    }
   ],
   "source": [
    "df_train = pd.read_pickle(\"../data/train_prod.pickle\")\n",
    "df_train.head()"
   ]
  },
  {
   "cell_type": "markdown",
   "metadata": {},
   "source": [
    "# Avaliação inicial da extração de features para a modelagem\n",
    "\n",
    "Nessa etapa vamos avaliar a combinação de diversos features para geração\n",
    "do modelo de previsão de categorias. Serão testadas com features base nos\n",
    "dados de produtos com combinações de novas features extraídas das variáveis\n",
    "textuais `title` e `concatenated_tags` a partir de modelagem de tópicos por\n",
    "NMF.\n",
    "\n",
    "Primeiro vamos aplicar a função `gen_topics` para a obtenção das features de \n",
    "tópicos nos dados textuais. Essas novas features vão ser combinadas com os\n",
    "dados base de modo a termos, dados base, dados base mais tópicos de título,\n",
    "dados base mais tópicos de tags e por último os dados completos com todas as\n",
    "features geradas."
   ]
  },
  {
   "cell_type": "code",
   "execution_count": 7,
   "metadata": {},
   "outputs": [],
   "source": [
    "def gen_topics(doc: pd.Series, n_topics: int) -> pd.DataFrame:\n",
    "    \"\"\"Função que aplica a modelagem de tópicos para \n",
    "\n",
    "    Args:\n",
    "        doc (pd.Series): _description_\n",
    "        n_topics (int): _description_\n",
    "\n",
    "    Returns:\n",
    "        pd.DataFrame: _description_\n",
    "    \"\"\"    \n",
    "    tfidf_vec = TfidfVectorizer(tokenizer=nlp_preprocessing.custom_tokenizer,\n",
    "                                preprocessor=nlp_preprocessing.clean_text,\n",
    "                                min_df=10,\n",
    "                                max_df=0.9)\n",
    "    tfidf_data = tfidf_vec.fit_transform(doc)\n",
    "    topic_model = NMF(n_components=n_topics, init=\"random\")\n",
    "    topic_data = topic_model.fit_transform(tfidf_data)\n",
    "    columns = [f\"{doc.name}_{i}\" for i in range(n_topics)]\n",
    "    return pd.DataFrame(topic_data, index=doc.index, columns=columns)"
   ]
  },
  {
   "cell_type": "code",
   "execution_count": 12,
   "metadata": {},
   "outputs": [],
   "source": [
    "y_train = df_train[\"category\"]"
   ]
  },
  {
   "cell_type": "code",
   "execution_count": 13,
   "metadata": {},
   "outputs": [],
   "source": [
    "# remoção de variáveis que não vão ser utilizadas\n",
    "base_train = df_train.drop(columns=[\"seller_id\", \"title\", \"concatenated_tags\",\n",
    "                                    \"creation_date\", \"category\"])\n",
    "\n",
    "# geração do dataframe com tópicos de títulos e tags\n",
    "title_topics = gen_topics(df_train[\"title\"], 5)\n",
    "tags_topics = gen_topics(df_train[\"concatenated_tags\"], 5)\n",
    "# fazendo as três combinações de dados\n",
    "base_title_train = base_train.join(title_topics)\n",
    "base_tags_train = base_train.join(tags_topics)\n",
    "full_train = base_train.join(title_topics).join(tags_topics)\n",
    "\n",
    "# criando o dicionário que reune todos os dados criados\n",
    "train_sets = [(\"base\", base_train),\n",
    "              (\"base_title\", base_title_train),\n",
    "              (\"base_tag\", base_tags_train),\n",
    "              (\"full_train\", full_train)]"
   ]
  },
  {
   "cell_type": "markdown",
   "metadata": {},
   "source": [
    "A capacidade dos dados em prever a categoria será testada a partir da função\n",
    "`test_data_modeling`. Essa função irá utilizar os dados e o modelo para \n",
    "treinamento. Calculará o score esperado utilizando validação cruzada de 5\n",
    "dobras. A avalicão será por meio do indicador de F1-score, ponderado pela\n",
    "prevalência de cada classe. Serão calculados a média e o desvio padrão desse\n",
    "score utilizando o resultado de todas as dobras. Esse será uma proxy ao nosso\n",
    "desempenho de generalização esperado. Para o modelo treinado, será identificada\n",
    "a importância de cada parâmetro utlizado na modelagem. Ainda, é aplicada a\n",
    "função `classification_report` do desepemno do modelo com dados de treinamento.\n",
    "Por fim, é calculado o desepenho em treinameto (também utilizando o F1-score)\n",
    "e é printado o resultados da validação cruzada e do desempenho com dados de \n",
    "treinamento.\n",
    "\n",
    "O score F1 foi selecionado pois ele combina precision e recall em um\n",
    "identificador só. A agergação dos scores para cada categoria é agregada por\n",
    "meio de uma média ponderada a partir da frequência de cada categoria. Essa\n",
    "ponderação é importante tendo em vista o desbalanceamento entre as classes. A\n",
    "utilização dessa estatística faz sentido uma vez que não temos razão para \n",
    "priorizar nem precisão e nem recall.\n",
    "\n",
    "Poderíamos sofisticar um pouco mais o score do modelo. Por exemplo, de forma\n",
    "a ponderar o desemepenho de cada f1-score a partir da frequência relativa da\n",
    "categoria, poderíamos fazer uma média com base em pesos que representem o total\n",
    "de pedidos ou então o valor total transacionado por categoria. Dessa forma,\n",
    "iriamos dar mais importância para aquelas categorias que movimentem maiores\n",
    "transações. Outra forma, seria pela lucratividade média de cada categoria para\n",
    "o marketplace. Ou seja tudo depende do que tipo de importância queremos dar\n",
    "para cada categoria. Para simplifcar o problema vamos adotar o método padrão\n",
    "com ponderação pela frequência relativa. Como estamos trabalhando com dados de\n",
    "queries ao realizar isso, estamos previlegiando aquelas categorias de produtos\n",
    "que são mais buscados pelos compradores, o que em si também tem seu mérito."
   ]
  },
  {
   "cell_type": "code",
   "execution_count": 14,
   "metadata": {},
   "outputs": [],
   "source": [
    "def test_data_modeling(X_train: pd.DataFrame, y_train: pd.Series, model) -> None:\n",
    "    \"\"\"Gera várias visualizações para avaliar o desempenho do treinamento\n",
    "\n",
    "    Args:\n",
    "        X_train (pd.DataFrame): _description_\n",
    "        y_train (pd.Series): _description_\n",
    "        model (sklearn.model): _description_\n",
    "    \"\"\"\n",
    "    \n",
    "    # treinando o modelo com validação cruzada\n",
    "    cv_score = cross_val_score(model, X_train, y_train, cv=5, n_jobs=-1,\n",
    "                               scoring=make_scorer(f1_score,\n",
    "                                                   average='weighted'))\n",
    "    mean_score = cv_score.mean()\n",
    "    std_score = cv_score.std()\n",
    "    # treinando o modelo\n",
    "    model.fit(X_train, y_train)\n",
    "    # plotando a importância dos parâmetros\n",
    "    importances = pd.Series(model.feature_importances_, index=X_train.columns)\n",
    "    importances.sort_values().plot(kind=\"barh\")\n",
    "    plt.show()\n",
    "    \n",
    "    # gerando o classification report\n",
    "    y_pred = model.predict(X_train)\n",
    "    print(classification_report(y_train, y_pred))\n",
    "    # finalizando com um print, do score de treinamento e das médias e\n",
    "    # desvios padrões dos scores de validação cruzada\n",
    "    train_score = f1_score(y_train, y_pred, average=\"weighted\")\n",
    "    print({\"train_score\": train_score,\n",
    "           \"cv_mean_score\": mean_score,\n",
    "           \"cv_std_score\": std_score})"
   ]
  },
  {
   "cell_type": "markdown",
   "metadata": {},
   "source": [
    "Como o objetivo dessa etapa é mais avaliar a utilização dos dados que o próprio\n",
    "modelo será utilizada um modelo mais simples de classificação em árvore. Não\n",
    "haverá qualquer esforço em escolher um modelo com a melhor combinação de\n",
    "hiperparâmetros nessa etapa, apenas testar diversas combinações de atributos\n",
    "para a previsão de categorias.\n",
    "\n",
    "Por ser um modelo de árvores que é capaz de incorporar relações não lineares\n",
    "entre os atributos, não será aplicada a escala logarítimica sobre os atributos\n",
    "preço e peso, como foi realizado na análise exploratória.\n",
    "\n",
    "A função será aplicada para cada conjunto de dados contidos no dicionário\n",
    "`train_sets`. Para todos será utilizado o modelo de árvore."
   ]
  },
  {
   "cell_type": "code",
   "execution_count": 11,
   "metadata": {},
   "outputs": [
    {
     "name": "stdout",
     "output_type": "stream",
     "text": [
      "base\n"
     ]
    },
    {
     "data": {
      "image/png": "[encoded data removed]",
      "text/plain": [
       "<Figure size 432x288 with 1 Axes>"
      ]
     },
     "metadata": {
      "needs_background": "light"
     },
     "output_type": "display_data"
    },
    {
     "name": "stdout",
     "output_type": "stream",
     "text": [
      "                    precision    recall  f1-score   support\n",
      "\n",
      "              Bebê       0.54      0.50      0.52      3809\n",
      "Bijuterias e Jóias       0.46      0.34      0.39       604\n",
      "         Decoração       0.60      0.72      0.66      5167\n",
      "     Lembrancinhas       0.77      0.88      0.82      8931\n",
      "            Outros       0.34      0.09      0.14       710\n",
      "       Papel e Cia       0.49      0.09      0.15      1602\n",
      "\n",
      "          accuracy                           0.67     20823\n",
      "         macro avg       0.53      0.44      0.45     20823\n",
      "      weighted avg       0.64      0.67      0.64     20823\n",
      "\n",
      "{'train_score': 0.6372581704775625, 'cv_mean_score': 0.5683367458914999, 'cv_std_score': 0.00403296785207402}\n",
      "----------------------------------------------------------------------------------------------------\n",
      "base_title\n"
     ]
    },
    {
     "data": {
      "image/png": "[encoded data removed]",
      "text/plain": [
       "<Figure size 432x288 with 1 Axes>"
      ]
     },
     "metadata": {
      "needs_background": "light"
     },
     "output_type": "display_data"
    },
    {
     "name": "stdout",
     "output_type": "stream",
     "text": [
      "                    precision    recall  f1-score   support\n",
      "\n",
      "              Bebê       0.71      0.67      0.69      3809\n",
      "Bijuterias e Jóias       0.63      0.60      0.61       604\n",
      "         Decoração       0.75      0.80      0.78      5167\n",
      "     Lembrancinhas       0.84      0.91      0.87      8931\n",
      "            Outros       0.44      0.27      0.34       710\n",
      "       Papel e Cia       0.63      0.36      0.46      1602\n",
      "\n",
      "          accuracy                           0.77     20823\n",
      "         macro avg       0.67      0.60      0.62     20823\n",
      "      weighted avg       0.76      0.77      0.76     20823\n",
      "\n",
      "{'train_score': 0.7579940434645872, 'cv_mean_score': 0.7025947576937943, 'cv_std_score': 0.004795236417812885}\n",
      "----------------------------------------------------------------------------------------------------\n",
      "base_tag\n"
     ]
    },
    {
     "data": {
      "image/png": "[encoded data removed]",
      "text/plain": [
       "<Figure size 432x288 with 1 Axes>"
      ]
     },
     "metadata": {
      "needs_background": "light"
     },
     "output_type": "display_data"
    },
    {
     "name": "stdout",
     "output_type": "stream",
     "text": [
      "                    precision    recall  f1-score   support\n",
      "\n",
      "              Bebê       0.80      0.72      0.76      3809\n",
      "Bijuterias e Jóias       0.61      0.58      0.59       604\n",
      "         Decoração       0.72      0.82      0.77      5167\n",
      "     Lembrancinhas       0.83      0.90      0.86      8931\n",
      "            Outros       0.56      0.25      0.35       710\n",
      "       Papel e Cia       0.56      0.32      0.41      1602\n",
      "\n",
      "          accuracy                           0.77     20823\n",
      "         macro avg       0.68      0.60      0.62     20823\n",
      "      weighted avg       0.76      0.77      0.76     20823\n",
      "\n",
      "{'train_score': 0.7605383380789124, 'cv_mean_score': 0.7088259086954747, 'cv_std_score': 0.007825404940188668}\n",
      "----------------------------------------------------------------------------------------------------\n",
      "full_train\n"
     ]
    },
    {
     "data": {
      "image/png": "[encoded data removed]",
      "text/plain": [
       "<Figure size 432x288 with 1 Axes>"
      ]
     },
     "metadata": {
      "needs_background": "light"
     },
     "output_type": "display_data"
    },
    {
     "name": "stdout",
     "output_type": "stream",
     "text": [
      "                    precision    recall  f1-score   support\n",
      "\n",
      "              Bebê       0.78      0.74      0.76      3809\n",
      "Bijuterias e Jóias       0.71      0.58      0.64       604\n",
      "         Decoração       0.77      0.82      0.80      5167\n",
      "     Lembrancinhas       0.84      0.92      0.88      8931\n",
      "            Outros       0.48      0.25      0.33       710\n",
      "       Papel e Cia       0.57      0.40      0.47      1602\n",
      "\n",
      "          accuracy                           0.79     20823\n",
      "         macro avg       0.69      0.62      0.65     20823\n",
      "      weighted avg       0.78      0.79      0.78     20823\n",
      "\n",
      "{'train_score': 0.7802608483393072, 'cv_mean_score': 0.7282328639174418, 'cv_std_score': 0.010337319621015455}\n",
      "----------------------------------------------------------------------------------------------------\n"
     ]
    }
   ],
   "source": [
    "model = DecisionTreeClassifier(random_state=23, min_samples_leaf=0.001)\n",
    "for name, data in train_sets:\n",
    "    print(name)\n",
    "    test_data_modeling(data, y_train, model)\n",
    "    print(\"-\"* 100)"
   ]
  },
  {
   "cell_type": "markdown",
   "metadata": {},
   "source": [
    "Como é possível observar, conforme vamos aumentando a quantidade de atributos\n",
    "o desempenho do modelo vai aumentando. Tanto o score de treino quanto o score\n",
    "de validação cruzada vão aumentando. Isso é um indício de que mesmo com o\n",
    "crescimento da quantidade de atributos não estamos incorrendo em uma situação\n",
    "de sobrespecificação. Apesar disso, no último modelo temos um pequeno aumento\n",
    "na dispersão dos scores da validação cruzada, o que pode ser uma alerta caso\n",
    "o modelo acabe se tornando muito sensível a pequenas variações nos dados de\n",
    "treinamento e possa sobrespecificar.\n",
    "\n",
    "Outro ponto importante é que conforme vamos adicionando mais atibutos a\n",
    "importância dos atributos base vai decrescendo. Ainda assim, três atributos\n",
    "continuam sendo importantes mesmo no modelo com a maior quantidade de\n",
    "atributos: preço, quantidade mínima e peso. Esse resultado está consoante ao\n",
    "que foi identificado na análise descritiva. As outras três variáveis podem ser\n",
    "consideradas despresíveis para a modelagem. Estando de forma consistente entre\n",
    "as últimas posições de importância.\n",
    "\n",
    "Um outro padrão importante é que quando adicionamos tópicos de títulos e tags,\n",
    "acaba ocorrendo duplicidade na informação passada para o modelo, com isso,\n",
    "alguns desses tópicos acabam também se tornando dispensáveis uma vez que sua\n",
    "informação já está sendo utilizada por um outro tópico.\n",
    "\n",
    "Definida essa primeira base de comparação cabe agora buscar otimizar a\n",
    "definições dos hiperparâmetros com o intuito de obter um modelo de melhor\n",
    "desempenho. Ao invés de utilizar a modelagem de árvore mais simples, nessa\n",
    "próxima etapa utilizaremos modelagem de floresta que combina diversos modelos\n",
    "de árvore em um só e reduz os riscos de sobresespecificação inerentes aos\n",
    "modelos de árvore.\n",
    "\n",
    "# Treinando o pipeline de treinamento\n",
    "\n",
    "Para fazer essa otimização iremos utilizar um `Pipline` de treinamento. Esse\n",
    "pipeline irá reunir as tarefas de seleção de dados e extração de tópicos das\n",
    "variáveis textuais para formar as features e por fim irá treinar o modelo\n",
    "de `RandomForestClassifier`."
   ]
  },
  {
   "cell_type": "code",
   "execution_count": 16,
   "metadata": {},
   "outputs": [],
   "source": [
    "def gen_topic_transformer(column_name: str) -> Pipeline:\n",
    "    \"\"\"Gera um pipeline de geração de tópicos NMF a partir de um nome de coluna\n",
    "\n",
    "    Args:\n",
    "        column_name (str): nome da feature utilizada\n",
    "\n",
    "    Returns:\n",
    "        Pipeline: pipeline de tópicos NMF\n",
    "    \"\"\"    \n",
    "    return Pipeline(steps=[\n",
    "        (\"selector\", FunctionTransformer(lambda x: x[column_name])),\n",
    "        (\"tfidf\", TfidfVectorizer(tokenizer=nlp_preprocessing.custom_tokenizer,\n",
    "                                  preprocessor=nlp_preprocessing.clean_text,\n",
    "                                  min_df=10,\n",
    "                                  max_df=0.9)),\n",
    "        (\"nmf\", NMF(init=\"random\", max_iter=1000, random_state=23))\n",
    "    ])"
   ]
  },
  {
   "cell_type": "code",
   "execution_count": 17,
   "metadata": {},
   "outputs": [],
   "source": [
    "# criando o FeatureUnion que irá gerar os dados para a modelagem\n",
    "cols = [\"price\", \"weight\", \"minimum_quantity\"]\n",
    "features_pipelines = FeatureUnion([\n",
    "    (\"title\", gen_topic_transformer(\"title\")),\n",
    "    (\"tags\", gen_topic_transformer(\"concatenated_tags\")),\n",
    "    (\"selector\", FunctionTransformer(lambda x: x[cols]))\n",
    "])\n",
    "# criando o pipeline completo\n",
    "pipeline = Pipeline([\n",
    "    (\"preprocessing\", features_pipelines),\n",
    "    (\"rf\", RandomForestClassifier(random_state=23))\n",
    "])"
   ]
  },
  {
   "cell_type": "code",
   "execution_count": 19,
   "metadata": {},
   "outputs": [
    {
     "name": "stdout",
     "output_type": "stream",
     "text": [
      "Fitting 5 folds for each of 135 candidates, totalling 675 fits\n"
     ]
    },
    {
     "data": {
      "text/plain": [
       "GridSearchCV(cv=5,\n",
       "             estimator=Pipeline(steps=[('preprocessing',\n",
       "                                        FeatureUnion(transformer_list=[('title',\n",
       "                                                                        Pipeline(steps=[('selector',\n",
       "                                                                                         FunctionTransformer(func=<function gen_topic_transformer.<locals>.<lambda> at 0x000001DA9A2950D0>)),\n",
       "                                                                                        ('tfidf',\n",
       "                                                                                         TfidfVectorizer(max_df=0.9,\n",
       "                                                                                                         min_df=10,\n",
       "                                                                                                         preprocessor=<function clean_text at 0x000001DA97640A60>,\n",
       "                                                                                                         tokenizer=<function custo...\n",
       "                                                                                             max_iter=1000,\n",
       "                                                                                             random_state=23))])),\n",
       "                                                                       ('selector',\n",
       "                                                                        FunctionTransformer(func=<function <lambda> at 0x000001DA9A295E50>))])),\n",
       "                                       ('rf',\n",
       "                                        RandomForestClassifier(random_state=23))]),\n",
       "             param_grid={'preprocessing__tags__nmf__n_components': [10, 25, 50],\n",
       "                         'preprocessing__title__nmf__n_components': [10, 25,\n",
       "                                                                     50],\n",
       "                         'rf__max_depth': [10, 15, 20, 25, 50],\n",
       "                         'rf__n_estimators': [500, 1000, 1500]},\n",
       "             verbose=1)"
      ]
     },
     "execution_count": 19,
     "metadata": {},
     "output_type": "execute_result"
    }
   ],
   "source": [
    "# criando o grid onde a busca será realizada para encontrar a melhor combinação\n",
    "# de hiperparâmetros estamos fazendo a busca pela quantidade de componentes\n",
    "# pela quantidade de estimadores de uma floresta e pela profundida\n",
    "# quanto maior a profundidadae mais complexa e maior a possibilidade de\n",
    "# sobrespecificar.\n",
    "params_grid = {\"preprocessing__title__nmf__n_components\": [10, 25, 50],\n",
    "               \"preprocessing__tags__nmf__n_components\": [10, 25, 50],\n",
    "               \"rf__n_estimators\": [500, 1000, 1500],\n",
    "               \"rf__max_depth\": [10, 15, 20, 25, 50]}\n",
    "\n",
    "grid_rf = GridSearchCV(pipeline, params_grid, cv=5, verbose=1)\n",
    "grid_rf.fit(df_train, y_train)"
   ]
  },
  {
   "cell_type": "markdown",
   "metadata": {},
   "source": [
    "Resultado estranho, fortes indícios de sobresepecificação por conta do score\n",
    "máximo para precisão e recall em todas as categorias, ou seja, conseguimos\n",
    "reproduzir perfeitamente os dados."
   ]
  },
  {
   "cell_type": "code",
   "execution_count": 22,
   "metadata": {},
   "outputs": [
    {
     "name": "stdout",
     "output_type": "stream",
     "text": [
      "                    precision    recall  f1-score   support\n",
      "\n",
      "              Bebê       1.00      1.00      1.00      3809\n",
      "Bijuterias e Jóias       1.00      1.00      1.00       604\n",
      "         Decoração       1.00      1.00      1.00      5167\n",
      "     Lembrancinhas       1.00      1.00      1.00      8931\n",
      "            Outros       1.00      1.00      1.00       710\n",
      "       Papel e Cia       1.00      1.00      1.00      1602\n",
      "\n",
      "          accuracy                           1.00     20823\n",
      "         macro avg       1.00      1.00      1.00     20823\n",
      "      weighted avg       1.00      1.00      1.00     20823\n",
      "\n"
     ]
    }
   ],
   "source": [
    "# avaliando o melhor modelo utilizando dados de treinamento\n",
    "best_model = grid_rf.best_estimator_\n",
    "y_pred = best_model.predict(df_train)\n",
    "print(classification_report(y_true=y_train, y_pred=y_pred))"
   ]
  },
  {
   "cell_type": "markdown",
   "metadata": {},
   "source": [
    "Pelo gráfico com os resultados dos experimentos, vemos que a quantidade de\n",
    "componentes (soma de tópicos de título e tags) e o tamanho das árvores são\n",
    "fatores determinantes. Porém, vemos também que a melhora que eles proporcionam\n",
    "é decrescente. O incremento é muito pequeno quando passamos de uma profundida\n",
    "máxima de 25 para 50. O mesmo ocorre quando alteramos a quantidade máxima de\n",
    "tópicos de 50 para 100. De certo modo, só conseguimos extrair maior proveito\n",
    "da maior quantidade de componentes quando possibilitamos a geração de árvores\n",
    "maiores, o que é bastante intuitivo."
   ]
  },
  {
   "cell_type": "code",
   "execution_count": 61,
   "metadata": {},
   "outputs": [
    {
     "data": {
      "text/html": [
       "<div>\n",
       "<style scoped>\n",
       "    .dataframe tbody tr th:only-of-type {\n",
       "        vertical-align: middle;\n",
       "    }\n",
       "\n",
       "    .dataframe tbody tr th {\n",
       "        vertical-align: top;\n",
       "    }\n",
       "\n",
       "    .dataframe thead th {\n",
       "        text-align: right;\n",
       "    }\n",
       "</style>\n",
       "<table border=\"1\" class=\"dataframe\">\n",
       "  <thead>\n",
       "    <tr style=\"text-align: right;\">\n",
       "      <th></th>\n",
       "      <th>preprocessing__tags__nmf__n_components</th>\n",
       "      <th>preprocessing__title__nmf__n_components</th>\n",
       "      <th>rf__max_depth</th>\n",
       "      <th>rf__n_estimators</th>\n",
       "      <th>mean_test_score</th>\n",
       "      <th>std_test_score</th>\n",
       "      <th>n_components</th>\n",
       "    </tr>\n",
       "  </thead>\n",
       "  <tbody>\n",
       "    <tr>\n",
       "      <th>0</th>\n",
       "      <td>10</td>\n",
       "      <td>10</td>\n",
       "      <td>10</td>\n",
       "      <td>500</td>\n",
       "      <td>0.799260</td>\n",
       "      <td>0.007561</td>\n",
       "      <td>20</td>\n",
       "    </tr>\n",
       "    <tr>\n",
       "      <th>1</th>\n",
       "      <td>10</td>\n",
       "      <td>10</td>\n",
       "      <td>10</td>\n",
       "      <td>1000</td>\n",
       "      <td>0.799932</td>\n",
       "      <td>0.007045</td>\n",
       "      <td>20</td>\n",
       "    </tr>\n",
       "    <tr>\n",
       "      <th>2</th>\n",
       "      <td>10</td>\n",
       "      <td>10</td>\n",
       "      <td>10</td>\n",
       "      <td>1500</td>\n",
       "      <td>0.799500</td>\n",
       "      <td>0.007165</td>\n",
       "      <td>20</td>\n",
       "    </tr>\n",
       "    <tr>\n",
       "      <th>3</th>\n",
       "      <td>10</td>\n",
       "      <td>10</td>\n",
       "      <td>15</td>\n",
       "      <td>500</td>\n",
       "      <td>0.833165</td>\n",
       "      <td>0.005207</td>\n",
       "      <td>20</td>\n",
       "    </tr>\n",
       "    <tr>\n",
       "      <th>4</th>\n",
       "      <td>10</td>\n",
       "      <td>10</td>\n",
       "      <td>15</td>\n",
       "      <td>1000</td>\n",
       "      <td>0.833501</td>\n",
       "      <td>0.004684</td>\n",
       "      <td>20</td>\n",
       "    </tr>\n",
       "    <tr>\n",
       "      <th>...</th>\n",
       "      <td>...</td>\n",
       "      <td>...</td>\n",
       "      <td>...</td>\n",
       "      <td>...</td>\n",
       "      <td>...</td>\n",
       "      <td>...</td>\n",
       "      <td>...</td>\n",
       "    </tr>\n",
       "    <tr>\n",
       "      <th>130</th>\n",
       "      <td>50</td>\n",
       "      <td>50</td>\n",
       "      <td>25</td>\n",
       "      <td>1000</td>\n",
       "      <td>0.854247</td>\n",
       "      <td>0.004056</td>\n",
       "      <td>100</td>\n",
       "    </tr>\n",
       "    <tr>\n",
       "      <th>131</th>\n",
       "      <td>50</td>\n",
       "      <td>50</td>\n",
       "      <td>25</td>\n",
       "      <td>1500</td>\n",
       "      <td>0.853623</td>\n",
       "      <td>0.003742</td>\n",
       "      <td>100</td>\n",
       "    </tr>\n",
       "    <tr>\n",
       "      <th>132</th>\n",
       "      <td>50</td>\n",
       "      <td>50</td>\n",
       "      <td>50</td>\n",
       "      <td>500</td>\n",
       "      <td>0.860634</td>\n",
       "      <td>0.004582</td>\n",
       "      <td>100</td>\n",
       "    </tr>\n",
       "    <tr>\n",
       "      <th>133</th>\n",
       "      <td>50</td>\n",
       "      <td>50</td>\n",
       "      <td>50</td>\n",
       "      <td>1000</td>\n",
       "      <td>0.860394</td>\n",
       "      <td>0.004554</td>\n",
       "      <td>100</td>\n",
       "    </tr>\n",
       "    <tr>\n",
       "      <th>134</th>\n",
       "      <td>50</td>\n",
       "      <td>50</td>\n",
       "      <td>50</td>\n",
       "      <td>1500</td>\n",
       "      <td>0.860539</td>\n",
       "      <td>0.004538</td>\n",
       "      <td>100</td>\n",
       "    </tr>\n",
       "  </tbody>\n",
       "</table>\n",
       "<p>135 rows × 7 columns</p>\n",
       "</div>"
      ],
      "text/plain": [
       "     preprocessing__tags__nmf__n_components  \\\n",
       "0                                        10   \n",
       "1                                        10   \n",
       "2                                        10   \n",
       "3                                        10   \n",
       "4                                        10   \n",
       "..                                      ...   \n",
       "130                                      50   \n",
       "131                                      50   \n",
       "132                                      50   \n",
       "133                                      50   \n",
       "134                                      50   \n",
       "\n",
       "     preprocessing__title__nmf__n_components  rf__max_depth  rf__n_estimators  \\\n",
       "0                                         10             10               500   \n",
       "1                                         10             10              1000   \n",
       "2                                         10             10              1500   \n",
       "3                                         10             15               500   \n",
       "4                                         10             15              1000   \n",
       "..                                       ...            ...               ...   \n",
       "130                                       50             25              1000   \n",
       "131                                       50             25              1500   \n",
       "132                                       50             50               500   \n",
       "133                                       50             50              1000   \n",
       "134                                       50             50              1500   \n",
       "\n",
       "     mean_test_score  std_test_score  n_components  \n",
       "0           0.799260        0.007561            20  \n",
       "1           0.799932        0.007045            20  \n",
       "2           0.799500        0.007165            20  \n",
       "3           0.833165        0.005207            20  \n",
       "4           0.833501        0.004684            20  \n",
       "..               ...             ...           ...  \n",
       "130         0.854247        0.004056           100  \n",
       "131         0.853623        0.003742           100  \n",
       "132         0.860634        0.004582           100  \n",
       "133         0.860394        0.004554           100  \n",
       "134         0.860539        0.004538           100  \n",
       "\n",
       "[135 rows x 7 columns]"
      ]
     },
     "execution_count": 61,
     "metadata": {},
     "output_type": "execute_result"
    }
   ],
   "source": [
    "results = pd.DataFrame(grid_rf.cv_results_[\"params\"])\n",
    "results[\"mean_test_score\"] = grid_rf.cv_results_[\"mean_test_score\"]\n",
    "results[\"std_test_score\"] = grid_rf.cv_results_[\"std_test_score\"]\n",
    "results[\"n_components\"] = (results[\"preprocessing__tags__nmf__n_components\"] +\n",
    "                           results[\"preprocessing__title__nmf__n_components\"])\n",
    "results"
   ]
  },
  {
   "cell_type": "code",
   "execution_count": 68,
   "metadata": {},
   "outputs": [
    {
     "data": {
      "image/png": "[encoded data removed]",
      "text/plain": [
       "<Figure size 432x288 with 1 Axes>"
      ]
     },
     "metadata": {
      "needs_background": "light"
     },
     "output_type": "display_data"
    }
   ],
   "source": [
    "(sns.scatterplot(data=results,\n",
    "                 x=\"n_components\",\n",
    "                 y=\"mean_test_score\",\n",
    "                 hue=\"rf__max_depth\"))\n",
    "plt.show()"
   ]
  },
  {
   "cell_type": "code",
   "execution_count": 69,
   "metadata": {},
   "outputs": [
    {
     "data": {
      "text/plain": [
       "rf__n_estimators\n",
       "500     0.837396\n",
       "1000    0.837490\n",
       "1500    0.837428\n",
       "Name: mean_test_score, dtype: float64"
      ]
     },
     "execution_count": 69,
     "metadata": {},
     "output_type": "execute_result"
    }
   ],
   "source": [
    "results.groupby(\"rf__n_estimators\")[\"mean_test_score\"].mean()"
   ]
  },
  {
   "cell_type": "markdown",
   "metadata": {},
   "source": [
    "Com base nesses resultados um novo experimento será realizado. Focalizando\n",
    "melhor nas features que podem trazer resultado e adicionando novas features\n",
    "para a busca."
   ]
  },
  {
   "cell_type": "code",
   "execution_count": 81,
   "metadata": {},
   "outputs": [
    {
     "name": "stdout",
     "output_type": "stream",
     "text": [
      "Fitting 5 folds for each of 36 candidates, totalling 180 fits\n"
     ]
    },
    {
     "data": {
      "text/plain": [
       "GridSearchCV(cv=5,\n",
       "             estimator=Pipeline(steps=[('preprocessing',\n",
       "                                        FeatureUnion(transformer_list=[('title',\n",
       "                                                                        Pipeline(steps=[('selector',\n",
       "                                                                                         FunctionTransformer(func=<function gen_topic_transformer.<locals>.<lambda> at 0x000001DA9A2950D0>)),\n",
       "                                                                                        ('tfidf',\n",
       "                                                                                         TfidfVectorizer(max_df=0.9,\n",
       "                                                                                                         min_df=10,\n",
       "                                                                                                         preprocessor=<function clean_text at 0x000001DA97640A60>,\n",
       "                                                                                                         tokenizer=<function custo...\n",
       "                                                                        FunctionTransformer(func=<function <lambda> at 0x000001DA9A295E50>))])),\n",
       "                                       ('rf',\n",
       "                                        RandomForestClassifier(random_state=23))]),\n",
       "             param_grid={'preprocessing__tags__nmf__n_components': [10, 25],\n",
       "                         'preprocessing__title__nmf__n_components': [10, 25],\n",
       "                         'rf__max_depth': [15, 20, 25],\n",
       "                         'rf__min_samples_leaf': [0.001, 0.0005, 0.0001],\n",
       "                         'rf__n_estimators': [500]},\n",
       "             return_train_score=True, verbose=1)"
      ]
     },
     "execution_count": 81,
     "metadata": {},
     "output_type": "execute_result"
    }
   ],
   "source": [
    "# criando o grid onde a busca será realizada para encontrar a melhor combinação\n",
    "# de hiperparâmetros estamos fazendo a busca pela quantidade de componentes\n",
    "# pela quantidade de estimadores de uma floresta e pela profundida\n",
    "# quanto maior a profundidadae mais complexa e maior a possibilidade de\n",
    "# sobrespecificar.\n",
    "params_grid = {\"preprocessing__title__nmf__n_components\": [10, 25],\n",
    "               \"preprocessing__tags__nmf__n_components\": [10, 25],\n",
    "               \"rf__n_estimators\": [500],\n",
    "               \"rf__max_depth\": [15, 20, 25],\n",
    "               \"rf__min_samples_leaf\": [0.001, 0.0005, 0.0001]}\n",
    "\n",
    "new_grid_rf = GridSearchCV(pipeline, params_grid, cv=5, verbose=1,\n",
    "                           return_train_score=True)\n",
    "new_grid_rf.fit(df_train, y_train)"
   ]
  },
  {
   "cell_type": "code",
   "execution_count": 82,
   "metadata": {},
   "outputs": [
    {
     "name": "stdout",
     "output_type": "stream",
     "text": [
      "                    precision    recall  f1-score   support\n",
      "\n",
      "              Bebê       0.97      0.93      0.95      3809\n",
      "Bijuterias e Jóias       0.99      0.90      0.94       604\n",
      "         Decoração       0.95      0.97      0.96      5167\n",
      "     Lembrancinhas       0.93      0.99      0.96      8931\n",
      "            Outros       1.00      0.70      0.82       710\n",
      "       Papel e Cia       0.98      0.81      0.89      1602\n",
      "\n",
      "          accuracy                           0.95     20823\n",
      "         macro avg       0.97      0.88      0.92     20823\n",
      "      weighted avg       0.95      0.95      0.95     20823\n",
      "\n"
     ]
    }
   ],
   "source": [
    "# avaliando o melhor modelo utilizando dados de treinamento\n",
    "best_model = new_grid_rf.best_estimator_\n",
    "y_pred = best_model.predict(df_train)\n",
    "print(classification_report(y_true=y_train, y_pred=y_pred))"
   ]
  },
  {
   "cell_type": "code",
   "execution_count": 83,
   "metadata": {},
   "outputs": [
    {
     "data": {
      "text/html": [
       "<div>\n",
       "<style scoped>\n",
       "    .dataframe tbody tr th:only-of-type {\n",
       "        vertical-align: middle;\n",
       "    }\n",
       "\n",
       "    .dataframe tbody tr th {\n",
       "        vertical-align: top;\n",
       "    }\n",
       "\n",
       "    .dataframe thead th {\n",
       "        text-align: right;\n",
       "    }\n",
       "</style>\n",
       "<table border=\"1\" class=\"dataframe\">\n",
       "  <thead>\n",
       "    <tr style=\"text-align: right;\">\n",
       "      <th></th>\n",
       "      <th>preprocessing__tags__nmf__n_components</th>\n",
       "      <th>preprocessing__title__nmf__n_components</th>\n",
       "      <th>rf__max_depth</th>\n",
       "      <th>rf__min_samples_leaf</th>\n",
       "      <th>rf__n_estimators</th>\n",
       "      <th>mean_test_score</th>\n",
       "      <th>std_test_score</th>\n",
       "      <th>n_components</th>\n",
       "    </tr>\n",
       "  </thead>\n",
       "  <tbody>\n",
       "    <tr>\n",
       "      <th>0</th>\n",
       "      <td>10</td>\n",
       "      <td>10</td>\n",
       "      <td>15</td>\n",
       "      <td>0.0010</td>\n",
       "      <td>500</td>\n",
       "      <td>0.807472</td>\n",
       "      <td>0.006019</td>\n",
       "      <td>20</td>\n",
       "    </tr>\n",
       "    <tr>\n",
       "      <th>1</th>\n",
       "      <td>10</td>\n",
       "      <td>10</td>\n",
       "      <td>15</td>\n",
       "      <td>0.0005</td>\n",
       "      <td>500</td>\n",
       "      <td>0.816501</td>\n",
       "      <td>0.005385</td>\n",
       "      <td>20</td>\n",
       "    </tr>\n",
       "    <tr>\n",
       "      <th>2</th>\n",
       "      <td>10</td>\n",
       "      <td>10</td>\n",
       "      <td>15</td>\n",
       "      <td>0.0001</td>\n",
       "      <td>500</td>\n",
       "      <td>0.829707</td>\n",
       "      <td>0.005259</td>\n",
       "      <td>20</td>\n",
       "    </tr>\n",
       "    <tr>\n",
       "      <th>3</th>\n",
       "      <td>10</td>\n",
       "      <td>10</td>\n",
       "      <td>20</td>\n",
       "      <td>0.0010</td>\n",
       "      <td>500</td>\n",
       "      <td>0.808769</td>\n",
       "      <td>0.005692</td>\n",
       "      <td>20</td>\n",
       "    </tr>\n",
       "    <tr>\n",
       "      <th>4</th>\n",
       "      <td>10</td>\n",
       "      <td>10</td>\n",
       "      <td>20</td>\n",
       "      <td>0.0005</td>\n",
       "      <td>500</td>\n",
       "      <td>0.818518</td>\n",
       "      <td>0.005213</td>\n",
       "      <td>20</td>\n",
       "    </tr>\n",
       "  </tbody>\n",
       "</table>\n",
       "</div>"
      ],
      "text/plain": [
       "   preprocessing__tags__nmf__n_components  \\\n",
       "0                                      10   \n",
       "1                                      10   \n",
       "2                                      10   \n",
       "3                                      10   \n",
       "4                                      10   \n",
       "\n",
       "   preprocessing__title__nmf__n_components  rf__max_depth  \\\n",
       "0                                       10             15   \n",
       "1                                       10             15   \n",
       "2                                       10             15   \n",
       "3                                       10             20   \n",
       "4                                       10             20   \n",
       "\n",
       "   rf__min_samples_leaf  rf__n_estimators  mean_test_score  std_test_score  \\\n",
       "0                0.0010               500         0.807472        0.006019   \n",
       "1                0.0005               500         0.816501        0.005385   \n",
       "2                0.0001               500         0.829707        0.005259   \n",
       "3                0.0010               500         0.808769        0.005692   \n",
       "4                0.0005               500         0.818518        0.005213   \n",
       "\n",
       "   n_components  \n",
       "0            20  \n",
       "1            20  \n",
       "2            20  \n",
       "3            20  \n",
       "4            20  "
      ]
     },
     "execution_count": 83,
     "metadata": {},
     "output_type": "execute_result"
    }
   ],
   "source": [
    "results = pd.DataFrame(new_grid_rf.cv_results_[\"params\"])\n",
    "results[\"mean_test_score\"] = new_grid_rf.cv_results_[\"mean_test_score\"]\n",
    "results[\"std_test_score\"] = new_grid_rf.cv_results_[\"std_test_score\"]\n",
    "results[\"n_components\"] = (results[\"preprocessing__tags__nmf__n_components\"] +\n",
    "                           results[\"preprocessing__title__nmf__n_components\"])\n",
    "results.head()"
   ]
  },
  {
   "cell_type": "code",
   "execution_count": 84,
   "metadata": {},
   "outputs": [
    {
     "data": {
      "image/png": "[encoded data removed]",
      "text/plain": [
       "<Figure size 432x288 with 1 Axes>"
      ]
     },
     "metadata": {
      "needs_background": "light"
     },
     "output_type": "display_data"
    }
   ],
   "source": [
    "(sns.scatterplot(data=results,\n",
    "                 x=\"n_components\",\n",
    "                 y=\"mean_test_score\",\n",
    "                 hue=\"rf__max_depth\",\n",
    "                 size=\"rf__min_samples_leaf\",\n",
    "                 alpha=0.6,\n",
    "                 palette=\"viridis\"))\n",
    "plt.show()"
   ]
  },
  {
   "cell_type": "code",
   "execution_count": 102,
   "metadata": {},
   "outputs": [
    {
     "name": "stdout",
     "output_type": "stream",
     "text": [
      "                    precision    recall  f1-score   support\n",
      "\n",
      "              Bebê       0.88      0.79      0.83      1633\n",
      "Bijuterias e Jóias       0.96      0.76      0.85       259\n",
      "         Decoração       0.83      0.91      0.87      2215\n",
      "     Lembrancinhas       0.85      0.96      0.90      3828\n",
      "            Outros       0.85      0.30      0.44       304\n",
      "       Papel e Cia       0.86      0.48      0.61       686\n",
      "\n",
      "          accuracy                           0.85      8925\n",
      "         macro avg       0.87      0.70      0.75      8925\n",
      "      weighted avg       0.85      0.85      0.84      8925\n",
      "\n"
     ]
    }
   ],
   "source": [
    "# avaliando o melhor modelo utilizando dados de teste\n",
    "df_test = pd.read_pickle(\"../data/test_prod.pickle\")\n",
    "y_test = df_test[\"category\"]\n",
    "y_pred = best_model.predict(df_test)\n",
    "print(classification_report(y_true=y_test, y_pred=y_pred))"
   ]
  },
  {
   "cell_type": "code",
   "execution_count": 187,
   "metadata": {},
   "outputs": [],
   "source": [
    "title_nmf_params = best_model.named_steps[\"preprocessing\"].transformer_list[0][1][2].get_params()\n",
    "tags_nmf_params = best_model.named_steps[\"preprocessing\"].transformer_list[1][1][2].get_params()\n",
    "rf_params = best_model.named_steps[\"rf\"].get_params()\n",
    "\n",
    "params_dict = {\"title_nmf\": title_nmf_params,\n",
    "               \"tags_nmf\": tags_nmf_params,\n",
    "               \"rf_category_clf\": rf_params}\n",
    "\n",
    "for name, params in params_dict.items():\n",
    "    file_path = f\"..\\config\\{name}.json\"\n",
    "    with open(file_path, \"w\") as file:\n",
    "        json.dump(params, file, indent=4)"
   ]
  },
  {
   "cell_type": "code",
   "execution_count": 138,
   "metadata": {},
   "outputs": [
    {
     "data": {
      "text/plain": [
       "53"
      ]
     },
     "execution_count": 138,
     "metadata": {},
     "output_type": "execute_result"
    }
   ],
   "source": [
    "base_cols = [\"price\", \"weight\", \"minimum_quantity\"]\n",
    "title_columns = [f\"titles_{n}\"\n",
    "                 for n in range(title_nmf_params[\"n_components\"])]\n",
    "tags_columns = [f\"tags_{n}\"\n",
    "                for n in range(tags_nmf_params[\"n_components\"])]\n",
    "columns = title_columns + tags_columns + base_cols\n",
    "len(columns)"
   ]
  },
  {
   "cell_type": "code",
   "execution_count": 141,
   "metadata": {},
   "outputs": [
    {
     "data": {
      "text/plain": [
       "[]"
      ]
     },
     "execution_count": 141,
     "metadata": {},
     "output_type": "execute_result"
    },
    {
     "data": {
      "image/png": "[encoded data removed]",
      "text/plain": [
       "<Figure size 720x360 with 1 Axes>"
      ]
     },
     "metadata": {
      "needs_background": "light"
     },
     "output_type": "display_data"
    }
   ],
   "source": [
    "best_model.named_steps[\"rf\"].feature_importances_\n",
    "importances = pd.Series(best_model.named_steps[\"rf\"].feature_importances_,\n",
    "                        index=columns)\n",
    "top_15_importances = importances.sort_values().tail(15)\n",
    "top_15_importances.plot(kind=\"barh\", figsize=(10, 5))\n",
    "plt.plot()"
   ]
  },
  {
   "cell_type": "code",
   "execution_count": 181,
   "metadata": {},
   "outputs": [],
   "source": [
    "top_tags_ids = (top_15_importances.\n",
    "                index[top_15_importances.index.str.contains(\"tags\")].\n",
    "                str.replace(\"tags_\", \"\").tolist())\n",
    "top_title_ids = (top_15_importances.\n",
    "                 index[top_15_importances.index.str.contains(\"title\")].\n",
    "                 str.replace(\"titles_\", \"\").tolist())"
   ]
  },
  {
   "cell_type": "code",
   "execution_count": 172,
   "metadata": {},
   "outputs": [],
   "source": [
    "topic_pipe = {\n",
    "    \"title\": {\n",
    "        \"tfidf\": best_model.named_steps[\"preprocessing\"].transformer_list[0][1][1],\n",
    "        \"nmf\": best_model.named_steps[\"preprocessing\"].transformer_list[0][1][2],\n",
    "    },\n",
    "    \"tags\": {\n",
    "        \"tfidf\": best_model.named_steps[\"preprocessing\"].transformer_list[1][1][1],\n",
    "        \"nmf\": best_model.named_steps[\"preprocessing\"].transformer_list[0][1][2],\n",
    "    }\n",
    "}"
   ]
  },
  {
   "cell_type": "code",
   "execution_count": 174,
   "metadata": {},
   "outputs": [],
   "source": [
    "def show_top_words(topic_model, tfidf_vec, components, n_words=10):\n",
    "    \"\"\"Visualização dos top tokens por componente do NMF\n",
    "\n",
    "    Args:\n",
    "        topic_model (_type_): modelo NMF treinado\n",
    "        tfidf_vec (_type_): objeto vetorizador TF-IDF\n",
    "        n_words (int, optional): número de top tokens. Defaults to 10.\n",
    "    \"\"\"\n",
    "    for i in components:\n",
    "        component = topic_model.components_[int(i)]\n",
    "        top_words_ids = list(component.argsort()[:-n_words - 1: -1])\n",
    "        top_words_list = tfidf_vec.get_feature_names_out()[top_words_ids]\n",
    "        print(f\"Topic {i} - {' | '.join(top_words_list)}\")"
   ]
  },
  {
   "cell_type": "code",
   "execution_count": 182,
   "metadata": {},
   "outputs": [
    {
     "name": "stdout",
     "output_type": "stream",
     "text": [
      "Topic 17 - matern | said | bols | menin | saqu | pec | urs | mal | mochil | enfeit\n",
      "Topic 18 - cas | canec | padr | noiv | madr | convit | alianc | necessa | bem | par\n",
      "Topic 10 - decor | plac | espelh | garraf | sal | acril | quart | aluguel | vas | mold\n",
      "Topic 23 - bebe | mant | menin | body | quart | higien | album | sapat | casac | nom\n",
      "Topic 21 - lembranc | nasc | aromatiz | aniversari | profes | matern | format | urs | minni | sabonet\n",
      "Topic 0 - person | canec | canet | lat | mochil | necessa | acril | chinel | fest | tac\n"
     ]
    }
   ],
   "source": [
    "show_top_words(topic_pipe[\"title\"][\"nmf\"], topic_pipe[\"title\"][\"tfidf\"], top_title_ids)"
   ]
  },
  {
   "cell_type": "code",
   "execution_count": 179,
   "metadata": {},
   "outputs": [
    {
     "name": "stdout",
     "output_type": "stream",
     "text": [
      "Topic 9 - nom | ped | digit | gustav | bich | li | faz | gal | cadern | lim\n",
      "Topic 23 - barb | led | listr | bernard | paj | geometr | algoda | plann | cap | marc\n",
      "Topic 8 - brun | math | lol | coleco | adult | dat | gab | bann | ann | ombr\n",
      "Topic 10 - cour | nen | dossel | fl | pijam | adult | paj | amand | saqu | lun\n",
      "Topic 6 - hel | geometr | bat | mochil | noiv | espac | bibl | permanent | bar | paul\n",
      "Topic 22 - alv | caf | marinh | mud | espac | raf | sal | permanent | brinqued | gravat\n"
     ]
    }
   ],
   "source": [
    "show_top_words(topic_pipe[\"tags\"][\"nmf\"], topic_pipe[\"tags\"][\"tfidf\"], top_tags_ids)"
   ]
  }
 ],
 "metadata": {
  "interpreter": {
   "hash": "46c0bb3b8e63a95c204f7a1a105596c1673bb87538bedee3505b8c3e2a065390"
  },
  "kernelspec": {
   "display_name": "Python 3.9.6 ('product_recommender-qoUF0oDD')",
   "language": "python",
   "name": "python3"
  },
  "language_info": {
   "codemirror_mode": {
    "name": "ipython",
    "version": 3
   },
   "file_extension": ".py",
   "mimetype": "text/x-python",
   "name": "python",
   "nbconvert_exporter": "python",
   "pygments_lexer": "ipython3",
   "version": "3.9.6"
  },
  "orig_nbformat": 4
 },
 "nbformat": 4,
 "nbformat_minor": 2
}
