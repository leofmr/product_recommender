{
 "cells": [
  {
   "cell_type": "markdown",
   "metadata": {},
   "source": [
    "# Introdução\n",
    "Nesse notebook, o que a hiperaparametrização encontrada na exploração do modelo\n",
    "vai ser utilizada para gerar o modelo final de categorização de produtos. O\n",
    "modelo vai ser salvo para futura utilização pelo script principal do projeto.\n",
    "\n",
    "# Imports"
   ]
  },
  {
   "cell_type": "code",
   "execution_count": 65,
   "metadata": {},
   "outputs": [],
   "source": [
    "import pandas as pd\n",
    "import matplotlib.pyplot as plt\n",
    "import json\n",
    "import joblib\n",
    "import ast\n",
    "\n",
    "# preprocessamento nlp e modelagem de tópicos\n",
    "from sklearn.feature_extraction.text import TfidfVectorizer\n",
    "from sklearn.decomposition import NMF\n",
    "# modelagem de árvores\n",
    "from sklearn.ensemble import RandomForestClassifier\n",
    "# criação de pipelines\n",
    "from sklearn.preprocessing import FunctionTransformer\n",
    "from sklearn.pipeline import Pipeline, FeatureUnion"
   ]
  },
  {
   "cell_type": "code",
   "execution_count": 2,
   "metadata": {},
   "outputs": [],
   "source": [
    "from pathlib import Path\n",
    "import sys\n",
    "\n",
    "main_path = str(Path().resolve().parent)\n",
    "sys.path.append(main_path)"
   ]
  },
  {
   "cell_type": "code",
   "execution_count": 3,
   "metadata": {},
   "outputs": [],
   "source": [
    "# carregando as funções de preprocessamento nlp do notebook de\n",
    "# análise de produto, essas funções foram adicionadas nesse modulo\n",
    "from src import nlp_preprocessing"
   ]
  },
  {
   "cell_type": "markdown",
   "metadata": {},
   "source": [
    "# Treinando o modelo\n",
    "Carregando os dados, para otimizar a modelagem todos os dados serão utilizados"
   ]
  },
  {
   "cell_type": "code",
   "execution_count": 5,
   "metadata": {},
   "outputs": [
    {
     "data": {
      "text/html": [
       "<div>\n",
       "<style scoped>\n",
       "    .dataframe tbody tr th:only-of-type {\n",
       "        vertical-align: middle;\n",
       "    }\n",
       "\n",
       "    .dataframe tbody tr th {\n",
       "        vertical-align: top;\n",
       "    }\n",
       "\n",
       "    .dataframe thead th {\n",
       "        text-align: right;\n",
       "    }\n",
       "</style>\n",
       "<table border=\"1\" class=\"dataframe\">\n",
       "  <thead>\n",
       "    <tr style=\"text-align: right;\">\n",
       "      <th></th>\n",
       "      <th>seller_id</th>\n",
       "      <th>title</th>\n",
       "      <th>concatenated_tags</th>\n",
       "      <th>creation_date</th>\n",
       "      <th>price</th>\n",
       "      <th>weight</th>\n",
       "      <th>express_delivery</th>\n",
       "      <th>minimum_quantity</th>\n",
       "      <th>view_counts</th>\n",
       "      <th>order_counts</th>\n",
       "      <th>category</th>\n",
       "    </tr>\n",
       "    <tr>\n",
       "      <th>product_id</th>\n",
       "      <th></th>\n",
       "      <th></th>\n",
       "      <th></th>\n",
       "      <th></th>\n",
       "      <th></th>\n",
       "      <th></th>\n",
       "      <th></th>\n",
       "      <th></th>\n",
       "      <th></th>\n",
       "      <th></th>\n",
       "      <th></th>\n",
       "    </tr>\n",
       "  </thead>\n",
       "  <tbody>\n",
       "    <tr>\n",
       "      <th>7010568</th>\n",
       "      <td>761717</td>\n",
       "      <td>Caneta Personalizada Barquinho</td>\n",
       "      <td>caneta personalizada canetas personalizadas pa...</td>\n",
       "      <td>2017-07-12 16:29:08</td>\n",
       "      <td>12.260</td>\n",
       "      <td>15.0</td>\n",
       "      <td>0</td>\n",
       "      <td>30.0</td>\n",
       "      <td>116.0</td>\n",
       "      <td>11.0</td>\n",
       "      <td>Lembrancinhas</td>\n",
       "    </tr>\n",
       "    <tr>\n",
       "      <th>6957815</th>\n",
       "      <td>3708390</td>\n",
       "      <td>Toalha Bordada Madrinha de Consagração</td>\n",
       "      <td>toalhas lavabo lembrancinhas batizado toalha c...</td>\n",
       "      <td>2016-12-08 10:40:28</td>\n",
       "      <td>28.490</td>\n",
       "      <td>7.5</td>\n",
       "      <td>1</td>\n",
       "      <td>4.5</td>\n",
       "      <td>463.0</td>\n",
       "      <td>8.5</td>\n",
       "      <td>Lembrancinhas</td>\n",
       "    </tr>\n",
       "    <tr>\n",
       "      <th>10378129</th>\n",
       "      <td>8225602</td>\n",
       "      <td>Colar Best Friends Folheado 4 Partes.</td>\n",
       "      <td>biju best friends mirella flavia gabi</td>\n",
       "      <td>2017-01-24 14:32:48</td>\n",
       "      <td>40.290</td>\n",
       "      <td>13.0</td>\n",
       "      <td>0</td>\n",
       "      <td>0.0</td>\n",
       "      <td>9183.0</td>\n",
       "      <td>157.0</td>\n",
       "      <td>Bijuterias e Jóias</td>\n",
       "    </tr>\n",
       "    <tr>\n",
       "      <th>4658013</th>\n",
       "      <td>7043431</td>\n",
       "      <td>Azulejo Certificado Melhor Pai do Mundo</td>\n",
       "      <td>dia pais azulejos</td>\n",
       "      <td>2019-06-14 16:09:23</td>\n",
       "      <td>39.220</td>\n",
       "      <td>338.0</td>\n",
       "      <td>0</td>\n",
       "      <td>1.0</td>\n",
       "      <td>77.5</td>\n",
       "      <td>12.0</td>\n",
       "      <td>Decoração</td>\n",
       "    </tr>\n",
       "    <tr>\n",
       "      <th>487440</th>\n",
       "      <td>1408350</td>\n",
       "      <td>Mochila saco bailarina soldadinho de chumbo</td>\n",
       "      <td>sacolinhas festa bailarina lembrancinhas baila...</td>\n",
       "      <td>2018-02-21 16:39:27</td>\n",
       "      <td>13.175</td>\n",
       "      <td>12.5</td>\n",
       "      <td>1</td>\n",
       "      <td>32.0</td>\n",
       "      <td>1484.5</td>\n",
       "      <td>0.0</td>\n",
       "      <td>Lembrancinhas</td>\n",
       "    </tr>\n",
       "  </tbody>\n",
       "</table>\n",
       "</div>"
      ],
      "text/plain": [
       "            seller_id                                        title  \\\n",
       "product_id                                                           \n",
       "7010568        761717               Caneta Personalizada Barquinho   \n",
       "6957815       3708390       Toalha Bordada Madrinha de Consagração   \n",
       "10378129      8225602        Colar Best Friends Folheado 4 Partes.   \n",
       "4658013       7043431      Azulejo Certificado Melhor Pai do Mundo   \n",
       "487440        1408350  Mochila saco bailarina soldadinho de chumbo   \n",
       "\n",
       "                                            concatenated_tags  \\\n",
       "product_id                                                      \n",
       "7010568     caneta personalizada canetas personalizadas pa...   \n",
       "6957815     toalhas lavabo lembrancinhas batizado toalha c...   \n",
       "10378129                biju best friends mirella flavia gabi   \n",
       "4658013                                     dia pais azulejos   \n",
       "487440      sacolinhas festa bailarina lembrancinhas baila...   \n",
       "\n",
       "                 creation_date   price  weight  express_delivery  \\\n",
       "product_id                                                         \n",
       "7010568    2017-07-12 16:29:08  12.260    15.0                 0   \n",
       "6957815    2016-12-08 10:40:28  28.490     7.5                 1   \n",
       "10378129   2017-01-24 14:32:48  40.290    13.0                 0   \n",
       "4658013    2019-06-14 16:09:23  39.220   338.0                 0   \n",
       "487440     2018-02-21 16:39:27  13.175    12.5                 1   \n",
       "\n",
       "            minimum_quantity  view_counts  order_counts            category  \n",
       "product_id                                                                   \n",
       "7010568                 30.0        116.0          11.0       Lembrancinhas  \n",
       "6957815                  4.5        463.0           8.5       Lembrancinhas  \n",
       "10378129                 0.0       9183.0         157.0  Bijuterias e Jóias  \n",
       "4658013                  1.0         77.5          12.0           Decoração  \n",
       "487440                  32.0       1484.5           0.0       Lembrancinhas  "
      ]
     },
     "execution_count": 5,
     "metadata": {},
     "output_type": "execute_result"
    }
   ],
   "source": [
    "df = pd.concat([pd.read_pickle(\"../data/train_prod.pickle\"),\n",
    "                pd.read_pickle(\"../data/test_prod.pickle\")])\n",
    "df.head()"
   ]
  },
  {
   "cell_type": "markdown",
   "metadata": {},
   "source": [
    "Carregando os parâmetros para a modelagem"
   ]
  },
  {
   "cell_type": "code",
   "execution_count": 11,
   "metadata": {},
   "outputs": [],
   "source": [
    "with open(\"../config/rf_category_clf.json\", \"r\") as file:\n",
    "    rf_params = json.load(file)\n",
    "\n",
    "with open(\"../config/tags_nmf.json\", \"r\") as file:\n",
    "    tags_nmf_params = json.load(file)\n",
    "    \n",
    "with open(\"../config/title_nmf.json\", \"r\") as file:\n",
    "    title_nmf_params = json.load(file)"
   ]
  },
  {
   "cell_type": "markdown",
   "metadata": {},
   "source": [
    "gerando as funções de seleção de dados"
   ]
  },
  {
   "cell_type": "code",
   "execution_count": 9,
   "metadata": {},
   "outputs": [],
   "source": [
    "base_features = [\"price\", \"weight\", \"minimum_quantity\"]\n",
    "def select_base_features(X):\n",
    "    return X[base_features]"
   ]
  },
  {
   "cell_type": "code",
   "execution_count": 27,
   "metadata": {},
   "outputs": [],
   "source": [
    "def select_txt(X, col):\n",
    "        return X[col]"
   ]
  },
  {
   "cell_type": "markdown",
   "metadata": {},
   "source": [
    "criando a função para fazer a modelagem de tópicos (uma modificação para\n",
    "aceitar o dicionário de configuração do NMF)."
   ]
  },
  {
   "cell_type": "code",
   "execution_count": 28,
   "metadata": {},
   "outputs": [],
   "source": [
    "def gen_topic_transformer(column_name: str, nmf_config: dict) -> Pipeline:\n",
    "    \"\"\"Gera um pipeline de geração de tópicos NMF a partir de um nome de coluna\n",
    "\n",
    "    Args:\n",
    "        column_name (str): nome da feature utilizada\n",
    "\n",
    "    Returns:\n",
    "        Pipeline: pipeline de tópicos NMF\n",
    "    \"\"\"\n",
    "    \n",
    "    return Pipeline(steps=[\n",
    "        (\"selector\", FunctionTransformer(select_txt, kw_args={\"col\": column_name})),\n",
    "        (\"tfidf\", TfidfVectorizer(tokenizer=nlp_preprocessing.custom_tokenizer,\n",
    "                                  preprocessor=nlp_preprocessing.clean_text,\n",
    "                                  min_df=10,\n",
    "                                  max_df=0.9)),\n",
    "        (\"nmf\", NMF(**nmf_config))\n",
    "    ])"
   ]
  },
  {
   "cell_type": "markdown",
   "metadata": {},
   "source": [
    "Agora vamos criar o pipeline e treinar o modelo"
   ]
  },
  {
   "cell_type": "code",
   "execution_count": 29,
   "metadata": {},
   "outputs": [],
   "source": [
    "feature_pipelines = FeatureUnion([\n",
    "    (\"title\", gen_topic_transformer(\"title\", title_nmf_params)),\n",
    "    (\"tags\", gen_topic_transformer(\"concatenated_tags\", tags_nmf_params)),\n",
    "    (\"base_selector\", FunctionTransformer(select_base_features))\n",
    "])\n",
    "\n",
    "pipeline = Pipeline([\n",
    "    (\"preprocessing\", feature_pipelines),\n",
    "    (\"rf\", RandomForestClassifier(**rf_params))\n",
    "])"
   ]
  },
  {
   "cell_type": "code",
   "execution_count": 30,
   "metadata": {},
   "outputs": [
    {
     "data": {
      "text/plain": [
       "Pipeline(steps=[('preprocessing',\n",
       "                 FeatureUnion(transformer_list=[('title',\n",
       "                                                 Pipeline(steps=[('selector',\n",
       "                                                                  FunctionTransformer(func=<function select_txt at 0x0000022EBB5A4B80>,\n",
       "                                                                                      kw_args={'col': 'title'})),\n",
       "                                                                 ('tfidf',\n",
       "                                                                  TfidfVectorizer(max_df=0.9,\n",
       "                                                                                  min_df=10,\n",
       "                                                                                  preprocessor=<function clean_text at 0x0000022E888BB1F0>,\n",
       "                                                                                  tokenizer=<function custom_tokenizer at 0x0000022EBA57B9D0>)...\n",
       "                                                                                  preprocessor=<function clean_text at 0x0000022E888BB1F0>,\n",
       "                                                                                  tokenizer=<function custom_tokenizer at 0x0000022EBA57B9D0>)),\n",
       "                                                                 ('nmf',\n",
       "                                                                  NMF(init='random',\n",
       "                                                                      max_iter=1000,\n",
       "                                                                      n_components=25,\n",
       "                                                                      random_state=23))])),\n",
       "                                                ('base_selector',\n",
       "                                                 FunctionTransformer(func=<function select_base_features at 0x0000022EBBEC3B80>))])),\n",
       "                ('rf',\n",
       "                 RandomForestClassifier(max_depth=25, min_samples_leaf=0.0001,\n",
       "                                        n_estimators=500, random_state=23))])"
      ]
     },
     "execution_count": 30,
     "metadata": {},
     "output_type": "execute_result"
    }
   ],
   "source": [
    "pipeline.fit(df, df[\"category\"])"
   ]
  },
  {
   "cell_type": "markdown",
   "metadata": {},
   "source": [
    "# Analisando os resultados\n",
    "\n",
    "Para analisar os resultados vamos identificar as top-15 features mais\n",
    "importantes. Em seguida, das features de tópicos entre as mais importantes,\n",
    "veremos quais os tokens mais importantes."
   ]
  },
  {
   "cell_type": "code",
   "execution_count": 31,
   "metadata": {},
   "outputs": [
    {
     "data": {
      "text/plain": [
       "53"
      ]
     },
     "execution_count": 31,
     "metadata": {},
     "output_type": "execute_result"
    }
   ],
   "source": [
    "title_columns = [f\"titles_{n}\"\n",
    "                 for n in range(title_nmf_params[\"n_components\"])]\n",
    "tags_columns = [f\"tags_{n}\"\n",
    "                for n in range(tags_nmf_params[\"n_components\"])]\n",
    "columns = title_columns + tags_columns + base_features\n",
    "len(columns)"
   ]
  },
  {
   "cell_type": "code",
   "execution_count": 32,
   "metadata": {},
   "outputs": [
    {
     "data": {
      "text/plain": [
       "[]"
      ]
     },
     "execution_count": 32,
     "metadata": {},
     "output_type": "execute_result"
    },
    {
     "data": {
      "image/png": "[encoded data removed]",
      "text/plain": [
       "<Figure size 720x360 with 1 Axes>"
      ]
     },
     "metadata": {
      "needs_background": "light"
     },
     "output_type": "display_data"
    }
   ],
   "source": [
    "pipeline.named_steps[\"rf\"].feature_importances_\n",
    "importances = pd.Series(pipeline.named_steps[\"rf\"].feature_importances_,\n",
    "                        index=columns)\n",
    "top_15_importances = importances.sort_values().tail(15)\n",
    "top_15_importances.plot(kind=\"barh\", figsize=(10, 5))\n",
    "plt.plot()"
   ]
  },
  {
   "cell_type": "markdown",
   "metadata": {},
   "source": [
    "Vemos que o preço e a quantidade mínima sao das duas features mais importantes."
   ]
  },
  {
   "cell_type": "code",
   "execution_count": 33,
   "metadata": {},
   "outputs": [],
   "source": [
    "top_tags_ids = (top_15_importances.\n",
    "                index[top_15_importances.index.str.contains(\"tags\")].\n",
    "                str.replace(\"tags_\", \"\").tolist())\n",
    "top_title_ids = (top_15_importances.\n",
    "                 index[top_15_importances.index.str.contains(\"title\")].\n",
    "                 str.replace(\"titles_\", \"\").tolist())"
   ]
  },
  {
   "cell_type": "code",
   "execution_count": 34,
   "metadata": {},
   "outputs": [],
   "source": [
    "topic_pipe = {\n",
    "    \"title\": {\n",
    "        \"tfidf\": pipeline.named_steps[\"preprocessing\"].transformer_list[0][1][1],\n",
    "        \"nmf\": pipeline.named_steps[\"preprocessing\"].transformer_list[0][1][2],\n",
    "    },\n",
    "    \"tags\": {\n",
    "        \"tfidf\": pipeline.named_steps[\"preprocessing\"].transformer_list[1][1][1],\n",
    "        \"nmf\": pipeline.named_steps[\"preprocessing\"].transformer_list[0][1][2],\n",
    "    }\n",
    "}"
   ]
  },
  {
   "cell_type": "code",
   "execution_count": 35,
   "metadata": {},
   "outputs": [],
   "source": [
    "def show_top_words(topic_model, tfidf_vec, components, n_words=10):\n",
    "    \"\"\"Visualização dos top tokens por componente do NMF\n",
    "\n",
    "    Args:\n",
    "        topic_model (_type_): modelo NMF treinado\n",
    "        tfidf_vec (_type_): objeto vetorizador TF-IDF\n",
    "        n_words (int, optional): número de top tokens. Defaults to 10.\n",
    "    \"\"\"\n",
    "    for i in components:\n",
    "        component = topic_model.components_[int(i)]\n",
    "        top_words_ids = list(component.argsort()[:-n_words - 1: -1])\n",
    "        top_words_list = tfidf_vec.get_feature_names_out()[top_words_ids]\n",
    "        print(f\"Topic {i} - {' | '.join(top_words_list)}\")"
   ]
  },
  {
   "cell_type": "markdown",
   "metadata": {},
   "source": [
    "Para cada tipo de tópico, a ordem está do menos importante para o mais importante.\n",
    "Os tópicos de titulo são aparentemente mais fáceis de identificar. O tópico 2 parece\n",
    "ser de lembranças, o tópico 0 de papelatira, o 1 e 6 parecem dividios entre bebe e\n",
    "lembranças. O tópico 24 e o 23 aparentão ser relacionados a decoração."
   ]
  },
  {
   "cell_type": "code",
   "execution_count": 36,
   "metadata": {},
   "outputs": [
    {
     "name": "stdout",
     "output_type": "stream",
     "text": [
      "Topic 24 - quadr | abstrat | mold | sal | fras | namor | fot | pint | tel | casal\n",
      "Topic 23 - decor | plac | garraf | mdf | espelh | sal | acril | quart | aluguel | letr\n",
      "Topic 14 - cas | padr | noiv | canec | madr | necessa | convit | alianc | bem | chinel\n",
      "Topic 6 - matern | said | saqu | urs | mal | enfeit | organiz | vermelh | sac | vest\n",
      "Topic 1 - bebe | cha | mant | revel | lat | sapat | album | higien | convit | quart\n",
      "Topic 0 - person | canec | canet | lat | necessa | mochil | acril | bloq | fot | tac\n",
      "Topic 2 - lembranc | nasc | cha | aromatiz | aniversari | profes | format | sabonet | unicorni | prim\n"
     ]
    }
   ],
   "source": [
    "show_top_words(topic_pipe[\"title\"][\"nmf\"], topic_pipe[\"title\"][\"tfidf\"], top_title_ids)"
   ]
  },
  {
   "cell_type": "markdown",
   "metadata": {},
   "source": [
    "Já os tópicos de tags, não são tão fáceis de se reconhecer. Analisando\n",
    "superficialmente cada um deles não é claro qual tópico cada um pertence.\n",
    "Talvez esses tópicos são importantes por capturarem padrões que estão\n",
    "relacionadas às categorias mais genéricas como a de outros e a de papelaria."
   ]
  },
  {
   "cell_type": "code",
   "execution_count": 37,
   "metadata": {},
   "outputs": [
    {
     "name": "stdout",
     "output_type": "stream",
     "text": [
      "Topic 17 - mask | masculin | adesiv | gess | opco | espec | escritori | cervej | cadu | pente\n",
      "Topic 2 - higien | luis | capuz | aparec | anel | nom | estud | pe | relogi | ninh\n",
      "Topic 12 - bent | menu | lanc | rebec | lig | isaqu | jennef | pro | banh | alcool\n",
      "Topic 1 - banh | capuz | juju | par | hei | person | alc | gab | class | opco\n",
      "Topic 3 - almof | buqu | retr | encomend | boto | mal | miol | monstr | amamentaca | giratori\n"
     ]
    }
   ],
   "source": [
    "show_top_words(topic_pipe[\"tags\"][\"nmf\"], topic_pipe[\"tags\"][\"tfidf\"], top_tags_ids)"
   ]
  },
  {
   "cell_type": "markdown",
   "metadata": {},
   "source": [
    "salvando o modelo para poder utilizá-lo no script principal"
   ]
  },
  {
   "cell_type": "code",
   "execution_count": 72,
   "metadata": {},
   "outputs": [
    {
     "data": {
      "text/plain": [
       "['../assets/category_rf_clf_pipeline.joblib']"
      ]
     },
     "execution_count": 72,
     "metadata": {},
     "output_type": "execute_result"
    }
   ],
   "source": [
    "joblib.dump(pipeline, \"../assets/category_rf_clf_pipeline.joblib\", compress=5)"
   ]
  },
  {
   "cell_type": "markdown",
   "metadata": {},
   "source": [
    "# Teste do modelo\n",
    "\n",
    "Testando o carregamento e a utilização do modelo como deve ser utilizado com\n",
    "a tag `--category`. Nesse contexto, devemos ser capaz de carregar o modelo,\n",
    "parsear um string para dicionário, transformar esse dicionário em um dataframe\n",
    "e em seguida utilizar esse dataframe como input para obter as previsões. Para\n",
    "assegurar que o modelo vai funcionar podemos inclusive desenvolver uma\n",
    "funcionalidade que irá testar o string fornecido para validar se ele vai poder\n",
    "ser utilizado para a previsão."
   ]
  },
  {
   "cell_type": "code",
   "execution_count": 73,
   "metadata": {},
   "outputs": [],
   "source": [
    "loaded_model = joblib.load(\"../assets/category_rf_clf_pipeline.joblib\")"
   ]
  },
  {
   "cell_type": "code",
   "execution_count": 74,
   "metadata": {},
   "outputs": [],
   "source": [
    "str_dict = \"{'title': 'Saída de maternidade masculino', 'concatenated_tags': 'bebe menino maternidade roupa', 'price': 70, 'weight': 30, 'minimum_quantity': 1}\"\n",
    "x = ast.literal_eval(str_dict)\n",
    "x_df = pd.Series(x).to_frame().T"
   ]
  },
  {
   "cell_type": "code",
   "execution_count": 75,
   "metadata": {},
   "outputs": [
    {
     "data": {
      "text/plain": [
       "'Bebê'"
      ]
     },
     "execution_count": 75,
     "metadata": {},
     "output_type": "execute_result"
    }
   ],
   "source": [
    "loaded_model.predict(x_df)[0]"
   ]
  }
 ],
 "metadata": {
  "interpreter": {
   "hash": "46c0bb3b8e63a95c204f7a1a105596c1673bb87538bedee3505b8c3e2a065390"
  },
  "kernelspec": {
   "display_name": "Python 3.9.6 ('product_recommender-qoUF0oDD')",
   "language": "python",
   "name": "python3"
  },
  "language_info": {
   "codemirror_mode": {
    "name": "ipython",
    "version": 3
   },
   "file_extension": ".py",
   "mimetype": "text/x-python",
   "name": "python",
   "nbconvert_exporter": "python",
   "pygments_lexer": "ipython3",
   "version": "3.9.6"
  },
  "orig_nbformat": 4
 },
 "nbformat": 4,
 "nbformat_minor": 2
}
