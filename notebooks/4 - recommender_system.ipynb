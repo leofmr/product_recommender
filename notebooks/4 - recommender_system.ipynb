{
 "cells": [
  {
   "cell_type": "code",
   "execution_count": 1,
   "metadata": {},
   "outputs": [],
   "source": [
    "import pandas as pd\n",
    "import numpy as np\n",
    "import matplotlib.pyplot as plt\n",
    "import Levenshtein\n",
    "import joblib\n",
    "from scipy import stats"
   ]
  },
  {
   "cell_type": "code",
   "execution_count": 2,
   "metadata": {},
   "outputs": [],
   "source": [
    "from pathlib import Path\n",
    "import sys\n",
    "\n",
    "main_path = str(Path().resolve().parent)\n",
    "sys.path.append(main_path)"
   ]
  },
  {
   "cell_type": "code",
   "execution_count": 3,
   "metadata": {},
   "outputs": [],
   "source": [
    "# carregando as funções de preprocessamento nlp do notebook de\n",
    "# análise de produto, essas funções foram adicionadas nesse modulo\n",
    "from src import nlp_preprocessing"
   ]
  },
  {
   "cell_type": "code",
   "execution_count": 4,
   "metadata": {},
   "outputs": [
    {
     "data": {
      "text/html": [
       "<div>\n",
       "<style scoped>\n",
       "    .dataframe tbody tr th:only-of-type {\n",
       "        vertical-align: middle;\n",
       "    }\n",
       "\n",
       "    .dataframe tbody tr th {\n",
       "        vertical-align: top;\n",
       "    }\n",
       "\n",
       "    .dataframe thead th {\n",
       "        text-align: right;\n",
       "    }\n",
       "</style>\n",
       "<table border=\"1\" class=\"dataframe\">\n",
       "  <thead>\n",
       "    <tr style=\"text-align: right;\">\n",
       "      <th></th>\n",
       "      <th>product_id</th>\n",
       "      <th>seller_id</th>\n",
       "      <th>query</th>\n",
       "      <th>search_page</th>\n",
       "      <th>position</th>\n",
       "      <th>title</th>\n",
       "      <th>concatenated_tags</th>\n",
       "      <th>creation_date</th>\n",
       "      <th>price</th>\n",
       "      <th>weight</th>\n",
       "      <th>express_delivery</th>\n",
       "      <th>minimum_quantity</th>\n",
       "      <th>view_counts</th>\n",
       "      <th>order_counts</th>\n",
       "      <th>category</th>\n",
       "    </tr>\n",
       "  </thead>\n",
       "  <tbody>\n",
       "    <tr>\n",
       "      <th>423</th>\n",
       "      <td>14710443</td>\n",
       "      <td>15837</td>\n",
       "      <td>trocador de comoda</td>\n",
       "      <td>1</td>\n",
       "      <td>3</td>\n",
       "      <td>trocador de comoda reto</td>\n",
       "      <td>moveis trocador comoda enxoval henrique</td>\n",
       "      <td>2017-08-24 15:59:44</td>\n",
       "      <td>130.50000</td>\n",
       "      <td>609.0</td>\n",
       "      <td>1</td>\n",
       "      <td>1</td>\n",
       "      <td>126</td>\n",
       "      <td>7</td>\n",
       "      <td>Bebê</td>\n",
       "    </tr>\n",
       "    <tr>\n",
       "      <th>11878</th>\n",
       "      <td>5013802</td>\n",
       "      <td>303463</td>\n",
       "      <td>necessaire box futebol</td>\n",
       "      <td>1</td>\n",
       "      <td>19</td>\n",
       "      <td>Necessaire box masculina personalizada Dia dos...</td>\n",
       "      <td>dia pais</td>\n",
       "      <td>2019-07-21 16:07:32</td>\n",
       "      <td>28.36000</td>\n",
       "      <td>81.0</td>\n",
       "      <td>1</td>\n",
       "      <td>8</td>\n",
       "      <td>98</td>\n",
       "      <td>15</td>\n",
       "      <td>Lembrancinhas</td>\n",
       "    </tr>\n",
       "    <tr>\n",
       "      <th>34479</th>\n",
       "      <td>8000979</td>\n",
       "      <td>3637678</td>\n",
       "      <td>lembrancinhas de eva para igreja</td>\n",
       "      <td>1</td>\n",
       "      <td>33</td>\n",
       "      <td>Mini Porta-retrato com mensagem Louvarei ao Se...</td>\n",
       "      <td>festividades religiosas/igreja</td>\n",
       "      <td>2018-09-08 18:38:22</td>\n",
       "      <td>12.15000</td>\n",
       "      <td>8.0</td>\n",
       "      <td>1</td>\n",
       "      <td>10</td>\n",
       "      <td>355</td>\n",
       "      <td>1</td>\n",
       "      <td>Lembrancinhas</td>\n",
       "    </tr>\n",
       "    <tr>\n",
       "      <th>8489</th>\n",
       "      <td>4875844</td>\n",
       "      <td>5965170</td>\n",
       "      <td>almofada para cadeira</td>\n",
       "      <td>1</td>\n",
       "      <td>0</td>\n",
       "      <td>Almofada Para Cadeira De Balanço Do Papai</td>\n",
       "      <td>almofada cadeira balanco</td>\n",
       "      <td>2018-05-13 17:55:56</td>\n",
       "      <td>169.81001</td>\n",
       "      <td>6.0</td>\n",
       "      <td>1</td>\n",
       "      <td>1</td>\n",
       "      <td>186</td>\n",
       "      <td>0</td>\n",
       "      <td>Decoração</td>\n",
       "    </tr>\n",
       "    <tr>\n",
       "      <th>31176</th>\n",
       "      <td>6285211</td>\n",
       "      <td>7327649</td>\n",
       "      <td>quanto custa caneca personalizada</td>\n",
       "      <td>1</td>\n",
       "      <td>0</td>\n",
       "      <td>Caneca personalizada</td>\n",
       "      <td>caneca personalizada caneca lembrancinhas mono...</td>\n",
       "      <td>2017-08-20 18:59:02</td>\n",
       "      <td>17.50000</td>\n",
       "      <td>9.0</td>\n",
       "      <td>1</td>\n",
       "      <td>4</td>\n",
       "      <td>733</td>\n",
       "      <td>0</td>\n",
       "      <td>Lembrancinhas</td>\n",
       "    </tr>\n",
       "  </tbody>\n",
       "</table>\n",
       "</div>"
      ],
      "text/plain": [
       "       product_id  seller_id                              query  search_page  \\\n",
       "423      14710443      15837                 trocador de comoda            1   \n",
       "11878     5013802     303463             necessaire box futebol            1   \n",
       "34479     8000979    3637678   lembrancinhas de eva para igreja            1   \n",
       "8489      4875844    5965170              almofada para cadeira            1   \n",
       "31176     6285211    7327649  quanto custa caneca personalizada            1   \n",
       "\n",
       "       position                                              title  \\\n",
       "423           3                            trocador de comoda reto   \n",
       "11878        19  Necessaire box masculina personalizada Dia dos...   \n",
       "34479        33  Mini Porta-retrato com mensagem Louvarei ao Se...   \n",
       "8489          0          Almofada Para Cadeira De Balanço Do Papai   \n",
       "31176         0                               Caneca personalizada   \n",
       "\n",
       "                                       concatenated_tags       creation_date  \\\n",
       "423              moveis trocador comoda enxoval henrique 2017-08-24 15:59:44   \n",
       "11878                                           dia pais 2019-07-21 16:07:32   \n",
       "34479                     festividades religiosas/igreja 2018-09-08 18:38:22   \n",
       "8489                            almofada cadeira balanco 2018-05-13 17:55:56   \n",
       "31176  caneca personalizada caneca lembrancinhas mono... 2017-08-20 18:59:02   \n",
       "\n",
       "           price  weight  express_delivery  minimum_quantity  view_counts  \\\n",
       "423    130.50000   609.0                 1                 1          126   \n",
       "11878   28.36000    81.0                 1                 8           98   \n",
       "34479   12.15000     8.0                 1                10          355   \n",
       "8489   169.81001     6.0                 1                 1          186   \n",
       "31176   17.50000     9.0                 1                 4          733   \n",
       "\n",
       "       order_counts       category  \n",
       "423               7           Bebê  \n",
       "11878            15  Lembrancinhas  \n",
       "34479             1  Lembrancinhas  \n",
       "8489              0      Decoração  \n",
       "31176             0  Lembrancinhas  "
      ]
     },
     "execution_count": 4,
     "metadata": {},
     "output_type": "execute_result"
    }
   ],
   "source": [
    "df = pd.read_pickle(\"../data/train_query.pickle\")\n",
    "df.head()"
   ]
  },
  {
   "cell_type": "markdown",
   "metadata": {},
   "source": [
    "# Análise descritiva das queries"
   ]
  },
  {
   "cell_type": "code",
   "execution_count": 5,
   "metadata": {},
   "outputs": [
    {
     "data": {
      "text/plain": [
       "count    5866.000000\n",
       "mean        4.587794\n",
       "std         6.815524\n",
       "min         1.000000\n",
       "25%         1.000000\n",
       "50%         3.000000\n",
       "75%         5.000000\n",
       "max       106.000000\n",
       "Name: query, dtype: float64"
      ]
     },
     "execution_count": 5,
     "metadata": {},
     "output_type": "execute_result"
    }
   ],
   "source": [
    "query_counts = df[\"query\"].value_counts()\n",
    "query_counts.describe()"
   ]
  },
  {
   "cell_type": "code",
   "execution_count": 6,
   "metadata": {},
   "outputs": [
    {
     "data": {
      "text/plain": [
       "count    26912.000000\n",
       "mean        16.906622\n",
       "std         11.620276\n",
       "min          0.000000\n",
       "25%          6.000000\n",
       "50%         16.000000\n",
       "75%         27.000000\n",
       "max         38.000000\n",
       "Name: position, dtype: float64"
      ]
     },
     "execution_count": 6,
     "metadata": {},
     "output_type": "execute_result"
    }
   ],
   "source": [
    "df[\"position\"].describe()"
   ]
  },
  {
   "cell_type": "markdown",
   "metadata": {},
   "source": [
    "Comparando com os dados de posição com os resultados da busca, vemos que\n",
    "talvez tenhamos algumas inconsistências. Se até 25% das queries possuem apenas\n",
    "um resultado, seria esperado que até esse mesmo percentual tivessemos resultados\n",
    "de 0 posição (se o resultado é único ele também deve ser o primeiro).\n",
    "\n",
    "Essa discrepancia pode ser originada da divisão dos dados entre treinamento e\n",
    "teste. Porém, essa hipótese me parece pouco provável. O mais provável seria\n",
    "que os nossos dados são apenas uma amostra dos resultados das queries agregadas.\n",
    "Com isso, o fato de uma query aparecer pouco não é indicativo dela ter poucos\n",
    "resultados, mas sim dela ser realizada poucas vezes."
   ]
  },
  {
   "cell_type": "code",
   "execution_count": 7,
   "metadata": {},
   "outputs": [
    {
     "data": {
      "text/plain": [
       "5866"
      ]
     },
     "execution_count": 7,
     "metadata": {},
     "output_type": "execute_result"
    }
   ],
   "source": [
    "query_counts.shape[0]"
   ]
  },
  {
   "cell_type": "code",
   "execution_count": 8,
   "metadata": {},
   "outputs": [
    {
     "data": {
      "text/plain": [
       "559"
      ]
     },
     "execution_count": 8,
     "metadata": {},
     "output_type": "execute_result"
    }
   ],
   "source": [
    "(query_counts >= 10).sum()"
   ]
  },
  {
   "cell_type": "code",
   "execution_count": 9,
   "metadata": {},
   "outputs": [
    {
     "data": {
      "text/plain": [
       "0.41152645659928655"
      ]
     },
     "execution_count": 9,
     "metadata": {},
     "output_type": "execute_result"
    }
   ],
   "source": [
    "query_with_more_results = query_counts.index[(query_counts >= 10)]\n",
    "results_from_selc_queries = df[\"query\"].isin(query_with_more_results)\n",
    "results_from_selc_queries.mean()"
   ]
  },
  {
   "cell_type": "markdown",
   "metadata": {},
   "source": [
    "Com isso vemos que menos que 10% das queries possuem mais de 10 resultados.\n",
    "Esse fator pode prejudicar a nossa capacidade de avaliar a recuperação de 10\n",
    "resultados a partir da informação de uma query. Mas apesar de compreender uma\n",
    "pequena parcela dos dados, essas queries representam mais que 40% dos dados.\n",
    "\n",
    "Ainda assim, perder quase 60% dos resultados de query não é um resultado muito\n",
    "bom."
   ]
  },
  {
   "cell_type": "code",
   "execution_count": 10,
   "metadata": {},
   "outputs": [
    {
     "data": {
      "text/plain": [
       "Bebê                  3.21\n",
       "Bijuterias e Jóias   -0.82\n",
       "Decoração            -7.00\n",
       "Lembrancinhas         7.65\n",
       "Outros               -1.53\n",
       "Papel e Cia          -1.49\n",
       "Name: category, dtype: float64"
      ]
     },
     "execution_count": 10,
     "metadata": {},
     "output_type": "execute_result"
    }
   ],
   "source": [
    "# fazendo a diferença entre as distribuições das catgorias nos dados completos\n",
    "# e nos dados com apenas as queries mais frequentes.\n",
    "(df[results_from_selc_queries][\"category\"].\n",
    " value_counts(normalize=True).\n",
    " sort_index().mul(100).round(2).\n",
    " sub(df[\"category\"].\n",
    "     value_counts(normalize=True).\n",
    "     sort_index().mul(100).round(2)))"
   ]
  },
  {
   "cell_type": "markdown",
   "metadata": {},
   "source": [
    "Um impacto adicional é a mudança na distribuição das categorias. Essa mudança\n",
    "acaba sendo mais acentuada para as categorias de lembrancinhas e decoração com\n",
    "uma diferença de aproximadamente 7p.p. em cada uma. Com isso, talvez seja\n",
    "interessante adicionar os dados de teste aos dados de treinamento para\n",
    "aumentar a quantidade de nossos dados e com isso, talvez aumentar a proporção\n",
    "total de dados que tenham queries associadas a pelo menos 10 resultados. Por\n",
    "hora vamos ser conservadores e manter os datasets separados. Dependendo da\n",
    "técnica de ranqueamento utilizado os dados de testes ainda podem ser úteis\n",
    "para avaliar a capacidade de generalização dos sistema de recomendação."
   ]
  },
  {
   "cell_type": "code",
   "execution_count": 11,
   "metadata": {},
   "outputs": [
    {
     "data": {
      "image/png": "[encoded data removed]",
      "text/plain": [
       "<Figure size 432x288 with 1 Axes>"
      ]
     },
     "metadata": {
      "needs_background": "light"
     },
     "output_type": "display_data"
    }
   ],
   "source": [
    "df[\"query\"].apply(len).hist()\n",
    "plt.show()"
   ]
  },
  {
   "cell_type": "code",
   "execution_count": 12,
   "metadata": {},
   "outputs": [
    {
     "data": {
      "text/html": [
       "<div>\n",
       "<style scoped>\n",
       "    .dataframe tbody tr th:only-of-type {\n",
       "        vertical-align: middle;\n",
       "    }\n",
       "\n",
       "    .dataframe tbody tr th {\n",
       "        vertical-align: top;\n",
       "    }\n",
       "\n",
       "    .dataframe thead th {\n",
       "        text-align: right;\n",
       "    }\n",
       "</style>\n",
       "<table border=\"1\" class=\"dataframe\">\n",
       "  <thead>\n",
       "    <tr style=\"text-align: right;\">\n",
       "      <th></th>\n",
       "      <th>product_id</th>\n",
       "      <th>seller_id</th>\n",
       "      <th>query</th>\n",
       "      <th>search_page</th>\n",
       "      <th>position</th>\n",
       "      <th>title</th>\n",
       "      <th>concatenated_tags</th>\n",
       "      <th>creation_date</th>\n",
       "      <th>price</th>\n",
       "      <th>weight</th>\n",
       "      <th>express_delivery</th>\n",
       "      <th>minimum_quantity</th>\n",
       "      <th>view_counts</th>\n",
       "      <th>order_counts</th>\n",
       "      <th>category</th>\n",
       "    </tr>\n",
       "  </thead>\n",
       "  <tbody>\n",
       "    <tr>\n",
       "      <th>35036</th>\n",
       "      <td>4587169</td>\n",
       "      <td>9485878</td>\n",
       "      <td>l</td>\n",
       "      <td>1</td>\n",
       "      <td>1</td>\n",
       "      <td>Convite L.O.L Surprise com Envelope</td>\n",
       "      <td>l.o.l surprise convites</td>\n",
       "      <td>2018-02-11 14:15:02</td>\n",
       "      <td>11.34</td>\n",
       "      <td>7.0</td>\n",
       "      <td>1</td>\n",
       "      <td>16</td>\n",
       "      <td>106</td>\n",
       "      <td>0</td>\n",
       "      <td>Papel e Cia</td>\n",
       "    </tr>\n",
       "    <tr>\n",
       "      <th>22539</th>\n",
       "      <td>9877776</td>\n",
       "      <td>5345324</td>\n",
       "      <td>jw</td>\n",
       "      <td>1</td>\n",
       "      <td>26</td>\n",
       "      <td>Caneca Congresso Internacional Brazil - O amor...</td>\n",
       "      <td>presentes jw congresso</td>\n",
       "      <td>2019-06-12 09:33:08</td>\n",
       "      <td>45.36</td>\n",
       "      <td>606.0</td>\n",
       "      <td>0</td>\n",
       "      <td>0</td>\n",
       "      <td>548</td>\n",
       "      <td>33</td>\n",
       "      <td>Lembrancinhas</td>\n",
       "    </tr>\n",
       "  </tbody>\n",
       "</table>\n",
       "</div>"
      ],
      "text/plain": [
       "       product_id  seller_id query  search_page  position  \\\n",
       "35036     4587169    9485878     l            1         1   \n",
       "22539     9877776    5345324    jw            1        26   \n",
       "\n",
       "                                                   title  \\\n",
       "35036                Convite L.O.L Surprise com Envelope   \n",
       "22539  Caneca Congresso Internacional Brazil - O amor...   \n",
       "\n",
       "             concatenated_tags       creation_date  price  weight  \\\n",
       "35036  l.o.l surprise convites 2018-02-11 14:15:02  11.34     7.0   \n",
       "22539   presentes jw congresso 2019-06-12 09:33:08  45.36   606.0   \n",
       "\n",
       "       express_delivery  minimum_quantity  view_counts  order_counts  \\\n",
       "35036                 1                16          106             0   \n",
       "22539                 0                 0          548            33   \n",
       "\n",
       "            category  \n",
       "35036    Papel e Cia  \n",
       "22539  Lembrancinhas  "
      ]
     },
     "execution_count": 12,
     "metadata": {},
     "output_type": "execute_result"
    }
   ],
   "source": [
    "df[df[\"query\"].apply(len) <= 2]"
   ]
  },
  {
   "cell_type": "markdown",
   "metadata": {},
   "source": [
    "Ao avaliar a distribuição do tamanho das queries vemos que não há grandes\n",
    "problemas com as queries. Sua média é próxima de 20 e não temos nenhum registro\n",
    "de query cujo tamanho seja 0, o que seria uma query vazia. Porém foram\n",
    "identificados duas queries com tamanho menor ou igual a 2 que parecem que foram\n",
    "erros de digitação. Para melhorar a qualidade dos dados esses registros serão\n",
    "eliminados."
   ]
  },
  {
   "cell_type": "code",
   "execution_count": 13,
   "metadata": {},
   "outputs": [
    {
     "data": {
      "text/html": [
       "<div>\n",
       "<style scoped>\n",
       "    .dataframe tbody tr th:only-of-type {\n",
       "        vertical-align: middle;\n",
       "    }\n",
       "\n",
       "    .dataframe tbody tr th {\n",
       "        vertical-align: top;\n",
       "    }\n",
       "\n",
       "    .dataframe thead th {\n",
       "        text-align: right;\n",
       "    }\n",
       "</style>\n",
       "<table border=\"1\" class=\"dataframe\">\n",
       "  <thead>\n",
       "    <tr style=\"text-align: right;\">\n",
       "      <th></th>\n",
       "      <th>product_id</th>\n",
       "      <th>seller_id</th>\n",
       "      <th>query</th>\n",
       "      <th>search_page</th>\n",
       "      <th>position</th>\n",
       "      <th>title</th>\n",
       "      <th>concatenated_tags</th>\n",
       "      <th>creation_date</th>\n",
       "      <th>price</th>\n",
       "      <th>weight</th>\n",
       "      <th>express_delivery</th>\n",
       "      <th>minimum_quantity</th>\n",
       "      <th>view_counts</th>\n",
       "      <th>order_counts</th>\n",
       "      <th>category</th>\n",
       "    </tr>\n",
       "  </thead>\n",
       "  <tbody>\n",
       "  </tbody>\n",
       "</table>\n",
       "</div>"
      ],
      "text/plain": [
       "Empty DataFrame\n",
       "Columns: [product_id, seller_id, query, search_page, position, title, concatenated_tags, creation_date, price, weight, express_delivery, minimum_quantity, view_counts, order_counts, category]\n",
       "Index: []"
      ]
     },
     "execution_count": 13,
     "metadata": {},
     "output_type": "execute_result"
    }
   ],
   "source": [
    "df = df.loc[~(df[\"query\"].apply(len) <= 2)]\n",
    "df[df[\"query\"].apply(len) <= 2]"
   ]
  },
  {
   "cell_type": "markdown",
   "metadata": {},
   "source": [
    "# Ranqueamento por distância de edição\n",
    "\n",
    "Para obter recuperar produtos a partir de queries vamos utilizar em um primeiro\n",
    "modelo de ranqueamento um modelo de distância de edição (Distância Levenshtein).\n",
    "Essa é uma distância que mede um número mínimo de operações necessárias para \n",
    "transformar um string em outro.\n",
    "\n",
    "A vantagem dessa medida de distância para o ranqueamento é que ela não depende\n",
    "do treinamento de um modelo para sua execução. Dessa forma, são capazes de\n",
    "ser aplicadas mesmo quando na query temos expressões completamente nova. Por\n",
    "ter aplicabilidade abrangente esse método será o base para nossa comporação.\n",
    "\n",
    "Por padrão vamos aplicar essa medida de distância sobre o título dos produtos.\n",
    "Antes de fazer a comparação tanto a query quanto os títulos vão ser padronizados\n",
    "utilizados as funções de pré-processamento desenvolvidas na etapa anterior."
   ]
  },
  {
   "cell_type": "code",
   "execution_count": 14,
   "metadata": {},
   "outputs": [],
   "source": [
    "def preprocess_txt(txt: str):\n",
    "    cleaned_txt = nlp_preprocessing.clean_text(txt)\n",
    "    token_txt = nlp_preprocessing.custom_tokenizer(cleaned_txt)\n",
    "    return \" \".join(token_txt)"
   ]
  },
  {
   "cell_type": "code",
   "execution_count": 15,
   "metadata": {},
   "outputs": [],
   "source": [
    "def get_top_docs(query, cleaned_doc_list, doc_titles, get_titles=True):\n",
    "    cleaned_query = preprocess_txt(query)\n",
    "    dists = [Levenshtein.distance(cleaned_query, doc)\n",
    "             for doc in cleaned_doc_list]\n",
    "\n",
    "    mask = np.array(dists).argsort()[:10]\n",
    "    if get_titles:\n",
    "        return doc_titles.iloc[mask].tolist()\n",
    "    else:\n",
    "        return doc_titles.iloc[mask].index.tolist()"
   ]
  },
  {
   "cell_type": "code",
   "execution_count": 16,
   "metadata": {},
   "outputs": [],
   "source": [
    "prod_titles = df[[\"product_id\", \"title\"]].drop_duplicates().set_index(\"product_id\")[\"title\"]\n",
    "cleaned_prod_titles = [preprocess_txt(txt) for txt in prod_titles]"
   ]
  },
  {
   "cell_type": "code",
   "execution_count": 17,
   "metadata": {},
   "outputs": [
    {
     "data": {
      "text/plain": [
       "['Ursinhos de pelucia',\n",
       " 'Tecido de Pelúcia 1,60mt x 0,50cm',\n",
       " 'Ursinha Feltro',\n",
       " 'Tecido de Pelúcia 1,60mt x 0,50cm',\n",
       " 'URSINHOS DE TECIDOS',\n",
       " 'Mini Ursinho de pelúcia',\n",
       " 'Ursinho Panda',\n",
       " 'Urso de crochê',\n",
       " 'Colar Relicário',\n",
       " 'BOLA MALUCA']"
      ]
     },
     "execution_count": 17,
     "metadata": {},
     "output_type": "execute_result"
    }
   ],
   "source": [
    "query = \"Urso de pelúcia\"\n",
    "get_top_docs(query, cleaned_prod_titles, prod_titles)"
   ]
  },
  {
   "cell_type": "markdown",
   "metadata": {},
   "source": [
    "# Métrica de avaliação\n",
    "\n",
    "Para conseguir fazer a avaliação antes precisamos estabelecer um benchmark\n",
    "de comparação. O objetivo do ranqueamento é obter 10 produtos mais semelhantes\n",
    "em relação à query feita. Com isso é bastante útil que tenhamos para comparar\n",
    "queries com 10 resultados. Dessa forma, toda query com menos de 10 resultados\n",
    "precisam ser eliminadas da comparação. Adicionalmente, as queries que tenham\n",
    "mais de 10 resultados precisam ter apenas 10 selecionados."
   ]
  },
  {
   "cell_type": "code",
   "execution_count": 18,
   "metadata": {},
   "outputs": [],
   "source": [
    "def get_top_pos(df):\n",
    "    position_rank = df[\"position\"].values.argsort()[:10]\n",
    "    return df[\"title\"].iloc[position_rank].tolist()\n",
    "\n",
    "def gen_query_results_benchmark(df):\n",
    "    # remover querys com menos de 10 resultados\n",
    "    query_counts = df[\"query\"].value_counts()\n",
    "    frequent_queries = query_counts.index[query_counts >= 10]\n",
    "    df = df.loc[df[\"query\"].isin(frequent_queries)]\n",
    "    return df.groupby(\"query\").apply(get_top_pos)"
   ]
  },
  {
   "cell_type": "code",
   "execution_count": 19,
   "metadata": {},
   "outputs": [
    {
     "data": {
      "text/plain": [
       "query\n",
       "15 anos                             [Lápis personalizado 15 anos, ALMOCHAVEIRO PER...\n",
       "abajur                              [Abajur de Laço Provençal - Abajur Menina- Aba...\n",
       "abridor de garrafa personalizado    [KIT COM 30 CHAV.ABRIDOR DE GARRAFA PERSONALIZ...\n",
       "adega                               [Mini Adega, Adega de Vinho de Parede com Port...\n",
       "adesivo box banheiro                [ADESIVO BOX DE BANHEIRO, Adesivo Para Box De ...\n",
       "                                                          ...                        \n",
       "vela lembrancinha                   [Lembrancinha Batizado Potinho de Vela, Lembra...\n",
       "vestido batizado                    [Vestido Batizado e toalha bordada, Vestido ba...\n",
       "vestido em croche para bebe         [vestido e sapatinho de croche para bebê, vest...\n",
       "vingadores                          [Mochilinha Os Vingadores, Forminha Os Vingado...\n",
       "xicara para cafe personalizada      [Xicara de cafe personalizada, Xícaras de café...\n",
       "Length: 559, dtype: object"
      ]
     },
     "execution_count": 19,
     "metadata": {},
     "output_type": "execute_result"
    }
   ],
   "source": [
    "query_results = gen_query_results_benchmark(df)\n",
    "query_results"
   ]
  },
  {
   "cell_type": "code",
   "execution_count": 20,
   "metadata": {},
   "outputs": [],
   "source": [
    "for query in [\"adega\", \"15 anos\", \"xicara para cafe personalizada\"]:\n",
    "    assert (df.loc[df[\"query\"] == query, [\"title\", \"position\"]].\n",
    "            sort_values(\"position\").\n",
    "            head(10)[\"title\"].tolist()) == query_results.loc[query]"
   ]
  },
  {
   "cell_type": "code",
   "execution_count": 21,
   "metadata": {},
   "outputs": [
    {
     "data": {
      "text/plain": [
       "True"
      ]
     },
     "execution_count": 21,
     "metadata": {},
     "output_type": "execute_result"
    }
   ],
   "source": [
    "(query_results.apply(len) == 10).all()"
   ]
  },
  {
   "cell_type": "markdown",
   "metadata": {},
   "source": [
    "Para simplificar a comparaçao entre as duas listas, vamos ignorar a posição de\n",
    "cada elemento. Vamos tratar o problema como uma comparação de dois conjuntos.\n",
    "Dessa forma, estamos adotando um critério menos rigoroso do que se considerássemos\n",
    "estritamente as posições. Como ambos os conjuntos possuem a mesma quantidade de\n",
    "elementos podemos calcular essa métrica como sendo apenas o percentual de\n",
    "registros que ambos tem como interseção."
   ]
  },
  {
   "cell_type": "code",
   "execution_count": 22,
   "metadata": {},
   "outputs": [],
   "source": [
    "def query_score(y_true, y_pred):\n",
    "    inter = len(set(y_true).intersection(set(y_pred)))\n",
    "        \n",
    "    return inter / len(y_true)"
   ]
  },
  {
   "cell_type": "markdown",
   "metadata": {},
   "source": [
    "# Avaliando o matching por distância de edição."
   ]
  },
  {
   "cell_type": "code",
   "execution_count": 23,
   "metadata": {},
   "outputs": [
    {
     "data": {
      "text/html": [
       "<div>\n",
       "<style scoped>\n",
       "    .dataframe tbody tr th:only-of-type {\n",
       "        vertical-align: middle;\n",
       "    }\n",
       "\n",
       "    .dataframe tbody tr th {\n",
       "        vertical-align: top;\n",
       "    }\n",
       "\n",
       "    .dataframe thead th {\n",
       "        text-align: right;\n",
       "    }\n",
       "</style>\n",
       "<table border=\"1\" class=\"dataframe\">\n",
       "  <thead>\n",
       "    <tr style=\"text-align: right;\">\n",
       "      <th></th>\n",
       "      <th>true</th>\n",
       "      <th>pred</th>\n",
       "      <th>score</th>\n",
       "    </tr>\n",
       "    <tr>\n",
       "      <th>query</th>\n",
       "      <th></th>\n",
       "      <th></th>\n",
       "      <th></th>\n",
       "    </tr>\n",
       "  </thead>\n",
       "  <tbody>\n",
       "    <tr>\n",
       "      <th>15 anos</th>\n",
       "      <td>[Lápis personalizado 15 anos, ALMOCHAVEIRO PER...</td>\n",
       "      <td>[MEUS 15 ANOS, Anjo, Naninha, Naninha, Naninha...</td>\n",
       "      <td>0.0</td>\n",
       "    </tr>\n",
       "    <tr>\n",
       "      <th>abajur</th>\n",
       "      <td>[Abajur de Laço Provençal - Abajur Menina- Aba...</td>\n",
       "      <td>[Abajur, Abajur, Abajur, Abajur, Flâmula, Anjo...</td>\n",
       "      <td>0.1</td>\n",
       "    </tr>\n",
       "    <tr>\n",
       "      <th>abridor de garrafa personalizado</th>\n",
       "      <td>[KIT COM 30 CHAV.ABRIDOR DE GARRAFA PERSONALIZ...</td>\n",
       "      <td>[abridor de garrafa personalizado, Mini garraf...</td>\n",
       "      <td>0.2</td>\n",
       "    </tr>\n",
       "    <tr>\n",
       "      <th>adega</th>\n",
       "      <td>[Mini Adega, Adega de Vinho de Parede com Port...</td>\n",
       "      <td>[ADESIVOS 5X5, ADESIVOS 3X3, Regador-P, Agenda...</td>\n",
       "      <td>0.0</td>\n",
       "    </tr>\n",
       "    <tr>\n",
       "      <th>adesivo box banheiro</th>\n",
       "      <td>[ADESIVO BOX DE BANHEIRO, Adesivo Para Box De ...</td>\n",
       "      <td>[Adesivo Para Box De Banheiro 3D Seria 07, Ade...</td>\n",
       "      <td>0.2</td>\n",
       "    </tr>\n",
       "  </tbody>\n",
       "</table>\n",
       "</div>"
      ],
      "text/plain": [
       "                                                                               true  \\\n",
       "query                                                                                 \n",
       "15 anos                           [Lápis personalizado 15 anos, ALMOCHAVEIRO PER...   \n",
       "abajur                            [Abajur de Laço Provençal - Abajur Menina- Aba...   \n",
       "abridor de garrafa personalizado  [KIT COM 30 CHAV.ABRIDOR DE GARRAFA PERSONALIZ...   \n",
       "adega                             [Mini Adega, Adega de Vinho de Parede com Port...   \n",
       "adesivo box banheiro              [ADESIVO BOX DE BANHEIRO, Adesivo Para Box De ...   \n",
       "\n",
       "                                                                               pred  \\\n",
       "query                                                                                 \n",
       "15 anos                           [MEUS 15 ANOS, Anjo, Naninha, Naninha, Naninha...   \n",
       "abajur                            [Abajur, Abajur, Abajur, Abajur, Flâmula, Anjo...   \n",
       "abridor de garrafa personalizado  [abridor de garrafa personalizado, Mini garraf...   \n",
       "adega                             [ADESIVOS 5X5, ADESIVOS 3X3, Regador-P, Agenda...   \n",
       "adesivo box banheiro              [Adesivo Para Box De Banheiro 3D Seria 07, Ade...   \n",
       "\n",
       "                                  score  \n",
       "query                                    \n",
       "15 anos                             0.0  \n",
       "abajur                              0.1  \n",
       "abridor de garrafa personalizado    0.2  \n",
       "adega                               0.0  \n",
       "adesivo box banheiro                0.2  "
      ]
     },
     "execution_count": 23,
     "metadata": {},
     "output_type": "execute_result"
    }
   ],
   "source": [
    "results_list = list()\n",
    "for query in query_results.index:\n",
    "    query_pred = get_top_docs(query, cleaned_prod_titles, prod_titles)\n",
    "    query_true = query_results.loc[query]\n",
    "    \n",
    "    results = {\n",
    "        \"query\": query,\n",
    "        \"true\": query_true,\n",
    "        \"pred\": query_pred,\n",
    "        \"score\": query_score(query_true, query_pred),\n",
    "    }\n",
    "    results_list.append(results)\n",
    "\n",
    "results_df = pd.DataFrame(results_list).set_index(\"query\")\n",
    "results_df.head()"
   ]
  },
  {
   "cell_type": "code",
   "execution_count": 24,
   "metadata": {},
   "outputs": [
    {
     "data": {
      "text/plain": [
       "0.15617173524150268"
      ]
     },
     "execution_count": 24,
     "metadata": {},
     "output_type": "execute_result"
    }
   ],
   "source": [
    "results_df[\"score\"].mean()"
   ]
  },
  {
   "cell_type": "markdown",
   "metadata": {},
   "source": [
    "# Identificando os itens e obtendo a classificação majoritária\n",
    "\n",
    "Nessa etapa vamos reproduzir o processo necessário para gerar o resultado\n",
    "final, a união entre o classificador e o sistema de recomendações. Isso quer\n",
    "dizer que dada uma query, uma lista de títulos será obtida e desses, serão\n",
    "identificadas a categoria majoritária. Por fim, serão printados a categoria\n",
    "e os pares de id e título resultantes da recomendação."
   ]
  },
  {
   "cell_type": "code",
   "execution_count": 25,
   "metadata": {},
   "outputs": [],
   "source": [
    "# função necessária para o funcionamento do pipeline\n",
    "def select_txt(X: pd.DataFrame, col: str):\n",
    "    return X[col]\n",
    "    \n",
    "# função necessária para o funcionamento do pipeline\n",
    "def select_base_features(X: pd.DataFrame):\n",
    "    return X[[\"price\", \"weight\", \"minimum_quantity\"]]\n",
    "\n",
    "# carregando o pipeline\n",
    "clf_pipeline = joblib.load(\"../assets/category_rf_clf_pipeline.joblib\")"
   ]
  },
  {
   "cell_type": "code",
   "execution_count": 26,
   "metadata": {},
   "outputs": [],
   "source": [
    "def series_mode(serie: pd.Series):\n",
    "    return stats.mode(serie)[0][0]\n",
    "\n",
    "def remove_duplicates(df, group=\"product_id\",\n",
    "                      num_cols=[\"price\", \"weight\", \"minimum_quantity\"],\n",
    "                      cat_cols=[\"title\", \"concatenated_tags\"]) -> pd.DataFrame:\n",
    "    \n",
    "    mode_stats = {col: series_mode for col in cat_cols}\n",
    "    mean_stats = {col: \"mean\" for col in num_cols}\n",
    "    agg_stats = dict(**mode_stats, **mean_stats)\n",
    "    return df.groupby(group).agg(agg_stats)"
   ]
  },
  {
   "cell_type": "code",
   "execution_count": 27,
   "metadata": {},
   "outputs": [
    {
     "name": "stdout",
     "output_type": "stream",
     "text": [
      "Lembrancinhas\n",
      "2214077 - Abridor de garrafa - Padrinhos\n",
      "2327835 - Garrafinha personalizada\n",
      "3065747 - Garrafinha de 51 Personalizada\n",
      "4970052 - Abridor de garrafa tampa personalizado\n",
      "7767594 - abridor de garrafa personalizado\n",
      "8192312 - Garrafinha Personalizada\n",
      "12162214 - Garrafinha Personalizada\n",
      "12873608 - Garrafinha Personalizada\n",
      "13077505 - Mini garrafinha personalizada\n",
      "13134048 - Garrafinhas Personalizadas\n"
     ]
    }
   ],
   "source": [
    "query = \"abridor de garrafa personalizado\"\n",
    "prod_id_list = get_top_docs(query, cleaned_prod_titles, prod_titles, False)\n",
    "\n",
    "selected_df = remove_duplicates(df.loc[df[\"product_id\"].isin(prod_id_list)])\n",
    "major_cat = stats.mode(clf_pipeline.predict(selected_df))[0][0]\n",
    "print(major_cat)\n",
    "for _id, title in selected_df[\"title\"].iteritems():\n",
    "    print(f\"{_id} - {title}\")"
   ]
  }
 ],
 "metadata": {
  "interpreter": {
   "hash": "46c0bb3b8e63a95c204f7a1a105596c1673bb87538bedee3505b8c3e2a065390"
  },
  "kernelspec": {
   "display_name": "Python 3.9.6 ('product_recommender-qoUF0oDD')",
   "language": "python",
   "name": "python3"
  },
  "language_info": {
   "codemirror_mode": {
    "name": "ipython",
    "version": 3
   },
   "file_extension": ".py",
   "mimetype": "text/x-python",
   "name": "python",
   "nbconvert_exporter": "python",
   "pygments_lexer": "ipython3",
   "version": "3.9.6"
  },
  "orig_nbformat": 4
 },
 "nbformat": 4,
 "nbformat_minor": 2
}
