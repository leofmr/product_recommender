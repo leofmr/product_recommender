{
 "cells": [
  {
   "cell_type": "code",
   "execution_count": 1,
   "id": "eecbbfda-b93f-44b1-9665-ee2f79897772",
   "metadata": {},
   "outputs": [],
   "source": [
    "import pandas as pd\n",
    "import numpy as np\n",
    "import matplotlib.pyplot as plt\n",
    "import Levenshtein\n",
    "import seaborn as sns"
   ]
  },
  {
   "cell_type": "code",
   "execution_count": 33,
   "id": "2e4bce10-14e6-435c-9c1c-b96361047e91",
   "metadata": {},
   "outputs": [],
   "source": [
    "from sklearn.linear_model import LinearRegression, LogisticRegression\n",
    "from sklearn.model_selection import cross_val_score\n",
    "from sklearn.feature_extraction.text import TfidfVectorizer\n",
    "from sklearn.metrics.pairwise import cosine_distances\n",
    "from sklearn.tree import DecisionTreeClassifier, DecisionTreeRegressor"
   ]
  },
  {
   "cell_type": "code",
   "execution_count": 3,
   "id": "ca122f53-4ec3-4d7d-8bdb-3906eaf21dbc",
   "metadata": {},
   "outputs": [],
   "source": [
    "from pathlib import Path\n",
    "import sys\n",
    "\n",
    "main_path = str(Path().resolve().parent)\n",
    "sys.path.append(main_path)"
   ]
  },
  {
   "cell_type": "code",
   "execution_count": 4,
   "id": "b645c203-22a9-437c-8f3a-88a5eb388624",
   "metadata": {},
   "outputs": [],
   "source": [
    "# carregando as funções de preprocessamento nlp do notebook de\n",
    "# análise de produto, essas funções foram adicionadas nesse modulo\n",
    "from src import nlp_preprocessing"
   ]
  },
  {
   "cell_type": "markdown",
   "id": "7fe094fe-c4b7-491e-9849-8d4f9c03a8ac",
   "metadata": {},
   "source": [
    "# Carregando os dados"
   ]
  },
  {
   "cell_type": "markdown",
   "id": "f0342682-8bad-4ddb-ac0c-6b7c7a66cf4e",
   "metadata": {},
   "source": [
    "Carregando os dados de queries"
   ]
  },
  {
   "cell_type": "code",
   "execution_count": 5,
   "id": "17d37154-c6ae-4e59-b193-fc7e036640f1",
   "metadata": {},
   "outputs": [
    {
     "data": {
      "text/html": [
       "<div>\n",
       "<style scoped>\n",
       "    .dataframe tbody tr th:only-of-type {\n",
       "        vertical-align: middle;\n",
       "    }\n",
       "\n",
       "    .dataframe tbody tr th {\n",
       "        vertical-align: top;\n",
       "    }\n",
       "\n",
       "    .dataframe thead th {\n",
       "        text-align: right;\n",
       "    }\n",
       "</style>\n",
       "<table border=\"1\" class=\"dataframe\">\n",
       "  <thead>\n",
       "    <tr style=\"text-align: right;\">\n",
       "      <th></th>\n",
       "      <th>product_id</th>\n",
       "      <th>seller_id</th>\n",
       "      <th>query</th>\n",
       "      <th>search_page</th>\n",
       "      <th>position</th>\n",
       "      <th>title</th>\n",
       "      <th>concatenated_tags</th>\n",
       "      <th>creation_date</th>\n",
       "      <th>price</th>\n",
       "      <th>weight</th>\n",
       "      <th>express_delivery</th>\n",
       "      <th>minimum_quantity</th>\n",
       "      <th>view_counts</th>\n",
       "      <th>order_counts</th>\n",
       "      <th>category</th>\n",
       "    </tr>\n",
       "  </thead>\n",
       "  <tbody>\n",
       "    <tr>\n",
       "      <th>423</th>\n",
       "      <td>14710443</td>\n",
       "      <td>15837</td>\n",
       "      <td>trocador de comoda</td>\n",
       "      <td>1</td>\n",
       "      <td>3</td>\n",
       "      <td>trocador de comoda reto</td>\n",
       "      <td>moveis trocador comoda enxoval henrique</td>\n",
       "      <td>2017-08-24 15:59:44</td>\n",
       "      <td>130.50000</td>\n",
       "      <td>609.0</td>\n",
       "      <td>1</td>\n",
       "      <td>1</td>\n",
       "      <td>126</td>\n",
       "      <td>7</td>\n",
       "      <td>Bebê</td>\n",
       "    </tr>\n",
       "    <tr>\n",
       "      <th>11878</th>\n",
       "      <td>5013802</td>\n",
       "      <td>303463</td>\n",
       "      <td>necessaire box futebol</td>\n",
       "      <td>1</td>\n",
       "      <td>19</td>\n",
       "      <td>Necessaire box masculina personalizada Dia dos...</td>\n",
       "      <td>dia pais</td>\n",
       "      <td>2019-07-21 16:07:32</td>\n",
       "      <td>28.36000</td>\n",
       "      <td>81.0</td>\n",
       "      <td>1</td>\n",
       "      <td>8</td>\n",
       "      <td>98</td>\n",
       "      <td>15</td>\n",
       "      <td>Lembrancinhas</td>\n",
       "    </tr>\n",
       "    <tr>\n",
       "      <th>34479</th>\n",
       "      <td>8000979</td>\n",
       "      <td>3637678</td>\n",
       "      <td>lembrancinhas de eva para igreja</td>\n",
       "      <td>1</td>\n",
       "      <td>33</td>\n",
       "      <td>Mini Porta-retrato com mensagem Louvarei ao Se...</td>\n",
       "      <td>festividades religiosas/igreja</td>\n",
       "      <td>2018-09-08 18:38:22</td>\n",
       "      <td>12.15000</td>\n",
       "      <td>8.0</td>\n",
       "      <td>1</td>\n",
       "      <td>10</td>\n",
       "      <td>355</td>\n",
       "      <td>1</td>\n",
       "      <td>Lembrancinhas</td>\n",
       "    </tr>\n",
       "    <tr>\n",
       "      <th>8489</th>\n",
       "      <td>4875844</td>\n",
       "      <td>5965170</td>\n",
       "      <td>almofada para cadeira</td>\n",
       "      <td>1</td>\n",
       "      <td>0</td>\n",
       "      <td>Almofada Para Cadeira De Balanço Do Papai</td>\n",
       "      <td>almofada cadeira balanco</td>\n",
       "      <td>2018-05-13 17:55:56</td>\n",
       "      <td>169.81001</td>\n",
       "      <td>6.0</td>\n",
       "      <td>1</td>\n",
       "      <td>1</td>\n",
       "      <td>186</td>\n",
       "      <td>0</td>\n",
       "      <td>Decoração</td>\n",
       "    </tr>\n",
       "    <tr>\n",
       "      <th>31176</th>\n",
       "      <td>6285211</td>\n",
       "      <td>7327649</td>\n",
       "      <td>quanto custa caneca personalizada</td>\n",
       "      <td>1</td>\n",
       "      <td>0</td>\n",
       "      <td>Caneca personalizada</td>\n",
       "      <td>caneca personalizada caneca lembrancinhas mono...</td>\n",
       "      <td>2017-08-20 18:59:02</td>\n",
       "      <td>17.50000</td>\n",
       "      <td>9.0</td>\n",
       "      <td>1</td>\n",
       "      <td>4</td>\n",
       "      <td>733</td>\n",
       "      <td>0</td>\n",
       "      <td>Lembrancinhas</td>\n",
       "    </tr>\n",
       "  </tbody>\n",
       "</table>\n",
       "</div>"
      ],
      "text/plain": [
       "       product_id  seller_id                              query  search_page  \\\n",
       "423      14710443      15837                 trocador de comoda            1   \n",
       "11878     5013802     303463             necessaire box futebol            1   \n",
       "34479     8000979    3637678   lembrancinhas de eva para igreja            1   \n",
       "8489      4875844    5965170              almofada para cadeira            1   \n",
       "31176     6285211    7327649  quanto custa caneca personalizada            1   \n",
       "\n",
       "       position                                              title  \\\n",
       "423           3                            trocador de comoda reto   \n",
       "11878        19  Necessaire box masculina personalizada Dia dos...   \n",
       "34479        33  Mini Porta-retrato com mensagem Louvarei ao Se...   \n",
       "8489          0          Almofada Para Cadeira De Balanço Do Papai   \n",
       "31176         0                               Caneca personalizada   \n",
       "\n",
       "                                       concatenated_tags       creation_date  \\\n",
       "423              moveis trocador comoda enxoval henrique 2017-08-24 15:59:44   \n",
       "11878                                           dia pais 2019-07-21 16:07:32   \n",
       "34479                     festividades religiosas/igreja 2018-09-08 18:38:22   \n",
       "8489                            almofada cadeira balanco 2018-05-13 17:55:56   \n",
       "31176  caneca personalizada caneca lembrancinhas mono... 2017-08-20 18:59:02   \n",
       "\n",
       "           price  weight  express_delivery  minimum_quantity  view_counts  \\\n",
       "423    130.50000   609.0                 1                 1          126   \n",
       "11878   28.36000    81.0                 1                 8           98   \n",
       "34479   12.15000     8.0                 1                10          355   \n",
       "8489   169.81001     6.0                 1                 1          186   \n",
       "31176   17.50000     9.0                 1                 4          733   \n",
       "\n",
       "       order_counts       category  \n",
       "423               7           Bebê  \n",
       "11878            15  Lembrancinhas  \n",
       "34479             1  Lembrancinhas  \n",
       "8489              0      Decoração  \n",
       "31176             0  Lembrancinhas  "
      ]
     },
     "execution_count": 5,
     "metadata": {},
     "output_type": "execute_result"
    }
   ],
   "source": [
    "df = pd.read_pickle(\"../data/train_query.pickle\")\n",
    "df.head()"
   ]
  },
  {
   "cell_type": "code",
   "execution_count": 6,
   "id": "24fd317d-b082-4d4b-a926-1f9cd91bb858",
   "metadata": {},
   "outputs": [
    {
     "data": {
      "text/plain": [
       "count    26912.000000\n",
       "mean        16.906622\n",
       "std         11.620276\n",
       "min          0.000000\n",
       "25%          6.000000\n",
       "50%         16.000000\n",
       "75%         27.000000\n",
       "max         38.000000\n",
       "Name: position, dtype: float64"
      ]
     },
     "execution_count": 6,
     "metadata": {},
     "output_type": "execute_result"
    }
   ],
   "source": [
    "df[\"position\"].describe()"
   ]
  },
  {
   "cell_type": "code",
   "execution_count": 7,
   "id": "756dcb3b-ada4-46be-8206-e95db10704d4",
   "metadata": {},
   "outputs": [
    {
     "data": {
      "image/png": "[encoded data removed]",
      "text/plain": [
       "<Figure size 864x360 with 1 Axes>"
      ]
     },
     "metadata": {
      "needs_background": "light"
     },
     "output_type": "display_data"
    }
   ],
   "source": [
    "df[\"position\"].hist(figsize=(12, 5))\n",
    "plt.show()"
   ]
  },
  {
   "cell_type": "markdown",
   "id": "96bc83a7-6378-4f6b-8ce6-24e19392d6dd",
   "metadata": {},
   "source": [
    "Nós temos mais queries nas posições iniciais porém a distribuição pode ser considerada uniforme para a posição maior que 10."
   ]
  },
  {
   "cell_type": "code",
   "execution_count": 8,
   "id": "b4e7315d-1aee-4fd3-a71f-541fbfed8522",
   "metadata": {},
   "outputs": [
    {
     "data": {
      "text/html": [
       "<div>\n",
       "<style scoped>\n",
       "    .dataframe tbody tr th:only-of-type {\n",
       "        vertical-align: middle;\n",
       "    }\n",
       "\n",
       "    .dataframe tbody tr th {\n",
       "        vertical-align: top;\n",
       "    }\n",
       "\n",
       "    .dataframe thead th {\n",
       "        text-align: right;\n",
       "    }\n",
       "</style>\n",
       "<table border=\"1\" class=\"dataframe\">\n",
       "  <thead>\n",
       "    <tr style=\"text-align: right;\">\n",
       "      <th></th>\n",
       "      <th>unique_position</th>\n",
       "      <th>freq</th>\n",
       "    </tr>\n",
       "  </thead>\n",
       "  <tbody>\n",
       "    <tr>\n",
       "      <th>count</th>\n",
       "      <td>5866.000000</td>\n",
       "      <td>5866.000000</td>\n",
       "    </tr>\n",
       "    <tr>\n",
       "      <th>mean</th>\n",
       "      <td>4.114899</td>\n",
       "      <td>4.587794</td>\n",
       "    </tr>\n",
       "    <tr>\n",
       "      <th>std</th>\n",
       "      <td>4.535971</td>\n",
       "      <td>6.815524</td>\n",
       "    </tr>\n",
       "    <tr>\n",
       "      <th>min</th>\n",
       "      <td>1.000000</td>\n",
       "      <td>1.000000</td>\n",
       "    </tr>\n",
       "    <tr>\n",
       "      <th>25%</th>\n",
       "      <td>1.000000</td>\n",
       "      <td>1.000000</td>\n",
       "    </tr>\n",
       "    <tr>\n",
       "      <th>50%</th>\n",
       "      <td>3.000000</td>\n",
       "      <td>3.000000</td>\n",
       "    </tr>\n",
       "    <tr>\n",
       "      <th>75%</th>\n",
       "      <td>5.000000</td>\n",
       "      <td>5.000000</td>\n",
       "    </tr>\n",
       "    <tr>\n",
       "      <th>max</th>\n",
       "      <td>39.000000</td>\n",
       "      <td>106.000000</td>\n",
       "    </tr>\n",
       "  </tbody>\n",
       "</table>\n",
       "</div>"
      ],
      "text/plain": [
       "       unique_position         freq\n",
       "count      5866.000000  5866.000000\n",
       "mean          4.114899     4.587794\n",
       "std           4.535971     6.815524\n",
       "min           1.000000     1.000000\n",
       "25%           1.000000     1.000000\n",
       "50%           3.000000     3.000000\n",
       "75%           5.000000     5.000000\n",
       "max          39.000000   106.000000"
      ]
     },
     "execution_count": 8,
     "metadata": {},
     "output_type": "execute_result"
    }
   ],
   "source": [
    "(df.groupby(\"query\").\n",
    " apply(lambda x: x[\"position\"].nunique()).\n",
    " to_frame(\"unique_position\").\n",
    " join(df[\"query\"].\n",
    "      value_counts().\n",
    "      rename(\"freq\")).\n",
    " describe())"
   ]
  },
  {
   "cell_type": "markdown",
   "id": "22ffd6f7-dd82-4a72-b8a0-c0ca60522c71",
   "metadata": {},
   "source": [
    "Apesar da distribuição das posições ser uniforme para as "
   ]
  },
  {
   "cell_type": "markdown",
   "id": "f7534a02-185e-403b-ab33-e04e9f56edcf",
   "metadata": {},
   "source": [
    "# Mapeando as relações"
   ]
  },
  {
   "cell_type": "code",
   "execution_count": 9,
   "id": "69363110-6f5a-42f7-aa84-2d8b3d039c9d",
   "metadata": {},
   "outputs": [
    {
     "data": {
      "text/html": [
       "<div>\n",
       "<style scoped>\n",
       "    .dataframe tbody tr th:only-of-type {\n",
       "        vertical-align: middle;\n",
       "    }\n",
       "\n",
       "    .dataframe tbody tr th {\n",
       "        vertical-align: top;\n",
       "    }\n",
       "\n",
       "    .dataframe thead th {\n",
       "        text-align: right;\n",
       "    }\n",
       "</style>\n",
       "<table border=\"1\" class=\"dataframe\">\n",
       "  <thead>\n",
       "    <tr style=\"text-align: right;\">\n",
       "      <th></th>\n",
       "      <th>view_counts</th>\n",
       "      <th>order_counts</th>\n",
       "    </tr>\n",
       "  </thead>\n",
       "  <tbody>\n",
       "    <tr>\n",
       "      <th>count</th>\n",
       "      <td>26912.000000</td>\n",
       "      <td>26912.000000</td>\n",
       "    </tr>\n",
       "    <tr>\n",
       "      <th>mean</th>\n",
       "      <td>544.630239</td>\n",
       "      <td>12.965034</td>\n",
       "    </tr>\n",
       "    <tr>\n",
       "      <th>std</th>\n",
       "      <td>1439.207487</td>\n",
       "      <td>45.933669</td>\n",
       "    </tr>\n",
       "    <tr>\n",
       "      <th>min</th>\n",
       "      <td>1.000000</td>\n",
       "      <td>0.000000</td>\n",
       "    </tr>\n",
       "    <tr>\n",
       "      <th>25%</th>\n",
       "      <td>118.000000</td>\n",
       "      <td>0.000000</td>\n",
       "    </tr>\n",
       "    <tr>\n",
       "      <th>50%</th>\n",
       "      <td>243.000000</td>\n",
       "      <td>0.000000</td>\n",
       "    </tr>\n",
       "    <tr>\n",
       "      <th>75%</th>\n",
       "      <td>519.000000</td>\n",
       "      <td>14.000000</td>\n",
       "    </tr>\n",
       "    <tr>\n",
       "      <th>max</th>\n",
       "      <td>45010.000000</td>\n",
       "      <td>2460.000000</td>\n",
       "    </tr>\n",
       "  </tbody>\n",
       "</table>\n",
       "</div>"
      ],
      "text/plain": [
       "        view_counts  order_counts\n",
       "count  26912.000000  26912.000000\n",
       "mean     544.630239     12.965034\n",
       "std     1439.207487     45.933669\n",
       "min        1.000000      0.000000\n",
       "25%      118.000000      0.000000\n",
       "50%      243.000000      0.000000\n",
       "75%      519.000000     14.000000\n",
       "max    45010.000000   2460.000000"
      ]
     },
     "execution_count": 9,
     "metadata": {},
     "output_type": "execute_result"
    }
   ],
   "source": [
    "df[[\"view_counts\", \"order_counts\"]].describe()"
   ]
  },
  {
   "cell_type": "code",
   "execution_count": 10,
   "id": "e7926434-e142-4019-bb4b-e4b2b62aa80e",
   "metadata": {},
   "outputs": [
    {
     "data": {
      "text/plain": [
       "False    17871\n",
       "True      9041\n",
       "Name: recommend, dtype: int64"
      ]
     },
     "execution_count": 10,
     "metadata": {},
     "output_type": "execute_result"
    }
   ],
   "source": [
    "df[\"recommend\"] = df[\"position\"] < 10\n",
    "df[\"recommend\"].value_counts()"
   ]
  },
  {
   "cell_type": "code",
   "execution_count": 11,
   "id": "8ed3a800-4309-4159-86be-c9a4f8da3f86",
   "metadata": {},
   "outputs": [
    {
     "data": {
      "image/png": "[encoded data removed]",
      "text/plain": [
       "<Figure size 427.625x360 with 5 Axes>"
      ]
     },
     "metadata": {
      "needs_background": "light"
     },
     "output_type": "display_data"
    }
   ],
   "source": [
    "cols = ['log_views', 'log_orders']\n",
    "df[\"log_views\"] = np.log(df[\"view_counts\"])\n",
    "df[\"log_orders\"] = np.log(df[\"order_counts\"].add(1))\n",
    "\n",
    "sns.pairplot(df[cols + [\"recommend\"]].sample(500),\n",
    "             hue=\"recommend\",\n",
    "             corner=True)\n",
    "plt.show()"
   ]
  },
  {
   "cell_type": "markdown",
   "id": "6e742b80-1919-4322-b2b6-f081a011c02c",
   "metadata": {},
   "source": [
    "# Modelando posição"
   ]
  },
  {
   "cell_type": "markdown",
   "id": "38accb1e-6a4f-4f6d-89d2-9a01eacf2e67",
   "metadata": {},
   "source": [
    "## Distancia de Edição"
   ]
  },
  {
   "cell_type": "code",
   "execution_count": 12,
   "id": "e828cb33-9dad-4412-b4ec-928cdd15bac9",
   "metadata": {},
   "outputs": [],
   "source": [
    "def relative_levenshtein(str1, str2):\n",
    "    dist = Levenshtein.distance(str1, str2)\n",
    "    normalizer = max(len(str1), len(str2))\n",
    "    return dist / normalizer"
   ]
  },
  {
   "cell_type": "code",
   "execution_count": 13,
   "id": "6614ff81-70df-4607-8d8d-48a1108858ce",
   "metadata": {},
   "outputs": [],
   "source": [
    "df[\"cleaned_title\"] = df[\"title\"].apply(nlp_preprocessing.preprocess_txt)\n",
    "df[\"cleaned_query\"] = df[\"query\"].apply(nlp_preprocessing.preprocess_txt)\n",
    "df[\"dist\"] = df.apply(lambda x: relative_levenshtein(x[\"cleaned_query\"], x[\"cleaned_title\"]), axis=1)"
   ]
  },
  {
   "cell_type": "code",
   "execution_count": 14,
   "id": "ff1e2b16-e702-4603-bdb1-08d9f716cfa4",
   "metadata": {},
   "outputs": [],
   "source": [
    "df[\"title_size\"] = df[\"cleaned_title\"].str.split().apply(len)\n",
    "df[\"query_size\"] = df[\"cleaned_query\"].str.split().apply(len)\n",
    "df[\"size_diff\"] = df[\"title_size\"] - df[\"query_size\"]"
   ]
  },
  {
   "cell_type": "code",
   "execution_count": 15,
   "id": "aded7d63-9c6a-4f9d-912c-c22be29e0849",
   "metadata": {},
   "outputs": [
    {
     "data": {
      "image/png": "[encoded data removed]",
      "text/plain": [
       "<Figure size 427.625x360 with 5 Axes>"
      ]
     },
     "metadata": {
      "needs_background": "light"
     },
     "output_type": "display_data"
    }
   ],
   "source": [
    "cols = [\"dist\", \"size_diff\"]\n",
    "sns.pairplot(df[cols + [\"recommend\"]].sample(1000),\n",
    "             hue=\"recommend\",\n",
    "             corner=True)\n",
    "plt.show()"
   ]
  },
  {
   "cell_type": "markdown",
   "id": "f67106d8-f2d6-4d1c-90b8-c24e73a975a5",
   "metadata": {},
   "source": [
    "# Distância de cosseno"
   ]
  },
  {
   "cell_type": "code",
   "execution_count": 16,
   "id": "5943a9f3-0400-4aa7-99ff-503f9e270e6f",
   "metadata": {},
   "outputs": [
    {
     "data": {
      "text/plain": [
       "TfidfVectorizer()"
      ]
     },
     "execution_count": 16,
     "metadata": {},
     "output_type": "execute_result"
    }
   ],
   "source": [
    "tfidf_vec = TfidfVectorizer()\n",
    "tfidf_vec.fit(df[\"cleaned_title\"])"
   ]
  },
  {
   "cell_type": "code",
   "execution_count": 17,
   "id": "4c800403-9741-4c66-b6aa-ff5f1d0b8ea1",
   "metadata": {},
   "outputs": [
    {
     "data": {
      "text/plain": [
       "['asdada', 'adad']"
      ]
     },
     "execution_count": 17,
     "metadata": {},
     "output_type": "execute_result"
    }
   ],
   "source": [
    "\"asdada adad\".split()"
   ]
  },
  {
   "cell_type": "code",
   "execution_count": 18,
   "id": "38234bdb-17d4-4659-942f-bf99f46f2c87",
   "metadata": {},
   "outputs": [
    {
     "data": {
      "text/plain": [
       "array(['aaj', 'aba', 'abacax', ..., 'zootecn', 'zpagett', 'zum'],\n",
       "      dtype=object)"
      ]
     },
     "execution_count": 18,
     "metadata": {},
     "output_type": "execute_result"
    }
   ],
   "source": [
    "title_dict = tfidf_vec.get_feature_names_out()\n",
    "title_dict"
   ]
  },
  {
   "cell_type": "code",
   "execution_count": 19,
   "id": "d0fcbec0-72b5-4791-b88b-d96495892b2a",
   "metadata": {},
   "outputs": [],
   "source": [
    "def check_dictionary_coverage(cleaned_query, dict_data=title_dict):\n",
    "    query_tokens_set = set(cleaned_query.split())\n",
    "    dict_data_set = set(dict_data)\n",
    "    len_query_in_dict = len(query_tokens_set.intersection(dict_data_set))\n",
    "    try:\n",
    "        return len_query_in_dict / len(query_tokens_set)\n",
    "    except ZeroDivisionError:\n",
    "        return np.nan"
   ]
  },
  {
   "cell_type": "code",
   "execution_count": 20,
   "id": "58f52309-20f8-41b5-b43a-863d83cfd8ac",
   "metadata": {},
   "outputs": [
    {
     "data": {
      "text/plain": [
       "count    26907.000000\n",
       "mean         0.989391\n",
       "std          0.072134\n",
       "min          0.000000\n",
       "25%          1.000000\n",
       "50%          1.000000\n",
       "75%          1.000000\n",
       "max          1.000000\n",
       "Name: query_in_title, dtype: float64"
      ]
     },
     "execution_count": 20,
     "metadata": {},
     "output_type": "execute_result"
    }
   ],
   "source": [
    "df[\"query_in_title\"] = df[\"cleaned_query\"].apply(check_dictionary_coverage)\n",
    "df[\"query_in_title\"].describe()"
   ]
  },
  {
   "cell_type": "code",
   "execution_count": 21,
   "id": "05421132-8a57-40ee-9cc0-866dd2a8b38d",
   "metadata": {},
   "outputs": [],
   "source": [
    "def tfidf_toarray(data, tfidf_vec=tfidf_vec):\n",
    "    return (np.asarray(tfidf_vec.\n",
    "                       transform(data).\n",
    "                       todense())[0].\n",
    "            reshape(1, -1))\n",
    "\n",
    "def compute_consine_distance(query, title):\n",
    "    query_vec = tfidf_toarray([query])\n",
    "    title_vec = tfidf_toarray([title])\n",
    "    return cosine_distances(query_vec, title_vec)[0][0]"
   ]
  },
  {
   "cell_type": "code",
   "execution_count": 22,
   "id": "8e080884-281d-43dd-b12b-23bf31533fd6",
   "metadata": {},
   "outputs": [],
   "source": [
    "df[\"cos_dist\"] = df.apply(lambda x:\n",
    "                          compute_consine_distance(x[\"cleaned_query\"],\n",
    "                                                   x[\"cleaned_title\"]),\n",
    "                          axis=1)"
   ]
  },
  {
   "cell_type": "code",
   "execution_count": 23,
   "id": "d40d9d7b-8d5b-492c-b656-f6ce5e1e5150",
   "metadata": {},
   "outputs": [
    {
     "data": {
      "text/plain": [
       "count    26912.000000\n",
       "mean         0.350657\n",
       "std          0.253231\n",
       "min          0.000000\n",
       "25%          0.161240\n",
       "50%          0.335111\n",
       "75%          0.508176\n",
       "max          1.000000\n",
       "Name: cos_dist, dtype: float64"
      ]
     },
     "execution_count": 23,
     "metadata": {},
     "output_type": "execute_result"
    }
   ],
   "source": [
    "df[\"cos_dist\"].describe()"
   ]
  },
  {
   "cell_type": "code",
   "execution_count": 25,
   "id": "01964ef0-3fdb-4396-b4c6-320093ff39c0",
   "metadata": {},
   "outputs": [
    {
     "data": {
      "image/png": "[encoded data removed]",
      "text/plain": [
       "<Figure size 427.625x360 with 1 Axes>"
      ]
     },
     "metadata": {
      "needs_background": "light"
     },
     "output_type": "display_data"
    }
   ],
   "source": [
    "sns.displot(df, x=\"cos_dist\", hue=\"recommend\", stat=\"density\")\n",
    "plt.show()"
   ]
  },
  {
   "cell_type": "code",
   "execution_count": 26,
   "id": "d1a1de16-be7c-43a8-ba8e-9267f288399b",
   "metadata": {},
   "outputs": [],
   "source": [
    "df.dropna(inplace=True)"
   ]
  },
  {
   "cell_type": "code",
   "execution_count": 27,
   "id": "b6d8dc05-4db5-48a1-9f8e-d79d29d91a3b",
   "metadata": {},
   "outputs": [],
   "source": [
    "cols = ['price', 'size_diff', 'dist', 'cos_dist', 'query_in_title']"
   ]
  },
  {
   "cell_type": "code",
   "execution_count": 50,
   "id": "9a24f4db-70a4-4f70-92d8-4c17778b61ee",
   "metadata": {},
   "outputs": [],
   "source": [
    "def test_data_modeling(X_train: pd.DataFrame, y_train: pd.Series, model, scoring) -> None:\n",
    "    \"\"\"Gera várias visualizações para avaliar o desempenho do treinamento\n",
    "\n",
    "    Args:\n",
    "        X_train (pd.DataFrame): _description_\n",
    "        y_train (pd.Series): _description_\n",
    "        model (sklearn.model): _description_\n",
    "    \"\"\"\n",
    "    \n",
    "    # treinando o modelo com validação cruzada\n",
    "    cv_score = cross_val_score(model, X_train, y_train, cv=5, n_jobs=-1,\n",
    "                               scoring=scoring)\n",
    "    mean_score = cv_score.mean()\n",
    "    std_score = cv_score.std()\n",
    "    # treinando o modelo\n",
    "    model.fit(X_train, y_train)\n",
    "    # plotando a importância dos parâmetros\n",
    "    importances = pd.Series(model.coef_[0], index=X_train.columns)\n",
    "    importances.sort_values().plot(kind=\"barh\")\n",
    "    plt.show()\n",
    "    \n",
    "    print({\"cv_mean_score\": mean_score,\n",
    "           \"cv_std_score\": std_score})"
   ]
  },
  {
   "cell_type": "code",
   "execution_count": 46,
   "id": "875672b6-c1d3-49c4-9347-e56b1fb6cb94",
   "metadata": {},
   "outputs": [],
   "source": [
    "model = LogisticRegression()\n",
    "y = \"recommend\"\n",
    "scoring = \"accuracy\""
   ]
  },
  {
   "cell_type": "code",
   "execution_count": 51,
   "id": "9ac30ca7-0e77-4d79-b301-9bb6f031a39a",
   "metadata": {},
   "outputs": [
    {
     "data": {
      "image/png": "[encoded data removed]",
      "text/plain": [
       "<Figure size 432x288 with 1 Axes>"
      ]
     },
     "metadata": {
      "needs_background": "light"
     },
     "output_type": "display_data"
    },
    {
     "name": "stdout",
     "output_type": "stream",
     "text": [
      "{'cv_mean_score': 0.6640651131460178, 'cv_std_score': 6.785924463587982e-05}\n"
     ]
    }
   ],
   "source": [
    "test_data_modeling(df[cols], df[y], model, scoring)"
   ]
  },
  {
   "cell_type": "code",
   "execution_count": 55,
   "id": "992f503a-55b7-4bb0-b8b1-a9ec5538b7a7",
   "metadata": {},
   "outputs": [],
   "source": [
    "model = LinearRegression()\n",
    "y = \"position\"\n",
    "scoring = \"neg_mean_absolute_error\""
   ]
  },
  {
   "cell_type": "code",
   "execution_count": 58,
   "id": "2d7a56fc-a765-4c0d-8587-7a419f4af337",
   "metadata": {},
   "outputs": [
    {
     "data": {
      "image/png": "[encoded data removed]",
      "text/plain": [
       "<Figure size 432x288 with 1 Axes>"
      ]
     },
     "metadata": {
      "needs_background": "light"
     },
     "output_type": "display_data"
    },
    {
     "name": "stdout",
     "output_type": "stream",
     "text": [
      "{'cv_mean_score': -9.997298233515021, 'cv_std_score': 0.12607732243613295}\n"
     ]
    }
   ],
   "source": [
    "test_data_modeling(df[cols], df[y], model, scoring)"
   ]
  }
 ],
 "metadata": {
  "kernelspec": {
   "display_name": "Python 3 (ipykernel)",
   "language": "python",
   "name": "python3"
  },
  "language_info": {
   "codemirror_mode": {
    "name": "ipython",
    "version": 3
   },
   "file_extension": ".py",
   "mimetype": "text/x-python",
   "name": "python",
   "nbconvert_exporter": "python",
   "pygments_lexer": "ipython3",
   "version": "3.9.6"
  }
 },
 "nbformat": 4,
 "nbformat_minor": 5
}
